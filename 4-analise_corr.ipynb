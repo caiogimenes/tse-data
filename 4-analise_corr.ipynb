{
 "cells": [
  {
   "cell_type": "code",
   "execution_count": 235,
   "metadata": {},
   "outputs": [],
   "source": [
    "import numpy as np\n",
    "import pandas as pd\n",
    "import re"
   ]
  },
  {
   "cell_type": "code",
   "execution_count": 236,
   "metadata": {},
   "outputs": [],
   "source": [
    "file_path = 'resultados_secao_absolutos/RICARDO_LUIS_REIS_NUNES.csv'\n",
    "data = pd.read_csv(file_path, index_col=0)\n",
    "name = file_path.split(r'/')[1].split('.')[0]"
   ]
  },
  {
   "cell_type": "code",
   "execution_count": 237,
   "metadata": {},
   "outputs": [
    {
     "data": {
      "text/html": [
       "<div>\n",
       "<style scoped>\n",
       "    .dataframe tbody tr th:only-of-type {\n",
       "        vertical-align: middle;\n",
       "    }\n",
       "\n",
       "    .dataframe tbody tr th {\n",
       "        vertical-align: top;\n",
       "    }\n",
       "\n",
       "    .dataframe thead th {\n",
       "        text-align: right;\n",
       "    }\n",
       "</style>\n",
       "<table border=\"1\" class=\"dataframe\">\n",
       "  <thead>\n",
       "    <tr style=\"text-align: right;\">\n",
       "      <th></th>\n",
       "      <th>candidato</th>\n",
       "      <th>municipio</th>\n",
       "      <th>local</th>\n",
       "      <th>zona</th>\n",
       "      <th>secao</th>\n",
       "      <th>turno</th>\n",
       "      <th>votos_recebidos</th>\n",
       "      <th>ds_grau_escolaridade_ensino_fundamental_incompleto</th>\n",
       "      <th>ds_grau_escolaridade_superior_completo</th>\n",
       "      <th>ds_grau_escolaridade_superior_incompleto</th>\n",
       "      <th>...</th>\n",
       "      <th>ds_faixa_etaria_95_a_99_anos</th>\n",
       "      <th>ds_faixa_etaria_100_anos_ou_mais</th>\n",
       "      <th>ds_faixa_etaria_90_a_94_anos</th>\n",
       "      <th>ds_faixa_etaria_17_anos</th>\n",
       "      <th>ds_faixa_etaria_inválida</th>\n",
       "      <th>ds_genero_masculino</th>\n",
       "      <th>ds_genero_feminino</th>\n",
       "      <th>ds_genero_não_informado</th>\n",
       "      <th>eleitores_totais</th>\n",
       "      <th>percentual_votos</th>\n",
       "    </tr>\n",
       "  </thead>\n",
       "  <tbody>\n",
       "    <tr>\n",
       "      <th>0</th>\n",
       "      <td>RICARDO LUIS REIS NUNES</td>\n",
       "      <td>71072</td>\n",
       "      <td>1333</td>\n",
       "      <td>408</td>\n",
       "      <td>323</td>\n",
       "      <td>2</td>\n",
       "      <td>101</td>\n",
       "      <td>99</td>\n",
       "      <td>14</td>\n",
       "      <td>9</td>\n",
       "      <td>...</td>\n",
       "      <td>0</td>\n",
       "      <td>0</td>\n",
       "      <td>0</td>\n",
       "      <td>0</td>\n",
       "      <td>0</td>\n",
       "      <td>150</td>\n",
       "      <td>218</td>\n",
       "      <td>0</td>\n",
       "      <td>368</td>\n",
       "      <td>0.274457</td>\n",
       "    </tr>\n",
       "    <tr>\n",
       "      <th>1</th>\n",
       "      <td>RICARDO LUIS REIS NUNES</td>\n",
       "      <td>71072</td>\n",
       "      <td>1333</td>\n",
       "      <td>408</td>\n",
       "      <td>323</td>\n",
       "      <td>2</td>\n",
       "      <td>101</td>\n",
       "      <td>99</td>\n",
       "      <td>14</td>\n",
       "      <td>9</td>\n",
       "      <td>...</td>\n",
       "      <td>0</td>\n",
       "      <td>0</td>\n",
       "      <td>0</td>\n",
       "      <td>0</td>\n",
       "      <td>0</td>\n",
       "      <td>150</td>\n",
       "      <td>218</td>\n",
       "      <td>0</td>\n",
       "      <td>368</td>\n",
       "      <td>0.274457</td>\n",
       "    </tr>\n",
       "  </tbody>\n",
       "</table>\n",
       "<p>2 rows × 50 columns</p>\n",
       "</div>"
      ],
      "text/plain": [
       "                 candidato  municipio  local  zona  secao  turno  \\\n",
       "0  RICARDO LUIS REIS NUNES      71072   1333   408    323      2   \n",
       "1  RICARDO LUIS REIS NUNES      71072   1333   408    323      2   \n",
       "\n",
       "   votos_recebidos  ds_grau_escolaridade_ensino_fundamental_incompleto  \\\n",
       "0              101                                                 99    \n",
       "1              101                                                 99    \n",
       "\n",
       "   ds_grau_escolaridade_superior_completo  \\\n",
       "0                                      14   \n",
       "1                                      14   \n",
       "\n",
       "   ds_grau_escolaridade_superior_incompleto  ...  \\\n",
       "0                                         9  ...   \n",
       "1                                         9  ...   \n",
       "\n",
       "   ds_faixa_etaria_95_a_99_anos  ds_faixa_etaria_100_anos_ou_mais  \\\n",
       "0                             0                                 0   \n",
       "1                             0                                 0   \n",
       "\n",
       "   ds_faixa_etaria_90_a_94_anos  ds_faixa_etaria_17_anos  \\\n",
       "0                             0                        0   \n",
       "1                             0                        0   \n",
       "\n",
       "   ds_faixa_etaria_inválida  ds_genero_masculino  ds_genero_feminino  \\\n",
       "0                         0                  150                 218   \n",
       "1                         0                  150                 218   \n",
       "\n",
       "   ds_genero_não_informado  eleitores_totais  percentual_votos  \n",
       "0                        0               368          0.274457  \n",
       "1                        0               368          0.274457  \n",
       "\n",
       "[2 rows x 50 columns]"
      ]
     },
     "execution_count": 237,
     "metadata": {},
     "output_type": "execute_result"
    }
   ],
   "source": [
    "data.head(2)"
   ]
  },
  {
   "cell_type": "code",
   "execution_count": 238,
   "metadata": {},
   "outputs": [],
   "source": [
    "remove_cols = [col for col in data.columns if re.search('não_informado', col) or re.search('inválida', col)]\n",
    "data = data.drop(remove_cols, axis=1)"
   ]
  },
  {
   "cell_type": "code",
   "execution_count": 239,
   "metadata": {},
   "outputs": [],
   "source": [
    "pesos_escolaridade = {\n",
    "    'ds_grau_escolaridade_analfabeto': 0,\n",
    "    'ds_grau_escolaridade_lê_e_escreve': 1,\n",
    "    'ds_grau_escolaridade_ensino_fundamental_incompleto': 2,\n",
    "    'ds_grau_escolaridade_ensino_fundamental_completo': 3,\n",
    "    'ds_grau_escolaridade_ensino_médio_incompleto': 4,\n",
    "    'ds_grau_escolaridade_ensino_médio_completo': 5,\n",
    "    'ds_grau_escolaridade_superior_incompleto': 6,\n",
    "    'ds_grau_escolaridade_superior_completo': 7\n",
    "}\n",
    "\n",
    "# Calculando o score usando np.average com os pesos\n",
    "data[\"escolaridade_score\"] = data.apply(\n",
    "    lambda row: np.average(\n",
    "        [pesos_escolaridade[col] for col in pesos_escolaridade.keys()],  # Valores das colunas\n",
    "        weights=[row[col] for col in pesos_escolaridade.keys()]  # Pesos associados às colunas\n",
    "    ),\n",
    "    axis=1\n",
    ")"
   ]
  },
  {
   "cell_type": "code",
   "execution_count": 240,
   "metadata": {},
   "outputs": [
    {
     "data": {
      "text/html": [
       "<div>\n",
       "<style scoped>\n",
       "    .dataframe tbody tr th:only-of-type {\n",
       "        vertical-align: middle;\n",
       "    }\n",
       "\n",
       "    .dataframe tbody tr th {\n",
       "        vertical-align: top;\n",
       "    }\n",
       "\n",
       "    .dataframe thead th {\n",
       "        text-align: right;\n",
       "    }\n",
       "</style>\n",
       "<table border=\"1\" class=\"dataframe\">\n",
       "  <thead>\n",
       "    <tr style=\"text-align: right;\">\n",
       "      <th></th>\n",
       "      <th>candidato</th>\n",
       "      <th>municipio</th>\n",
       "      <th>local</th>\n",
       "      <th>zona</th>\n",
       "      <th>secao</th>\n",
       "      <th>turno</th>\n",
       "      <th>votos_recebidos</th>\n",
       "      <th>ds_raca_cor_branca</th>\n",
       "      <th>ds_raca_cor_parda</th>\n",
       "      <th>ds_raca_cor_indígena</th>\n",
       "      <th>...</th>\n",
       "      <th>ds_faixa_etaria_65_a_69_anos</th>\n",
       "      <th>ds_faixa_etaria_95_a_99_anos</th>\n",
       "      <th>ds_faixa_etaria_100_anos_ou_mais</th>\n",
       "      <th>ds_faixa_etaria_90_a_94_anos</th>\n",
       "      <th>ds_faixa_etaria_17_anos</th>\n",
       "      <th>ds_genero_masculino</th>\n",
       "      <th>ds_genero_feminino</th>\n",
       "      <th>eleitores_totais</th>\n",
       "      <th>percentual_votos</th>\n",
       "      <th>escolaridade_score</th>\n",
       "    </tr>\n",
       "  </thead>\n",
       "  <tbody>\n",
       "    <tr>\n",
       "      <th>0</th>\n",
       "      <td>RICARDO LUIS REIS NUNES</td>\n",
       "      <td>71072</td>\n",
       "      <td>1333</td>\n",
       "      <td>408</td>\n",
       "      <td>323</td>\n",
       "      <td>2</td>\n",
       "      <td>101</td>\n",
       "      <td>18</td>\n",
       "      <td>19</td>\n",
       "      <td>0</td>\n",
       "      <td>...</td>\n",
       "      <td>7</td>\n",
       "      <td>0</td>\n",
       "      <td>0</td>\n",
       "      <td>0</td>\n",
       "      <td>0</td>\n",
       "      <td>150</td>\n",
       "      <td>218</td>\n",
       "      <td>368</td>\n",
       "      <td>0.274457</td>\n",
       "      <td>3.600543</td>\n",
       "    </tr>\n",
       "  </tbody>\n",
       "</table>\n",
       "<p>1 rows × 39 columns</p>\n",
       "</div>"
      ],
      "text/plain": [
       "                 candidato  municipio  local  zona  secao  turno  \\\n",
       "0  RICARDO LUIS REIS NUNES      71072   1333   408    323      2   \n",
       "\n",
       "   votos_recebidos  ds_raca_cor_branca  ds_raca_cor_parda  \\\n",
       "0              101                  18                 19   \n",
       "\n",
       "   ds_raca_cor_indígena  ...  ds_faixa_etaria_65_a_69_anos  \\\n",
       "0                     0  ...                             7   \n",
       "\n",
       "   ds_faixa_etaria_95_a_99_anos  ds_faixa_etaria_100_anos_ou_mais  \\\n",
       "0                             0                                 0   \n",
       "\n",
       "   ds_faixa_etaria_90_a_94_anos  ds_faixa_etaria_17_anos  ds_genero_masculino  \\\n",
       "0                             0                        0                  150   \n",
       "\n",
       "   ds_genero_feminino  eleitores_totais  percentual_votos  escolaridade_score  \n",
       "0                 218               368          0.274457            3.600543  \n",
       "\n",
       "[1 rows x 39 columns]"
      ]
     },
     "execution_count": 240,
     "metadata": {},
     "output_type": "execute_result"
    }
   ],
   "source": [
    "data = data.drop(pesos_escolaridade.keys(), axis=1)\n",
    "data.head(1)"
   ]
  },
  {
   "cell_type": "code",
   "execution_count": 241,
   "metadata": {},
   "outputs": [],
   "source": [
    "def extrair_media_idade(col):\n",
    "    try:\n",
    "        return (float(col.split('_')[3]) + float(col.split('_')[5])) / 2\n",
    "    except:\n",
    "        try:\n",
    "            return (float(col.split('_')[3]))\n",
    "        except:\n",
    "            return 0"
   ]
  },
  {
   "cell_type": "code",
   "execution_count": 242,
   "metadata": {},
   "outputs": [],
   "source": [
    "etaria_cols = [col for col in data.columns if re.search('faixa_etaria', col)]\n",
    "etaria_cols_weights = {\n",
    "    col: extrair_media_idade(col)\n",
    "    for col in etaria_cols\n",
    "}\n",
    "\n",
    "data['idade_score'] = data.apply(\n",
    "    lambda row: np.average(\n",
    "        [etaria_cols_weights[col] for col in etaria_cols_weights.keys()],\n",
    "        weights=[row[col] for col in etaria_cols_weights.keys()]\n",
    "    ),\n",
    "    axis=1\n",
    ")"
   ]
  },
  {
   "cell_type": "code",
   "execution_count": 243,
   "metadata": {},
   "outputs": [
    {
     "data": {
      "text/html": [
       "<div>\n",
       "<style scoped>\n",
       "    .dataframe tbody tr th:only-of-type {\n",
       "        vertical-align: middle;\n",
       "    }\n",
       "\n",
       "    .dataframe tbody tr th {\n",
       "        vertical-align: top;\n",
       "    }\n",
       "\n",
       "    .dataframe thead th {\n",
       "        text-align: right;\n",
       "    }\n",
       "</style>\n",
       "<table border=\"1\" class=\"dataframe\">\n",
       "  <thead>\n",
       "    <tr style=\"text-align: right;\">\n",
       "      <th></th>\n",
       "      <th>candidato</th>\n",
       "      <th>municipio</th>\n",
       "      <th>local</th>\n",
       "      <th>zona</th>\n",
       "      <th>secao</th>\n",
       "      <th>turno</th>\n",
       "      <th>votos_recebidos</th>\n",
       "      <th>ds_raca_cor_branca</th>\n",
       "      <th>ds_raca_cor_parda</th>\n",
       "      <th>ds_raca_cor_indígena</th>\n",
       "      <th>ds_raca_cor_preta</th>\n",
       "      <th>ds_raca_cor_amarela</th>\n",
       "      <th>ds_genero_masculino</th>\n",
       "      <th>ds_genero_feminino</th>\n",
       "      <th>eleitores_totais</th>\n",
       "      <th>percentual_votos</th>\n",
       "      <th>escolaridade_score</th>\n",
       "      <th>idade_score</th>\n",
       "    </tr>\n",
       "  </thead>\n",
       "  <tbody>\n",
       "    <tr>\n",
       "      <th>0</th>\n",
       "      <td>RICARDO LUIS REIS NUNES</td>\n",
       "      <td>71072</td>\n",
       "      <td>1333</td>\n",
       "      <td>408</td>\n",
       "      <td>323</td>\n",
       "      <td>2</td>\n",
       "      <td>101</td>\n",
       "      <td>18</td>\n",
       "      <td>19</td>\n",
       "      <td>0</td>\n",
       "      <td>7</td>\n",
       "      <td>1</td>\n",
       "      <td>150</td>\n",
       "      <td>218</td>\n",
       "      <td>368</td>\n",
       "      <td>0.274457</td>\n",
       "      <td>3.600543</td>\n",
       "      <td>39.067935</td>\n",
       "    </tr>\n",
       "  </tbody>\n",
       "</table>\n",
       "</div>"
      ],
      "text/plain": [
       "                 candidato  municipio  local  zona  secao  turno  \\\n",
       "0  RICARDO LUIS REIS NUNES      71072   1333   408    323      2   \n",
       "\n",
       "   votos_recebidos  ds_raca_cor_branca  ds_raca_cor_parda  \\\n",
       "0              101                  18                 19   \n",
       "\n",
       "   ds_raca_cor_indígena  ds_raca_cor_preta  ds_raca_cor_amarela  \\\n",
       "0                     0                  7                    1   \n",
       "\n",
       "   ds_genero_masculino  ds_genero_feminino  eleitores_totais  \\\n",
       "0                  150                 218               368   \n",
       "\n",
       "   percentual_votos  escolaridade_score  idade_score  \n",
       "0          0.274457            3.600543    39.067935  "
      ]
     },
     "execution_count": 243,
     "metadata": {},
     "output_type": "execute_result"
    }
   ],
   "source": [
    "data = data.drop(etaria_cols_weights.keys(), axis=1)\n",
    "data.head(1)"
   ]
  },
  {
   "cell_type": "markdown",
   "metadata": {},
   "source": [
    "### agrupamento por local de votação"
   ]
  },
  {
   "cell_type": "code",
   "execution_count": 244,
   "metadata": {},
   "outputs": [],
   "source": [
    "data = data.groupby(['zona', 'local'], as_index=False).agg(\n",
    "    votos_recebidos = ('votos_recebidos', 'sum'),\n",
    "    eleitores = ('eleitores_totais', 'sum'),\n",
    "    percentual_votos = ('percentual_votos', 'mean'),\n",
    "    escolaridade_score = ('escolaridade_score', 'mean'),\n",
    "    idade_score = ('idade_score', 'mean'),\n",
    "    municipio = ('municipio', 'max')\n",
    ")"
   ]
  },
  {
   "cell_type": "code",
   "execution_count": 245,
   "metadata": {},
   "outputs": [
    {
     "data": {
      "text/html": [
       "<div>\n",
       "<style scoped>\n",
       "    .dataframe tbody tr th:only-of-type {\n",
       "        vertical-align: middle;\n",
       "    }\n",
       "\n",
       "    .dataframe tbody tr th {\n",
       "        vertical-align: top;\n",
       "    }\n",
       "\n",
       "    .dataframe thead th {\n",
       "        text-align: right;\n",
       "    }\n",
       "</style>\n",
       "<table border=\"1\" class=\"dataframe\">\n",
       "  <thead>\n",
       "    <tr style=\"text-align: right;\">\n",
       "      <th></th>\n",
       "      <th>zona</th>\n",
       "      <th>local</th>\n",
       "      <th>votos_recebidos</th>\n",
       "      <th>eleitores</th>\n",
       "      <th>percentual_votos</th>\n",
       "      <th>escolaridade_score</th>\n",
       "      <th>idade_score</th>\n",
       "      <th>municipio</th>\n",
       "    </tr>\n",
       "  </thead>\n",
       "  <tbody>\n",
       "    <tr>\n",
       "      <th>0</th>\n",
       "      <td>1</td>\n",
       "      <td>1015</td>\n",
       "      <td>8750</td>\n",
       "      <td>40200</td>\n",
       "      <td>0.217137</td>\n",
       "      <td>5.654422</td>\n",
       "      <td>52.599433</td>\n",
       "      <td>71072</td>\n",
       "    </tr>\n",
       "    <tr>\n",
       "      <th>1</th>\n",
       "      <td>1</td>\n",
       "      <td>1023</td>\n",
       "      <td>6714</td>\n",
       "      <td>33884</td>\n",
       "      <td>0.198044</td>\n",
       "      <td>5.619402</td>\n",
       "      <td>51.465585</td>\n",
       "      <td>71072</td>\n",
       "    </tr>\n",
       "    <tr>\n",
       "      <th>2</th>\n",
       "      <td>1</td>\n",
       "      <td>1040</td>\n",
       "      <td>5052</td>\n",
       "      <td>24312</td>\n",
       "      <td>0.207797</td>\n",
       "      <td>4.464867</td>\n",
       "      <td>50.134327</td>\n",
       "      <td>71072</td>\n",
       "    </tr>\n",
       "    <tr>\n",
       "      <th>3</th>\n",
       "      <td>1</td>\n",
       "      <td>1058</td>\n",
       "      <td>5506</td>\n",
       "      <td>30308</td>\n",
       "      <td>0.181510</td>\n",
       "      <td>4.481594</td>\n",
       "      <td>48.490044</td>\n",
       "      <td>71072</td>\n",
       "    </tr>\n",
       "    <tr>\n",
       "      <th>4</th>\n",
       "      <td>1</td>\n",
       "      <td>1066</td>\n",
       "      <td>5066</td>\n",
       "      <td>24732</td>\n",
       "      <td>0.204757</td>\n",
       "      <td>5.034736</td>\n",
       "      <td>47.971087</td>\n",
       "      <td>71072</td>\n",
       "    </tr>\n",
       "  </tbody>\n",
       "</table>\n",
       "</div>"
      ],
      "text/plain": [
       "   zona  local  votos_recebidos  eleitores  percentual_votos  \\\n",
       "0     1   1015             8750      40200          0.217137   \n",
       "1     1   1023             6714      33884          0.198044   \n",
       "2     1   1040             5052      24312          0.207797   \n",
       "3     1   1058             5506      30308          0.181510   \n",
       "4     1   1066             5066      24732          0.204757   \n",
       "\n",
       "   escolaridade_score  idade_score  municipio  \n",
       "0            5.654422    52.599433      71072  \n",
       "1            5.619402    51.465585      71072  \n",
       "2            4.464867    50.134327      71072  \n",
       "3            4.481594    48.490044      71072  \n",
       "4            5.034736    47.971087      71072  "
      ]
     },
     "execution_count": 245,
     "metadata": {},
     "output_type": "execute_result"
    }
   ],
   "source": [
    "data.head()"
   ]
  },
  {
   "cell_type": "code",
   "execution_count": 246,
   "metadata": {},
   "outputs": [
    {
     "data": {
      "text/html": [
       "<div>\n",
       "<style scoped>\n",
       "    .dataframe tbody tr th:only-of-type {\n",
       "        vertical-align: middle;\n",
       "    }\n",
       "\n",
       "    .dataframe tbody tr th {\n",
       "        vertical-align: top;\n",
       "    }\n",
       "\n",
       "    .dataframe thead th {\n",
       "        text-align: right;\n",
       "    }\n",
       "</style>\n",
       "<table border=\"1\" class=\"dataframe\">\n",
       "  <thead>\n",
       "    <tr style=\"text-align: right;\">\n",
       "      <th></th>\n",
       "      <th>percentual_votos</th>\n",
       "      <th>escolaridade_score</th>\n",
       "      <th>idade_score</th>\n",
       "    </tr>\n",
       "  </thead>\n",
       "  <tbody>\n",
       "    <tr>\n",
       "      <th>percentual_votos</th>\n",
       "      <td>1.000000</td>\n",
       "      <td>0.212910</td>\n",
       "      <td>0.275259</td>\n",
       "    </tr>\n",
       "    <tr>\n",
       "      <th>escolaridade_score</th>\n",
       "      <td>0.212910</td>\n",
       "      <td>1.000000</td>\n",
       "      <td>0.280827</td>\n",
       "    </tr>\n",
       "    <tr>\n",
       "      <th>idade_score</th>\n",
       "      <td>0.275259</td>\n",
       "      <td>0.280827</td>\n",
       "      <td>1.000000</td>\n",
       "    </tr>\n",
       "  </tbody>\n",
       "</table>\n",
       "</div>"
      ],
      "text/plain": [
       "                    percentual_votos  escolaridade_score  idade_score\n",
       "percentual_votos            1.000000            0.212910     0.275259\n",
       "escolaridade_score          0.212910            1.000000     0.280827\n",
       "idade_score                 0.275259            0.280827     1.000000"
      ]
     },
     "execution_count": 246,
     "metadata": {},
     "output_type": "execute_result"
    }
   ],
   "source": [
    "data[['percentual_votos', 'escolaridade_score', 'idade_score']].corr()"
   ]
  },
  {
   "cell_type": "code",
   "execution_count": 247,
   "metadata": {},
   "outputs": [
    {
     "data": {
      "text/html": [
       "<div>\n",
       "<style scoped>\n",
       "    .dataframe tbody tr th:only-of-type {\n",
       "        vertical-align: middle;\n",
       "    }\n",
       "\n",
       "    .dataframe tbody tr th {\n",
       "        vertical-align: top;\n",
       "    }\n",
       "\n",
       "    .dataframe thead th {\n",
       "        text-align: right;\n",
       "    }\n",
       "</style>\n",
       "<table border=\"1\" class=\"dataframe\">\n",
       "  <thead>\n",
       "    <tr style=\"text-align: right;\">\n",
       "      <th></th>\n",
       "      <th>zona</th>\n",
       "      <th>local</th>\n",
       "      <th>votos_recebidos</th>\n",
       "      <th>eleitores</th>\n",
       "      <th>percentual_votos</th>\n",
       "      <th>escolaridade_score</th>\n",
       "      <th>idade_score</th>\n",
       "      <th>municipio</th>\n",
       "    </tr>\n",
       "  </thead>\n",
       "  <tbody>\n",
       "    <tr>\n",
       "      <th>0</th>\n",
       "      <td>1</td>\n",
       "      <td>1015</td>\n",
       "      <td>8750</td>\n",
       "      <td>40200</td>\n",
       "      <td>0.217137</td>\n",
       "      <td>5.654422</td>\n",
       "      <td>52.599433</td>\n",
       "      <td>71072</td>\n",
       "    </tr>\n",
       "  </tbody>\n",
       "</table>\n",
       "</div>"
      ],
      "text/plain": [
       "   zona  local  votos_recebidos  eleitores  percentual_votos  \\\n",
       "0     1   1015             8750      40200          0.217137   \n",
       "\n",
       "   escolaridade_score  idade_score  municipio  \n",
       "0            5.654422    52.599433      71072  "
      ]
     },
     "execution_count": 247,
     "metadata": {},
     "output_type": "execute_result"
    }
   ],
   "source": [
    "data.head(1)"
   ]
  },
  {
   "cell_type": "code",
   "execution_count": 248,
   "metadata": {},
   "outputs": [],
   "source": [
    "import matplotlib.pyplot as plt\n",
    "from sklearn.cluster import KMeans"
   ]
  },
  {
   "cell_type": "code",
   "execution_count": 249,
   "metadata": {},
   "outputs": [],
   "source": [
    "data_filtered = data.loc[(data['percentual_votos'] < 1) & (data['percentual_votos'] > 10**(-2))]"
   ]
  },
  {
   "cell_type": "code",
   "execution_count": 250,
   "metadata": {},
   "outputs": [
    {
     "data": {
      "text/plain": [
       "<matplotlib.collections.PathCollection at 0x1e34242d4f0>"
      ]
     },
     "execution_count": 250,
     "metadata": {},
     "output_type": "execute_result"
    },
    {
     "data": {
      "image/png": "[encoded data removed]",
      "text/plain": [
       "<Figure size 640x480 with 1 Axes>"
      ]
     },
     "metadata": {},
     "output_type": "display_data"
    }
   ],
   "source": [
    "x = data_filtered['escolaridade_score'].values\n",
    "y = data_filtered['percentual_votos'].values\n",
    "plt.scatter(x,y)"
   ]
  },
  {
   "cell_type": "code",
   "execution_count": 251,
   "metadata": {},
   "outputs": [
    {
     "data": {
      "image/png": "[encoded data removed]",
      "text/plain": [
       "<Figure size 640x480 with 1 Axes>"
      ]
     },
     "metadata": {},
     "output_type": "display_data"
    }
   ],
   "source": [
    "X = np.column_stack((x, y))\n",
    "# 2. Aplicar K-Means\n",
    "kmeans = KMeans(n_clusters=4, random_state=42)  # Configurar para 3 clusters\n",
    "kmeans.fit(X)\n",
    "\n",
    "# Obter os resultados\n",
    "labels = kmeans.labels_           # Rótulos para cada ponto\n",
    "centroids = kmeans.cluster_centers_  # Coordenadas dos centróides\n",
    "\n",
    "# 3. Visualizar os resultados\n",
    "plt.scatter(X[:, 0], X[:, 1], c=labels, cmap='viridis', label='Pontos')\n",
    "plt.scatter(centroids[:, 0], centroids[:, 1], c='red', s=200, marker='X', label='Centroides')\n",
    "plt.title('Clusterização com K-Means')\n",
    "plt.xlabel('Escolaridade')\n",
    "plt.ylabel('Percentual de votos')\n",
    "plt.legend()\n",
    "plt.show()"
   ]
  },
  {
   "cell_type": "code",
   "execution_count": 252,
   "metadata": {},
   "outputs": [
    {
     "data": {
      "text/plain": [
       "<matplotlib.collections.PathCollection at 0x1e34242c860>"
      ]
     },
     "execution_count": 252,
     "metadata": {},
     "output_type": "execute_result"
    },
    {
     "data": {
      "image/png": "[encoded data removed]",
      "text/plain": [
       "<Figure size 640x480 with 1 Axes>"
      ]
     },
     "metadata": {},
     "output_type": "display_data"
    }
   ],
   "source": [
    "x = data_filtered['idade_score'].values\n",
    "plt.scatter(x,y)"
   ]
  },
  {
   "cell_type": "code",
   "execution_count": 253,
   "metadata": {},
   "outputs": [
    {
     "data": {
      "image/png": "[encoded data removed]",
      "text/plain": [
       "<Figure size 640x480 with 1 Axes>"
      ]
     },
     "metadata": {},
     "output_type": "display_data"
    }
   ],
   "source": [
    "X = np.column_stack((x, y))\n",
    "# 2. Aplicar K-Means\n",
    "kmeans = KMeans(n_clusters=4, random_state=42)  # Configurar para 3 clusters\n",
    "kmeans.fit(X)\n",
    "\n",
    "# Obter os resultados\n",
    "labels = kmeans.labels_           # Rótulos para cada ponto\n",
    "centroids = kmeans.cluster_centers_  # Coordenadas dos centróides\n",
    "\n",
    "# 3. Visualizar os resultados\n",
    "plt.scatter(X[:, 0], X[:, 1], c=labels, cmap='viridis', label='Pontos')\n",
    "plt.scatter(centroids[:, 0], centroids[:, 1], c='red', s=200, marker='X', label='Centroides')\n",
    "plt.title('Clusterização com K-Means')\n",
    "plt.xlabel('Idade')\n",
    "plt.ylabel('Percentual de votos')\n",
    "plt.legend()\n",
    "plt.show()"
   ]
  },
  {
   "cell_type": "code",
   "execution_count": 254,
   "metadata": {},
   "outputs": [],
   "source": [
    "from scipy.stats import binom\n",
    "\n",
    "# Probabilidade genérica\n",
    "p = data['votos_recebidos'].sum()/data['eleitores'].sum()\n",
    "\n",
    "# Calcula a probabilidade para quantidade de votos recebidos\n",
    "data['probabilidade'] = binom.pmf(k = data['votos_recebidos']//10, n = data['eleitores']//10, p = p)"
   ]
  },
  {
   "cell_type": "code",
   "execution_count": 255,
   "metadata": {},
   "outputs": [
    {
     "data": {
      "image/png": "[encoded data removed]",
      "text/plain": [
       "<Figure size 640x480 with 1 Axes>"
      ]
     },
     "metadata": {},
     "output_type": "display_data"
    }
   ],
   "source": [
    "data_filtered = data.loc[(data['percentual_votos'] < 1) & (data['percentual_votos'] > 10**(-2))]\n",
    "X = data_filtered[['percentual_votos', 'probabilidade']].values\n",
    "# 2. Aplicar K-Means\n",
    "kmeans = KMeans(n_clusters=4, random_state=42)  # Configurar para 3 clusters\n",
    "kmeans.fit(X)\n",
    "\n",
    "# Obter os resultados\n",
    "labels = kmeans.labels_           # Rótulos para cada ponto\n",
    "centroids = kmeans.cluster_centers_  # Coordenadas dos centróides\n",
    "\n",
    "plt.scatter(X[:, 0], X[:, 1], c=labels, cmap='viridis', label='Pontos')  # Usar X para as dimensões\n",
    "plt.scatter(centroids[:, 0], centroids[:, 1], c='red', s=200, marker='X', label='Centroides')\n",
    "plt.title('Clusterização com K-Means')\n",
    "plt.xlabel('Votos percentuais')\n",
    "plt.ylabel('Probabilidade de receber qtd de votos')\n",
    "plt.legend()\n",
    "plt.show()"
   ]
  },
  {
   "cell_type": "code",
   "execution_count": 256,
   "metadata": {},
   "outputs": [
    {
     "name": "stderr",
     "output_type": "stream",
     "text": [
      "C:\\Users\\ciaon\\AppData\\Local\\Temp\\ipykernel_8596\\2726077203.py:1: SettingWithCopyWarning: \n",
      "A value is trying to be set on a copy of a slice from a DataFrame.\n",
      "Try using .loc[row_indexer,col_indexer] = value instead\n",
      "\n",
      "See the caveats in the documentation: https://pandas.pydata.org/pandas-docs/stable/user_guide/indexing.html#returning-a-view-versus-a-copy\n",
      "  data_filtered['clusters'] = labels\n"
     ]
    },
    {
     "data": {
      "text/html": [
       "<div>\n",
       "<style scoped>\n",
       "    .dataframe tbody tr th:only-of-type {\n",
       "        vertical-align: middle;\n",
       "    }\n",
       "\n",
       "    .dataframe tbody tr th {\n",
       "        vertical-align: top;\n",
       "    }\n",
       "\n",
       "    .dataframe thead th {\n",
       "        text-align: right;\n",
       "    }\n",
       "</style>\n",
       "<table border=\"1\" class=\"dataframe\">\n",
       "  <thead>\n",
       "    <tr style=\"text-align: right;\">\n",
       "      <th></th>\n",
       "      <th>zona</th>\n",
       "      <th>local</th>\n",
       "      <th>votos_recebidos</th>\n",
       "      <th>eleitores</th>\n",
       "      <th>percentual_votos</th>\n",
       "      <th>escolaridade_score</th>\n",
       "      <th>idade_score</th>\n",
       "      <th>municipio</th>\n",
       "      <th>probabilidade</th>\n",
       "      <th>clusters</th>\n",
       "    </tr>\n",
       "  </thead>\n",
       "  <tbody>\n",
       "    <tr>\n",
       "      <th>0</th>\n",
       "      <td>1</td>\n",
       "      <td>1015</td>\n",
       "      <td>8750</td>\n",
       "      <td>40200</td>\n",
       "      <td>0.217137</td>\n",
       "      <td>5.654422</td>\n",
       "      <td>52.599433</td>\n",
       "      <td>71072</td>\n",
       "      <td>1.704648e-19</td>\n",
       "      <td>1</td>\n",
       "    </tr>\n",
       "    <tr>\n",
       "      <th>1</th>\n",
       "      <td>1</td>\n",
       "      <td>1023</td>\n",
       "      <td>6714</td>\n",
       "      <td>33884</td>\n",
       "      <td>0.198044</td>\n",
       "      <td>5.619402</td>\n",
       "      <td>51.465585</td>\n",
       "      <td>71072</td>\n",
       "      <td>6.177125e-28</td>\n",
       "      <td>1</td>\n",
       "    </tr>\n",
       "    <tr>\n",
       "      <th>2</th>\n",
       "      <td>1</td>\n",
       "      <td>1040</td>\n",
       "      <td>5052</td>\n",
       "      <td>24312</td>\n",
       "      <td>0.207797</td>\n",
       "      <td>4.464867</td>\n",
       "      <td>50.134327</td>\n",
       "      <td>71072</td>\n",
       "      <td>2.011367e-16</td>\n",
       "      <td>1</td>\n",
       "    </tr>\n",
       "    <tr>\n",
       "      <th>3</th>\n",
       "      <td>1</td>\n",
       "      <td>1058</td>\n",
       "      <td>5506</td>\n",
       "      <td>30308</td>\n",
       "      <td>0.181510</td>\n",
       "      <td>4.481594</td>\n",
       "      <td>48.490044</td>\n",
       "      <td>71072</td>\n",
       "      <td>4.321906e-36</td>\n",
       "      <td>1</td>\n",
       "    </tr>\n",
       "    <tr>\n",
       "      <th>4</th>\n",
       "      <td>1</td>\n",
       "      <td>1066</td>\n",
       "      <td>5066</td>\n",
       "      <td>24732</td>\n",
       "      <td>0.204757</td>\n",
       "      <td>5.034736</td>\n",
       "      <td>47.971087</td>\n",
       "      <td>71072</td>\n",
       "      <td>5.366832e-18</td>\n",
       "      <td>1</td>\n",
       "    </tr>\n",
       "  </tbody>\n",
       "</table>\n",
       "</div>"
      ],
      "text/plain": [
       "   zona  local  votos_recebidos  eleitores  percentual_votos  \\\n",
       "0     1   1015             8750      40200          0.217137   \n",
       "1     1   1023             6714      33884          0.198044   \n",
       "2     1   1040             5052      24312          0.207797   \n",
       "3     1   1058             5506      30308          0.181510   \n",
       "4     1   1066             5066      24732          0.204757   \n",
       "\n",
       "   escolaridade_score  idade_score  municipio  probabilidade  clusters  \n",
       "0            5.654422    52.599433      71072   1.704648e-19         1  \n",
       "1            5.619402    51.465585      71072   6.177125e-28         1  \n",
       "2            4.464867    50.134327      71072   2.011367e-16         1  \n",
       "3            4.481594    48.490044      71072   4.321906e-36         1  \n",
       "4            5.034736    47.971087      71072   5.366832e-18         1  "
      ]
     },
     "execution_count": 256,
     "metadata": {},
     "output_type": "execute_result"
    }
   ],
   "source": [
    "data_filtered['clusters'] = labels\n",
    "data_filtered.head()"
   ]
  },
  {
   "cell_type": "code",
   "execution_count": 257,
   "metadata": {},
   "outputs": [
    {
     "data": {
      "text/html": [
       "<div>\n",
       "<style scoped>\n",
       "    .dataframe tbody tr th:only-of-type {\n",
       "        vertical-align: middle;\n",
       "    }\n",
       "\n",
       "    .dataframe tbody tr th {\n",
       "        vertical-align: top;\n",
       "    }\n",
       "\n",
       "    .dataframe thead th {\n",
       "        text-align: right;\n",
       "    }\n",
       "</style>\n",
       "<table border=\"1\" class=\"dataframe\">\n",
       "  <thead>\n",
       "    <tr style=\"text-align: right;\">\n",
       "      <th></th>\n",
       "      <th>percentual_votos</th>\n",
       "      <th>prob_mean</th>\n",
       "      <th>qtd</th>\n",
       "    </tr>\n",
       "    <tr>\n",
       "      <th>clusters</th>\n",
       "      <th></th>\n",
       "      <th></th>\n",
       "      <th></th>\n",
       "    </tr>\n",
       "  </thead>\n",
       "  <tbody>\n",
       "    <tr>\n",
       "      <th>0</th>\n",
       "      <td>0.321231</td>\n",
       "      <td>0.001346</td>\n",
       "      <td>592</td>\n",
       "    </tr>\n",
       "    <tr>\n",
       "      <th>3</th>\n",
       "      <td>0.282748</td>\n",
       "      <td>0.017954</td>\n",
       "      <td>770</td>\n",
       "    </tr>\n",
       "    <tr>\n",
       "      <th>2</th>\n",
       "      <td>0.251509</td>\n",
       "      <td>0.003557</td>\n",
       "      <td>494</td>\n",
       "    </tr>\n",
       "    <tr>\n",
       "      <th>1</th>\n",
       "      <td>0.208153</td>\n",
       "      <td>0.000538</td>\n",
       "      <td>191</td>\n",
       "    </tr>\n",
       "  </tbody>\n",
       "</table>\n",
       "</div>"
      ],
      "text/plain": [
       "          percentual_votos  prob_mean  qtd\n",
       "clusters                                  \n",
       "0                 0.321231   0.001346  592\n",
       "3                 0.282748   0.017954  770\n",
       "2                 0.251509   0.003557  494\n",
       "1                 0.208153   0.000538  191"
      ]
     },
     "execution_count": 257,
     "metadata": {},
     "output_type": "execute_result"
    }
   ],
   "source": [
    "cluster_data = data_filtered.groupby('clusters').agg(\n",
    "    percentual_votos = ('percentual_votos', 'mean'),\n",
    "    prob_mean = ('probabilidade', 'mean'),\n",
    "    qtd = ('probabilidade', 'size')\n",
    ").sort_values('percentual_votos', ascending=False)\n",
    "cluster_data"
   ]
  },
  {
   "cell_type": "code",
   "execution_count": 258,
   "metadata": {},
   "outputs": [],
   "source": [
    "import tse\n",
    "import folium"
   ]
  },
  {
   "cell_type": "code",
   "execution_count": 259,
   "metadata": {},
   "outputs": [],
   "source": [
    "analise = tse.TseAnalysis(\n",
    "    database={\n",
    "        'path': 'databases/eleicoes_2024.sql',\n",
    "        'alias': 'geral' \n",
    "    }\n",
    ")"
   ]
  },
  {
   "cell_type": "code",
   "execution_count": 260,
   "metadata": {},
   "outputs": [
    {
     "name": "stdout",
     "output_type": "stream",
     "text": [
      "Bancos carregados:\n",
      "0) main\n",
      "-path: d:\\projects\\tse-data\\databases\\eleicoes_2024.sql\n",
      "--tables: \n",
      "-- locais\n",
      "-----\n",
      "2) geral\n",
      "-path: d:\\projects\\tse-data\\databases\\eleicoes_2024.sql\n",
      "--tables: \n",
      "-- locais\n",
      "-----\n"
     ]
    }
   ],
   "source": [
    "analise.attach_database([])"
   ]
  },
  {
   "cell_type": "code",
   "execution_count": 261,
   "metadata": {},
   "outputs": [
    {
     "data": {
      "text/plain": [
       "71072"
      ]
     },
     "execution_count": 261,
     "metadata": {},
     "output_type": "execute_result"
    }
   ],
   "source": [
    "cd_municipio = data_filtered['municipio'].values[0]\n",
    "cd_municipio"
   ]
  },
  {
   "cell_type": "code",
   "execution_count": 262,
   "metadata": {},
   "outputs": [],
   "source": [
    "query = f\"\"\"\n",
    "    SELECT\n",
    "        CD_MUNICIPIO as municipio,\n",
    "        NR_ZONA as zona,\n",
    "        NR_SECAO as secao,\n",
    "        NR_LOCAL_VOTACAO as local,\n",
    "        NR_LATITUDE as latitude,\n",
    "        NR_LONGITUDE as longitude\n",
    "    FROM\n",
    "        geral.locais\n",
    "    WHERE\n",
    "        CD_MUNICIPIO = '{cd_municipio}'\n",
    "\"\"\""
   ]
  },
  {
   "cell_type": "code",
   "execution_count": 263,
   "metadata": {},
   "outputs": [],
   "source": [
    "locais_data = pd.read_sql_query(query, analise.conn)"
   ]
  },
  {
   "cell_type": "code",
   "execution_count": 264,
   "metadata": {},
   "outputs": [
    {
     "data": {
      "text/html": [
       "<div>\n",
       "<style scoped>\n",
       "    .dataframe tbody tr th:only-of-type {\n",
       "        vertical-align: middle;\n",
       "    }\n",
       "\n",
       "    .dataframe tbody tr th {\n",
       "        vertical-align: top;\n",
       "    }\n",
       "\n",
       "    .dataframe thead th {\n",
       "        text-align: right;\n",
       "    }\n",
       "</style>\n",
       "<table border=\"1\" class=\"dataframe\">\n",
       "  <thead>\n",
       "    <tr style=\"text-align: right;\">\n",
       "      <th></th>\n",
       "      <th>municipio</th>\n",
       "      <th>zona</th>\n",
       "      <th>secao</th>\n",
       "      <th>local</th>\n",
       "      <th>latitude</th>\n",
       "      <th>longitude</th>\n",
       "    </tr>\n",
       "  </thead>\n",
       "  <tbody>\n",
       "    <tr>\n",
       "      <th>0</th>\n",
       "      <td>71072</td>\n",
       "      <td>413</td>\n",
       "      <td>314</td>\n",
       "      <td>1163</td>\n",
       "      <td>-23.628475</td>\n",
       "      <td>-46.605695</td>\n",
       "    </tr>\n",
       "  </tbody>\n",
       "</table>\n",
       "</div>"
      ],
      "text/plain": [
       "   municipio  zona  secao  local   latitude  longitude\n",
       "0      71072   413    314   1163 -23.628475 -46.605695"
      ]
     },
     "execution_count": 264,
     "metadata": {},
     "output_type": "execute_result"
    }
   ],
   "source": [
    "locais_data.head(1)"
   ]
  },
  {
   "cell_type": "code",
   "execution_count": 265,
   "metadata": {},
   "outputs": [
    {
     "data": {
      "text/html": [
       "<div>\n",
       "<style scoped>\n",
       "    .dataframe tbody tr th:only-of-type {\n",
       "        vertical-align: middle;\n",
       "    }\n",
       "\n",
       "    .dataframe tbody tr th {\n",
       "        vertical-align: top;\n",
       "    }\n",
       "\n",
       "    .dataframe thead th {\n",
       "        text-align: right;\n",
       "    }\n",
       "</style>\n",
       "<table border=\"1\" class=\"dataframe\">\n",
       "  <thead>\n",
       "    <tr style=\"text-align: right;\">\n",
       "      <th></th>\n",
       "      <th>zona</th>\n",
       "      <th>local</th>\n",
       "      <th>votos_recebidos</th>\n",
       "      <th>eleitores</th>\n",
       "      <th>percentual_votos</th>\n",
       "      <th>escolaridade_score</th>\n",
       "      <th>idade_score</th>\n",
       "      <th>municipio</th>\n",
       "      <th>probabilidade</th>\n",
       "      <th>clusters</th>\n",
       "    </tr>\n",
       "  </thead>\n",
       "  <tbody>\n",
       "    <tr>\n",
       "      <th>0</th>\n",
       "      <td>1</td>\n",
       "      <td>1015</td>\n",
       "      <td>8750</td>\n",
       "      <td>40200</td>\n",
       "      <td>0.217137</td>\n",
       "      <td>5.654422</td>\n",
       "      <td>52.599433</td>\n",
       "      <td>71072</td>\n",
       "      <td>1.704648e-19</td>\n",
       "      <td>1</td>\n",
       "    </tr>\n",
       "  </tbody>\n",
       "</table>\n",
       "</div>"
      ],
      "text/plain": [
       "   zona  local  votos_recebidos  eleitores  percentual_votos  \\\n",
       "0     1   1015             8750      40200          0.217137   \n",
       "\n",
       "   escolaridade_score  idade_score  municipio  probabilidade  clusters  \n",
       "0            5.654422    52.599433      71072   1.704648e-19         1  "
      ]
     },
     "execution_count": 265,
     "metadata": {},
     "output_type": "execute_result"
    }
   ],
   "source": [
    "data_filtered.head(1)"
   ]
  },
  {
   "cell_type": "code",
   "execution_count": 266,
   "metadata": {},
   "outputs": [],
   "source": [
    "data_filtered = pd.merge(\n",
    "    data_filtered,\n",
    "    locais_data,\n",
    "    how='inner',\n",
    "    on=['municipio','zona', 'local']   \n",
    ")"
   ]
  },
  {
   "cell_type": "code",
   "execution_count": 267,
   "metadata": {},
   "outputs": [
    {
     "data": {
      "text/html": [
       "<div>\n",
       "<style scoped>\n",
       "    .dataframe tbody tr th:only-of-type {\n",
       "        vertical-align: middle;\n",
       "    }\n",
       "\n",
       "    .dataframe tbody tr th {\n",
       "        vertical-align: top;\n",
       "    }\n",
       "\n",
       "    .dataframe thead th {\n",
       "        text-align: right;\n",
       "    }\n",
       "</style>\n",
       "<table border=\"1\" class=\"dataframe\">\n",
       "  <thead>\n",
       "    <tr style=\"text-align: right;\">\n",
       "      <th></th>\n",
       "      <th>zona</th>\n",
       "      <th>local</th>\n",
       "      <th>votos_recebidos</th>\n",
       "      <th>eleitores</th>\n",
       "      <th>percentual_votos</th>\n",
       "      <th>escolaridade_score</th>\n",
       "      <th>idade_score</th>\n",
       "      <th>municipio</th>\n",
       "      <th>probabilidade</th>\n",
       "      <th>clusters</th>\n",
       "      <th>secao</th>\n",
       "      <th>latitude</th>\n",
       "      <th>longitude</th>\n",
       "    </tr>\n",
       "  </thead>\n",
       "  <tbody>\n",
       "    <tr>\n",
       "      <th>0</th>\n",
       "      <td>1</td>\n",
       "      <td>1015</td>\n",
       "      <td>8750</td>\n",
       "      <td>40200</td>\n",
       "      <td>0.217137</td>\n",
       "      <td>5.654422</td>\n",
       "      <td>52.599433</td>\n",
       "      <td>71072</td>\n",
       "      <td>1.704648e-19</td>\n",
       "      <td>1</td>\n",
       "      <td>18</td>\n",
       "      <td>-23.565159</td>\n",
       "      <td>-46.651062</td>\n",
       "    </tr>\n",
       "    <tr>\n",
       "      <th>1</th>\n",
       "      <td>1</td>\n",
       "      <td>1015</td>\n",
       "      <td>8750</td>\n",
       "      <td>40200</td>\n",
       "      <td>0.217137</td>\n",
       "      <td>5.654422</td>\n",
       "      <td>52.599433</td>\n",
       "      <td>71072</td>\n",
       "      <td>1.704648e-19</td>\n",
       "      <td>1</td>\n",
       "      <td>13</td>\n",
       "      <td>-23.565159</td>\n",
       "      <td>-46.651062</td>\n",
       "    </tr>\n",
       "    <tr>\n",
       "      <th>2</th>\n",
       "      <td>1</td>\n",
       "      <td>1015</td>\n",
       "      <td>8750</td>\n",
       "      <td>40200</td>\n",
       "      <td>0.217137</td>\n",
       "      <td>5.654422</td>\n",
       "      <td>52.599433</td>\n",
       "      <td>71072</td>\n",
       "      <td>1.704648e-19</td>\n",
       "      <td>1</td>\n",
       "      <td>10</td>\n",
       "      <td>-23.565159</td>\n",
       "      <td>-46.651062</td>\n",
       "    </tr>\n",
       "    <tr>\n",
       "      <th>3</th>\n",
       "      <td>1</td>\n",
       "      <td>1015</td>\n",
       "      <td>8750</td>\n",
       "      <td>40200</td>\n",
       "      <td>0.217137</td>\n",
       "      <td>5.654422</td>\n",
       "      <td>52.599433</td>\n",
       "      <td>71072</td>\n",
       "      <td>1.704648e-19</td>\n",
       "      <td>1</td>\n",
       "      <td>16</td>\n",
       "      <td>-23.565159</td>\n",
       "      <td>-46.651062</td>\n",
       "    </tr>\n",
       "    <tr>\n",
       "      <th>4</th>\n",
       "      <td>1</td>\n",
       "      <td>1015</td>\n",
       "      <td>8750</td>\n",
       "      <td>40200</td>\n",
       "      <td>0.217137</td>\n",
       "      <td>5.654422</td>\n",
       "      <td>52.599433</td>\n",
       "      <td>71072</td>\n",
       "      <td>1.704648e-19</td>\n",
       "      <td>1</td>\n",
       "      <td>27</td>\n",
       "      <td>-23.565159</td>\n",
       "      <td>-46.651062</td>\n",
       "    </tr>\n",
       "  </tbody>\n",
       "</table>\n",
       "</div>"
      ],
      "text/plain": [
       "   zona  local  votos_recebidos  eleitores  percentual_votos  \\\n",
       "0     1   1015             8750      40200          0.217137   \n",
       "1     1   1015             8750      40200          0.217137   \n",
       "2     1   1015             8750      40200          0.217137   \n",
       "3     1   1015             8750      40200          0.217137   \n",
       "4     1   1015             8750      40200          0.217137   \n",
       "\n",
       "   escolaridade_score  idade_score  municipio  probabilidade  clusters  secao  \\\n",
       "0            5.654422    52.599433      71072   1.704648e-19         1     18   \n",
       "1            5.654422    52.599433      71072   1.704648e-19         1     13   \n",
       "2            5.654422    52.599433      71072   1.704648e-19         1     10   \n",
       "3            5.654422    52.599433      71072   1.704648e-19         1     16   \n",
       "4            5.654422    52.599433      71072   1.704648e-19         1     27   \n",
       "\n",
       "    latitude  longitude  \n",
       "0 -23.565159 -46.651062  \n",
       "1 -23.565159 -46.651062  \n",
       "2 -23.565159 -46.651062  \n",
       "3 -23.565159 -46.651062  \n",
       "4 -23.565159 -46.651062  "
      ]
     },
     "execution_count": 267,
     "metadata": {},
     "output_type": "execute_result"
    }
   ],
   "source": [
    "data_filtered.head()"
   ]
  },
  {
   "cell_type": "code",
   "execution_count": 268,
   "metadata": {},
   "outputs": [],
   "source": [
    "cluster_map_data = data_filtered[['clusters', 'latitude', 'longitude']]"
   ]
  },
  {
   "cell_type": "code",
   "execution_count": 269,
   "metadata": {},
   "outputs": [
    {
     "data": {
      "text/html": [
       "<div>\n",
       "<style scoped>\n",
       "    .dataframe tbody tr th:only-of-type {\n",
       "        vertical-align: middle;\n",
       "    }\n",
       "\n",
       "    .dataframe tbody tr th {\n",
       "        vertical-align: top;\n",
       "    }\n",
       "\n",
       "    .dataframe thead th {\n",
       "        text-align: right;\n",
       "    }\n",
       "</style>\n",
       "<table border=\"1\" class=\"dataframe\">\n",
       "  <thead>\n",
       "    <tr style=\"text-align: right;\">\n",
       "      <th></th>\n",
       "      <th>clusters</th>\n",
       "      <th>latitude</th>\n",
       "      <th>longitude</th>\n",
       "    </tr>\n",
       "  </thead>\n",
       "  <tbody>\n",
       "    <tr>\n",
       "      <th>0</th>\n",
       "      <td>1</td>\n",
       "      <td>-23.565159</td>\n",
       "      <td>-46.651062</td>\n",
       "    </tr>\n",
       "  </tbody>\n",
       "</table>\n",
       "</div>"
      ],
      "text/plain": [
       "   clusters   latitude  longitude\n",
       "0         1 -23.565159 -46.651062"
      ]
     },
     "execution_count": 269,
     "metadata": {},
     "output_type": "execute_result"
    }
   ],
   "source": [
    "cluster_map_data.head(1)"
   ]
  },
  {
   "cell_type": "code",
   "execution_count": 270,
   "metadata": {},
   "outputs": [
    {
     "data": {
      "text/html": [
       "<div>\n",
       "<style scoped>\n",
       "    .dataframe tbody tr th:only-of-type {\n",
       "        vertical-align: middle;\n",
       "    }\n",
       "\n",
       "    .dataframe tbody tr th {\n",
       "        vertical-align: top;\n",
       "    }\n",
       "\n",
       "    .dataframe thead th {\n",
       "        text-align: right;\n",
       "    }\n",
       "</style>\n",
       "<table border=\"1\" class=\"dataframe\">\n",
       "  <thead>\n",
       "    <tr style=\"text-align: right;\">\n",
       "      <th></th>\n",
       "      <th>percentual_votos</th>\n",
       "      <th>prob_mean</th>\n",
       "      <th>qtd</th>\n",
       "    </tr>\n",
       "    <tr>\n",
       "      <th>clusters</th>\n",
       "      <th></th>\n",
       "      <th></th>\n",
       "      <th></th>\n",
       "    </tr>\n",
       "  </thead>\n",
       "  <tbody>\n",
       "    <tr>\n",
       "      <th>0</th>\n",
       "      <td>0.321231</td>\n",
       "      <td>0.001346</td>\n",
       "      <td>592</td>\n",
       "    </tr>\n",
       "    <tr>\n",
       "      <th>3</th>\n",
       "      <td>0.282748</td>\n",
       "      <td>0.017954</td>\n",
       "      <td>770</td>\n",
       "    </tr>\n",
       "    <tr>\n",
       "      <th>2</th>\n",
       "      <td>0.251509</td>\n",
       "      <td>0.003557</td>\n",
       "      <td>494</td>\n",
       "    </tr>\n",
       "    <tr>\n",
       "      <th>1</th>\n",
       "      <td>0.208153</td>\n",
       "      <td>0.000538</td>\n",
       "      <td>191</td>\n",
       "    </tr>\n",
       "  </tbody>\n",
       "</table>\n",
       "</div>"
      ],
      "text/plain": [
       "          percentual_votos  prob_mean  qtd\n",
       "clusters                                  \n",
       "0                 0.321231   0.001346  592\n",
       "3                 0.282748   0.017954  770\n",
       "2                 0.251509   0.003557  494\n",
       "1                 0.208153   0.000538  191"
      ]
     },
     "execution_count": 270,
     "metadata": {},
     "output_type": "execute_result"
    }
   ],
   "source": [
    "cluster_data"
   ]
  },
  {
   "cell_type": "code",
   "execution_count": 275,
   "metadata": {},
   "outputs": [],
   "source": [
    "# Criando um mapa centrado\n",
    "m = folium.Map(location=[\n",
    "    cluster_map_data['latitude'].mean(), \n",
    "    cluster_map_data['longitude'].mean()], zoom_start=15)\n",
    "\n",
    "# Paleta de cores para clusters\n",
    "colors = {0: 'purple', 1: 'blue', 2: 'gray', 3: 'orange'}\n",
    "legenda = {\n",
    "    2: 'abaixo do esperado',\n",
    "    3: 'esperado',\n",
    "    1: 'muito abaixo do esperado',\n",
    "    0: 'acima do esperado'\n",
    "}\n",
    "# Criando camadas separadas por cluster\n",
    "for cluster_id, group in cluster_map_data.groupby('clusters'):\n",
    "    cluster_layer = folium.FeatureGroup(name=f'Apoio {legenda.get(cluster_id)}')\n",
    "    for _, row in group.iterrows():\n",
    "        folium.CircleMarker(\n",
    "            location=[row['latitude'], row['longitude']],\n",
    "            radius=10,\n",
    "            color=colors[cluster_id],\n",
    "            fill=True,\n",
    "            fill_color=colors[cluster_id],\n",
    "            fill_opacity=0.7,\n",
    "            popup=f\"Cluster: {row['clusters']}\"\n",
    "        ).add_to(cluster_layer)\n",
    "    cluster_layer.add_to(m)"
   ]
  },
  {
   "cell_type": "code",
   "execution_count": 276,
   "metadata": {},
   "outputs": [
    {
     "data": {
      "text/plain": [
       "<branca.element.Element at 0x1e3680db3b0>"
      ]
     },
     "execution_count": 276,
     "metadata": {},
     "output_type": "execute_result"
    }
   ],
   "source": [
    "legend_html = f\"\"\"\n",
    "<div style=\"position: fixed;\n",
    "            bottom: 50px; left: 50px; width: 250px; height: 150px;\n",
    "            background-color: white; z-index: 1000; font-size: 14px;\n",
    "            border: 2px solid grey; border-radius: 10px; padding: 10px;\">\n",
    "    <b>Legenda</b><br>\n",
    "    <i style=\"background:{colors.get(0)}; width:10px; height:10px; display:inline-block; margin-right:5px;\"></i> Apoio {legenda.get(0)}<br>\n",
    "    <i style=\"background:{colors.get(1)}; width:10px; height:10px; display:inline-block; margin-right:5px;\"></i> Apoio {legenda.get(1)}<br>\n",
    "    <i style=\"background:{colors.get(2)}; width:10px; height:10px; display:inline-block; margin-right:5px;\"></i> Apoio {legenda.get(2)}<br>\n",
    "    <i style=\"background:{colors.get(3)}; width:10px; height:10px; display:inline-block; margin-right:5px;\"></i> Apoio {legenda.get(3)}<br>\n",
    "</div>\n",
    "\"\"\"\n",
    "m.get_root().html.add_child(folium.Element(legend_html))"
   ]
  },
  {
   "cell_type": "code",
   "execution_count": 277,
   "metadata": {},
   "outputs": [
    {
     "data": {
      "text/plain": [
       "<folium.map.LayerControl at 0x1e311933ec0>"
      ]
     },
     "execution_count": 277,
     "metadata": {},
     "output_type": "execute_result"
    }
   ],
   "source": [
    "# Adicionando o controle de camadas\n",
    "folium.LayerControl().add_to(m)"
   ]
  },
  {
   "cell_type": "code",
   "execution_count": 278,
   "metadata": {},
   "outputs": [],
   "source": [
    "m.save(f\"mapas/apoio_{name}.html\")"
   ]
  }
 ],
 "metadata": {
  "kernelspec": {
   "display_name": "Python 3",
   "language": "python",
   "name": "python3"
  },
  "language_info": {
   "codemirror_mode": {
    "name": "ipython",
    "version": 3
   },
   "file_extension": ".py",
   "mimetype": "text/x-python",
   "name": "python",
   "nbconvert_exporter": "python",
   "pygments_lexer": "ipython3",
   "version": "3.12.8"
  }
 },
 "nbformat": 4,
 "nbformat_minor": 2
}

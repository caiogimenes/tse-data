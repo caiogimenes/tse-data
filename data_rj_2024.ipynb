{
 "cells": [
  {
   "cell_type": "markdown",
   "metadata": {},
   "source": [
    "# Script notebook - criar banco de dados SQL para consultas eleitorais\n",
    "---\n",
    "### Ano 2024, UF RJ\n",
    "### Tabelas\n",
    "- perfil de eleitorado\n",
    "- locais de votação\n",
    "- resultados eleitorais"
   ]
  },
  {
   "cell_type": "code",
   "execution_count": 1,
   "metadata": {},
   "outputs": [],
   "source": [
    "from tse import TseClient, df_to_sql, listar_tabelas"
   ]
  },
  {
   "cell_type": "markdown",
   "metadata": {},
   "source": [
    "- Inicializando cliente"
   ]
  },
  {
   "cell_type": "code",
   "execution_count": 2,
   "metadata": {},
   "outputs": [],
   "source": [
    "client = TseClient()"
   ]
  },
  {
   "cell_type": "markdown",
   "metadata": {},
   "source": [
    "- Menu de datasets disponíveis"
   ]
  },
  {
   "cell_type": "code",
   "execution_count": 3,
   "metadata": {},
   "outputs": [
    {
     "name": "stdout",
     "output_type": "stream",
     "text": [
      "0 -> prestacao-de-contas-partidarias-2018\n",
      "1 -> resultados-2022-arquivos-transmitidos-para-totalizacao\n",
      "2 -> resultados-2022\n",
      "3 -> resultados-1974\n",
      "4 -> dadosabertos-tse-jus-br-dataset-prestacao-de-contas-eleitorais-2022\n",
      "5 -> candidatos-2014\n",
      "6 -> mesarios1-2018\n",
      "7 -> prestacao-de-contas-partidarias-2024\n",
      "8 -> pesquisas-eleitorais-2016\n",
      "9 -> prestacao-de-contas-eleitorais-2024\n",
      "10 -> candidatos-1998\n",
      "11 -> eleitorado-2004\n",
      "12 -> resultados-1934\n",
      "13 -> comparecimento-e-abstencao-2022\n",
      "14 -> eleitorado-2018\n",
      "15 -> prestacao-de-contas-eleitorais-2008\n",
      "16 -> eleitorado-2016\n",
      "17 -> prestacao-de-contas-partidarias-2019\n",
      "18 -> resultados-1986\n",
      "19 -> resultados-2002\n",
      "20 -> resultados-2014-boletim-de-urna\n",
      "21 -> resultados-2024-logs-do-sistema-de-preparacao-das-urnas-eletronicas-gedai-1-turno\n",
      "22 -> candidatos-1990\n",
      "23 -> candidatos-2012\n",
      "24 -> mesarios-2022\n",
      "25 -> resultados-1978\n",
      "26 -> resultados-2024-logs-do-sistema-de-preparacao-das-urnas-eletronicas-gedai-2-turno\n",
      "27 -> candidatos-2018\n",
      "28 -> mesarios-2024\n",
      "29 -> prestacao-de-contas-eleitorais-2012\n",
      "30 -> eleitorado-2008\n",
      "31 -> pesquisas-eleitorais-atual\n",
      "32 -> prestacao-de-contas-eleitorais-2006\n",
      "33 -> resultados-2020\n",
      "34 -> candidatos-1966\n",
      "35 -> prestacao-de-contas-eleitorais-2020\n",
      "36 -> eleitorado-1996\n",
      "37 -> prestacao-de-contas-partidarias-2020\n",
      "38 -> resultados-1945\n",
      "39 -> resultados-2024-boletim-de-urna\n",
      "40 -> candidatos-1950\n",
      "41 -> candidatos-1955\n",
      "42 -> eleitorado-2006\n",
      "43 -> resultados-2014\n",
      "44 -> resultados-2014-correspondencias-esperadas-e-efetivadas-2-turno\n",
      "45 -> resultados-1966\n",
      "46 -> candidatos-1989\n",
      "47 -> processo-eleitoral\n",
      "48 -> resultados-2018\n",
      "49 -> candidatos-1978\n",
      "50 -> eleitorado-2024\n",
      "51 -> resultados-1933\n",
      "52 -> candidatos-2024\n",
      "53 -> resultados-2024-arquivos-transmitidos-para-totalizacao\n",
      "54 -> resultados-2016\n",
      "55 -> resultados-1982\n",
      "56 -> delegados-partidarios\n",
      "57 -> resultados-2018-correspondencias-esperadas-e-efetivadas-1-turno\n",
      "58 -> candidatos-1994\n",
      "59 -> resultados-2012-correspondencias-esperadas-efetivadas-1-turno\n",
      "60 -> prestacao-de-contas-eleitorais-2014\n",
      "61 -> resultados-1998\n",
      "62 -> prestacao-de-contas-partidarias-2016\n",
      "63 -> resultados-2020-suplementares\n",
      "64 -> pesquisas-eleitorais-2020\n",
      "65 -> prestacao-de-contas-eleitorais-2004\n",
      "66 -> eleitorado-atual\n",
      "67 -> eleitorado-2002\n",
      "68 -> resultados-1947\n",
      "69 -> prestacao-de-contas-partidarias-2021\n",
      "70 -> candidatos-1933\n",
      "71 -> resultados-2014-correspondencias-esperadas-e-efetivadas-1-turno\n",
      "72 -> resultados-2022-correspondencias-esperadas-e-efetivadas-2-turno\n",
      "73 -> resultados-1955\n",
      "74 -> resultados-2020-correspondencias-esperadas-e-efetivadas-2-turno\n",
      "75 -> candidatos-2020-subtemas\n",
      "76 -> candidatos-1947\n",
      "77 -> candidatos-1960\n",
      "78 -> resultados-2018-boletim-de-urna\n",
      "79 -> resultados-2022-correspondencias-esperadas-e-efetivadas-1-turno\n",
      "80 -> resultados-1989\n",
      "81 -> resultados-2012\n",
      "82 -> resultados-1990\n",
      "83 -> candidatos-2006\n",
      "84 -> eleitorado-2022\n",
      "85 -> mesarios-2016\n",
      "86 -> candidatos-2010\n",
      "87 -> comparecimento-e-abstencao-2018\n",
      "88 -> pesquisas-eleitorais-2018\n",
      "89 -> candidatos-1954\n",
      "90 -> resultados-1996\n",
      "91 -> resultados-2024-correspondencias-esperadas-e-efetivadas-2-turno\n",
      "92 -> eleitorado-2010\n",
      "93 -> resultados-1950\n",
      "94 -> processual-2020\n",
      "95 -> resultados-2000\n",
      "96 -> eleitorado-2014\n",
      "97 -> candidatos-1986\n",
      "98 -> resultados-2024\n",
      "99 -> eleitorado-2012\n",
      "100 -> comparecimento-e-abstencao-2016\n",
      "101 -> resultados-2012-correspondencias-esperadas-e-efetivadas-2-turno\n",
      "102 -> prestacao-de-contas-eleitorais-2018\n",
      "103 -> candidatos-1974\n",
      "104 -> prestacao-de-contas-partidarias-2017\n",
      "105 -> resultados-2016-boletim-de-urna\n",
      "106 -> candidatos-2016\n",
      "107 -> resultados-2006\n",
      "108 -> resultados-1965\n",
      "109 -> eleitorado-1994\n",
      "110 -> resultados-2004\n",
      "111 -> candidatos-2000\n",
      "112 -> resultados-1994\n",
      "113 -> candidatos-1945\n",
      "114 -> resultados-2024-correspondencias-esperadas-e-efetivadas-1-turno\n",
      "115 -> prestacao-de-contas-eleitorais-2010\n",
      "116 -> prestacao-de-contas-partidarias-2023\n",
      "117 -> comparecimento-e-abstencao-2020\n",
      "118 -> resultados-2016-correspondencias-esperadas-e-efetivadas-1-turno\n",
      "119 -> resultados-2010\n",
      "120 -> processual-2022\n",
      "121 -> candidatos-1962\n",
      "122 -> rae-requerimento-de-alistamento-eleitoral\n",
      "123 -> eleitorado-2020\n",
      "124 -> resultados-2020-boletim-de-urna\n",
      "125 -> comparecimento-e-abstencao-2014\n",
      "126 -> candidatos-1982\n",
      "127 -> resultados-2020-correspondencias-esperadas-e-efetivadas-1-turno\n",
      "128 -> candidatos-2022\n",
      "129 -> candidatos-2004\n",
      "130 -> candidatos-1958\n",
      "131 -> eleitorado-2000\n",
      "132 -> comparecimento-e-abstencao-2024\n",
      "133 -> candidatos-1996\n",
      "134 -> resultados-1970\n",
      "135 -> resultados-1954\n",
      "136 -> correspondencia-entre-numero-interno-e-modelo-da-urna-1\n",
      "137 -> prestacao-de-contas-partidarias-2014\n",
      "138 -> pesquisas-eleitorais-2014\n",
      "139 -> pesquisas-eleitorais-2012\n",
      "140 -> pesquisas-eleitorais-2024\n",
      "141 -> resultados-2016-correspondencias-esperadas-e-efetivadas-2-turno\n",
      "142 -> candidatos-2002\n",
      "143 -> mesarios1-2020\n",
      "144 -> prestacao-de-contas-partidarias-2015\n",
      "145 -> candidatos-1965\n",
      "146 -> resultados-1960\n",
      "147 -> resultados-2008\n",
      "148 -> eleitorado-1998\n",
      "149 -> resultados-1962\n",
      "150 -> candidatos-2008\n",
      "151 -> candidatos-1970\n",
      "152 -> resultados-2022-boletim-de-urna\n",
      "153 -> resultados-2012-boletim-de-urna-1-turno\n",
      "154 -> prestacao-de-contas-partidarias-2022\n",
      "155 -> resultados-2018-correspondencias-esperadas-e-efetivadas-2-turno\n",
      "156 -> prestacao-de-contas-eleitorais-2002\n",
      "157 -> processual-2024\n",
      "158 -> resultados-1958\n",
      "159 -> candidatos-1934\n",
      "160 -> prestacao-de-contas-eleitorais-2016\n"
     ]
    }
   ],
   "source": [
    "for i, dataset in enumerate(client.datasets):\n",
    "    print(f'{i} -> {dataset}')"
   ]
  },
  {
   "cell_type": "markdown",
   "metadata": {},
   "source": [
    "## Escolhendo os datasets:\n",
    "### eleitorado-2024\n",
    "- perfil_eleitor_secao_2024_RJ: informacoes sobre perfil dos eleitores por secao no RJ\n",
    "- eleitorado_local_votacao_2024: informacoes sobre locais de votacao\n",
    "\n",
    "### resultados-2024\n",
    "- votacao_secao_2024_RJ: informacoes sobre resultado das votacoes por secao no RJ\n"
   ]
  },
  {
   "cell_type": "code",
   "execution_count": 4,
   "metadata": {},
   "outputs": [],
   "source": [
    "data = {} # armazena dataframes das tabelas selecionadas"
   ]
  },
  {
   "cell_type": "markdown",
   "metadata": {},
   "source": [
    "- Dataset: perfil do eleitorado"
   ]
  },
  {
   "cell_type": "code",
   "execution_count": 5,
   "metadata": {},
   "outputs": [
    {
     "data": {
      "text/plain": [
       "{'https://cdn.tse.jus.br/estatistica/sead/odsele/perfil_eleitor_secao/perfil_eleitor_secao_2024_RJ.zip'}"
      ]
     },
     "execution_count": 5,
     "metadata": {},
     "output_type": "execute_result"
    }
   ],
   "source": [
    "perfil_eleitorado = client.find_dataset('eleitorado-2024', pattern='RJ')\n",
    "perfil_eleitorado"
   ]
  },
  {
   "cell_type": "markdown",
   "metadata": {},
   "source": [
    "- Dataset: locais de votacao (BRASIL)"
   ]
  },
  {
   "cell_type": "code",
   "execution_count": 6,
   "metadata": {},
   "outputs": [
    {
     "data": {
      "text/plain": [
       "{'https://cdn.tse.jus.br/estatistica/sead/odsele/eleitorado_locais_votacao/eleitorado_local_votacao_2024.zip'}"
      ]
     },
     "execution_count": 6,
     "metadata": {},
     "output_type": "execute_result"
    }
   ],
   "source": [
    "locais_rj = client.find_dataset('eleitorado-2024', pattern='local')\n",
    "locais_rj"
   ]
  },
  {
   "cell_type": "markdown",
   "metadata": {},
   "source": [
    "- Dataset: resultados da votação RJ"
   ]
  },
  {
   "cell_type": "code",
   "execution_count": 7,
   "metadata": {},
   "outputs": [
    {
     "data": {
      "text/plain": [
       "{'https://cdn.tse.jus.br/estatistica/sead/odsele/relatorio_resultado_totalizacao/Relatorio_Resultado_Totalizacao_2024_RJ.zip',\n",
       " 'https://cdn.tse.jus.br/estatistica/sead/odsele/votacao_secao/votacao_secao_2024_RJ.zip'}"
      ]
     },
     "execution_count": 7,
     "metadata": {},
     "output_type": "execute_result"
    }
   ],
   "source": [
    "resultados = client.find_dataset('resultados-2024', pattern='RJ')\n",
    "resultados"
   ]
  },
  {
   "cell_type": "markdown",
   "metadata": {},
   "source": [
    "- Download e carregamento de cada dataset em um dataframe"
   ]
  },
  {
   "cell_type": "code",
   "execution_count": 8,
   "metadata": {},
   "outputs": [
    {
     "name": "stdout",
     "output_type": "stream",
     "text": [
      "Files downloaded to data\\perfil_eleitor_secao_2024_RJ\n"
     ]
    }
   ],
   "source": [
    "data.update(\n",
    "    client.load_data_from_dirs(\n",
    "        client.download_datasets(perfil_eleitorado)\n",
    "    )\n",
    ")"
   ]
  },
  {
   "cell_type": "code",
   "execution_count": 9,
   "metadata": {},
   "outputs": [
    {
     "name": "stdout",
     "output_type": "stream",
     "text": [
      "Files downloaded to data\\eleitorado_local_votacao_2024\n"
     ]
    }
   ],
   "source": [
    "data.update(\n",
    "    client.load_data_from_dirs(\n",
    "        client.download_datasets(locais_rj)\n",
    "    )\n",
    ")"
   ]
  },
  {
   "cell_type": "code",
   "execution_count": 10,
   "metadata": {},
   "outputs": [
    {
     "name": "stdout",
     "output_type": "stream",
     "text": [
      "Files downloaded to data\\Relatorio_Resultado_Totalizacao_2024_RJ\n",
      "Files downloaded to data\\votacao_secao_2024_RJ\n"
     ]
    }
   ],
   "source": [
    "data.update(\n",
    "    client.load_data_from_dirs(\n",
    "        client.download_datasets(resultados)\n",
    "    )\n",
    ")"
   ]
  },
  {
   "cell_type": "code",
   "execution_count": 11,
   "metadata": {},
   "outputs": [
    {
     "data": {
      "text/plain": [
       "dict_keys(['perfil_eleitor_secao_2024_RJ', 'eleitorado_local_votacao_2024', 'votacao_secao_2024_RJ'])"
      ]
     },
     "execution_count": 11,
     "metadata": {},
     "output_type": "execute_result"
    }
   ],
   "source": [
    "data.keys()"
   ]
  },
  {
   "cell_type": "markdown",
   "metadata": {},
   "source": [
    "- Limpeza de algumas colunas"
   ]
  },
  {
   "cell_type": "code",
   "execution_count": 12,
   "metadata": {},
   "outputs": [],
   "source": [
    "resultados_df = data.get('votacao_secao_2024_RJ')"
   ]
  },
  {
   "cell_type": "code",
   "execution_count": 13,
   "metadata": {},
   "outputs": [
    {
     "data": {
      "text/plain": [
       "Index(['DT_GERACAO', 'HH_GERACAO', 'ANO_ELEICAO', 'CD_TIPO_ELEICAO',\n",
       "       'NM_TIPO_ELEICAO', 'NR_TURNO', 'CD_ELEICAO', 'DS_ELEICAO', 'DT_ELEICAO',\n",
       "       'TP_ABRANGENCIA', 'SG_UF', 'SG_UE', 'NM_UE', 'CD_MUNICIPIO',\n",
       "       'NM_MUNICIPIO', 'NR_ZONA', 'NR_SECAO', 'CD_CARGO', 'DS_CARGO',\n",
       "       'NR_VOTAVEL', 'NM_VOTAVEL', 'QT_VOTOS', 'NR_LOCAL_VOTACAO',\n",
       "       'SQ_CANDIDATO', 'NM_LOCAL_VOTACAO', 'DS_LOCAL_VOTACAO_ENDERECO'],\n",
       "      dtype='object')"
      ]
     },
     "execution_count": 13,
     "metadata": {},
     "output_type": "execute_result"
    }
   ],
   "source": [
    "resultados_df.columns"
   ]
  },
  {
   "cell_type": "code",
   "execution_count": 14,
   "metadata": {},
   "outputs": [],
   "source": [
    "resultados_columns = [\n",
    "    'ANO_ELEICAO',\n",
    "    'SG_UF',\n",
    "    'CD_MUNICIPIO',\n",
    "    'NR_ZONA', \n",
    "    'NR_LOCAL_VOTACAO',\n",
    "    'NR_SECAO', \n",
    "    'NR_TURNO', \n",
    "    'CD_CARGO', \n",
    "    'DS_CARGO',\n",
    "    'NR_VOTAVEL',\n",
    "    'NM_VOTAVEL',\n",
    "    'QT_VOTOS'\n",
    "]\n",
    "resultados_df = resultados_df[resultados_columns]"
   ]
  },
  {
   "cell_type": "code",
   "execution_count": 15,
   "metadata": {},
   "outputs": [
    {
     "data": {
      "text/html": [
       "<div>\n",
       "<style scoped>\n",
       "    .dataframe tbody tr th:only-of-type {\n",
       "        vertical-align: middle;\n",
       "    }\n",
       "\n",
       "    .dataframe tbody tr th {\n",
       "        vertical-align: top;\n",
       "    }\n",
       "\n",
       "    .dataframe thead th {\n",
       "        text-align: right;\n",
       "    }\n",
       "</style>\n",
       "<table border=\"1\" class=\"dataframe\">\n",
       "  <thead>\n",
       "    <tr style=\"text-align: right;\">\n",
       "      <th></th>\n",
       "      <th>ANO_ELEICAO</th>\n",
       "      <th>SG_UF</th>\n",
       "      <th>CD_MUNICIPIO</th>\n",
       "      <th>NR_ZONA</th>\n",
       "      <th>NR_LOCAL_VOTACAO</th>\n",
       "      <th>NR_SECAO</th>\n",
       "      <th>NR_TURNO</th>\n",
       "      <th>CD_CARGO</th>\n",
       "      <th>DS_CARGO</th>\n",
       "      <th>NR_VOTAVEL</th>\n",
       "      <th>NM_VOTAVEL</th>\n",
       "      <th>QT_VOTOS</th>\n",
       "    </tr>\n",
       "  </thead>\n",
       "  <tbody>\n",
       "    <tr>\n",
       "      <th>0</th>\n",
       "      <td>2024</td>\n",
       "      <td>RJ</td>\n",
       "      <td>58130</td>\n",
       "      <td>96</td>\n",
       "      <td>1082</td>\n",
       "      <td>153</td>\n",
       "      <td>1</td>\n",
       "      <td>13</td>\n",
       "      <td>Vereador</td>\n",
       "      <td>44500</td>\n",
       "      <td>CAROLINE MIDORI DA COSTA SILVA</td>\n",
       "      <td>2</td>\n",
       "    </tr>\n",
       "    <tr>\n",
       "      <th>1</th>\n",
       "      <td>2024</td>\n",
       "      <td>RJ</td>\n",
       "      <td>58130</td>\n",
       "      <td>96</td>\n",
       "      <td>1856</td>\n",
       "      <td>333</td>\n",
       "      <td>1</td>\n",
       "      <td>13</td>\n",
       "      <td>Vereador</td>\n",
       "      <td>44500</td>\n",
       "      <td>CAROLINE MIDORI DA COSTA SILVA</td>\n",
       "      <td>5</td>\n",
       "    </tr>\n",
       "    <tr>\n",
       "      <th>2</th>\n",
       "      <td>2024</td>\n",
       "      <td>RJ</td>\n",
       "      <td>58696</td>\n",
       "      <td>157</td>\n",
       "      <td>1210</td>\n",
       "      <td>128</td>\n",
       "      <td>1</td>\n",
       "      <td>13</td>\n",
       "      <td>Vereador</td>\n",
       "      <td>30300</td>\n",
       "      <td>FERNANDO BRAZ DE LIMA</td>\n",
       "      <td>2</td>\n",
       "    </tr>\n",
       "    <tr>\n",
       "      <th>3</th>\n",
       "      <td>2024</td>\n",
       "      <td>RJ</td>\n",
       "      <td>58130</td>\n",
       "      <td>96</td>\n",
       "      <td>1953</td>\n",
       "      <td>179</td>\n",
       "      <td>1</td>\n",
       "      <td>13</td>\n",
       "      <td>Vereador</td>\n",
       "      <td>44500</td>\n",
       "      <td>CAROLINE MIDORI DA COSTA SILVA</td>\n",
       "      <td>5</td>\n",
       "    </tr>\n",
       "    <tr>\n",
       "      <th>4</th>\n",
       "      <td>2024</td>\n",
       "      <td>RJ</td>\n",
       "      <td>58696</td>\n",
       "      <td>157</td>\n",
       "      <td>1082</td>\n",
       "      <td>50</td>\n",
       "      <td>1</td>\n",
       "      <td>13</td>\n",
       "      <td>Vereador</td>\n",
       "      <td>30300</td>\n",
       "      <td>FERNANDO BRAZ DE LIMA</td>\n",
       "      <td>1</td>\n",
       "    </tr>\n",
       "  </tbody>\n",
       "</table>\n",
       "</div>"
      ],
      "text/plain": [
       "   ANO_ELEICAO SG_UF  CD_MUNICIPIO  NR_ZONA  NR_LOCAL_VOTACAO  NR_SECAO  \\\n",
       "0         2024    RJ         58130       96              1082       153   \n",
       "1         2024    RJ         58130       96              1856       333   \n",
       "2         2024    RJ         58696      157              1210       128   \n",
       "3         2024    RJ         58130       96              1953       179   \n",
       "4         2024    RJ         58696      157              1082        50   \n",
       "\n",
       "   NR_TURNO  CD_CARGO  DS_CARGO  NR_VOTAVEL                      NM_VOTAVEL  \\\n",
       "0         1        13  Vereador       44500  CAROLINE MIDORI DA COSTA SILVA   \n",
       "1         1        13  Vereador       44500  CAROLINE MIDORI DA COSTA SILVA   \n",
       "2         1        13  Vereador       30300           FERNANDO BRAZ DE LIMA   \n",
       "3         1        13  Vereador       44500  CAROLINE MIDORI DA COSTA SILVA   \n",
       "4         1        13  Vereador       30300           FERNANDO BRAZ DE LIMA   \n",
       "\n",
       "   QT_VOTOS  \n",
       "0         2  \n",
       "1         5  \n",
       "2         2  \n",
       "3         5  \n",
       "4         1  "
      ]
     },
     "execution_count": 15,
     "metadata": {},
     "output_type": "execute_result"
    }
   ],
   "source": [
    "resultados_df.head()"
   ]
  },
  {
   "cell_type": "markdown",
   "metadata": {},
   "source": [
    "- Limpeza de algumas colunas"
   ]
  },
  {
   "cell_type": "code",
   "execution_count": 16,
   "metadata": {},
   "outputs": [],
   "source": [
    "locais_df = data.get('eleitorado_local_votacao_2024')"
   ]
  },
  {
   "cell_type": "code",
   "execution_count": 17,
   "metadata": {},
   "outputs": [
    {
     "data": {
      "text/plain": [
       "Index(['DT_GERACAO', 'HH_GERACAO', 'AA_ELEICAO', 'DT_ELEICAO', 'DS_ELEICAO',\n",
       "       'NR_TURNO', 'SG_UF', 'CD_MUNICIPIO', 'NM_MUNICIPIO', 'NR_ZONA',\n",
       "       'NR_SECAO', 'CD_TIPO_SECAO_AGREGADA', 'DS_TIPO_SECAO_AGREGADA',\n",
       "       'NR_SECAO_PRINCIPAL', 'NR_LOCAL_VOTACAO', 'NM_LOCAL_VOTACAO',\n",
       "       'CD_TIPO_LOCAL', 'DS_TIPO_LOCAL', 'DS_ENDERECO', 'NM_BAIRRO', 'NR_CEP',\n",
       "       'NR_TELEFONE_LOCAL', 'NR_LATITUDE', 'NR_LONGITUDE',\n",
       "       'CD_SITU_LOCAL_VOTACAO', 'DS_SITU_LOCAL_VOTACAO', 'CD_SITU_ZONA',\n",
       "       'DS_SITU_ZONA', 'CD_SITU_SECAO', 'DS_SITU_SECAO', 'CD_SITU_LOCALIDADE',\n",
       "       'DS_SITU_LOCALIDADE', 'CD_SITU_SECAO_ACESSIBILIDADE',\n",
       "       'DS_SITU_SECAO_ACESSIBILIDADE', 'QT_ELEITOR_SECAO',\n",
       "       'QT_ELEITOR_ELEICAO_FEDERAL', 'QT_ELEITOR_ELEICAO_ESTADUAL',\n",
       "       'QT_ELEITOR_ELEICAO_MUNICIPAL', 'NR_LOCAL_VOTACAO_ORIGINAL',\n",
       "       'NM_LOCAL_VOTACAO_ORIGINAL', 'DS_ENDERECO_LOCVT_ORIGINAL'],\n",
       "      dtype='object')"
      ]
     },
     "execution_count": 17,
     "metadata": {},
     "output_type": "execute_result"
    }
   ],
   "source": [
    "locais_df.columns"
   ]
  },
  {
   "cell_type": "code",
   "execution_count": 18,
   "metadata": {},
   "outputs": [],
   "source": [
    "locais_columns = [\n",
    "    'AA_ELEICAO',\n",
    "    'SG_UF',\n",
    "    'CD_MUNICIPIO',\n",
    "    'NR_ZONA', \n",
    "    'NR_LOCAL_VOTACAO',\n",
    "    'NR_SECAO',\n",
    "    'NM_MUNICIPIO',\n",
    "    'NM_BAIRRO',\n",
    "    'NR_LATITUDE',\n",
    "    'NR_LONGITUDE',\n",
    "    'QT_ELEITOR_SECAO'\n",
    "]\n",
    "locais_df = locais_df[locais_columns]"
   ]
  },
  {
   "cell_type": "code",
   "execution_count": 19,
   "metadata": {},
   "outputs": [
    {
     "data": {
      "text/html": [
       "<div>\n",
       "<style scoped>\n",
       "    .dataframe tbody tr th:only-of-type {\n",
       "        vertical-align: middle;\n",
       "    }\n",
       "\n",
       "    .dataframe tbody tr th {\n",
       "        vertical-align: top;\n",
       "    }\n",
       "\n",
       "    .dataframe thead th {\n",
       "        text-align: right;\n",
       "    }\n",
       "</style>\n",
       "<table border=\"1\" class=\"dataframe\">\n",
       "  <thead>\n",
       "    <tr style=\"text-align: right;\">\n",
       "      <th></th>\n",
       "      <th>AA_ELEICAO</th>\n",
       "      <th>SG_UF</th>\n",
       "      <th>CD_MUNICIPIO</th>\n",
       "      <th>NR_ZONA</th>\n",
       "      <th>NR_LOCAL_VOTACAO</th>\n",
       "      <th>NR_SECAO</th>\n",
       "      <th>NM_MUNICIPIO</th>\n",
       "      <th>NM_BAIRRO</th>\n",
       "      <th>NR_LATITUDE</th>\n",
       "      <th>NR_LONGITUDE</th>\n",
       "      <th>QT_ELEITOR_SECAO</th>\n",
       "    </tr>\n",
       "  </thead>\n",
       "  <tbody>\n",
       "    <tr>\n",
       "      <th>0</th>\n",
       "      <td>2024</td>\n",
       "      <td>BA</td>\n",
       "      <td>39730</td>\n",
       "      <td>104</td>\n",
       "      <td>1147</td>\n",
       "      <td>62</td>\n",
       "      <td>LAPÃO</td>\n",
       "      <td>POVOADO DE CASAL I</td>\n",
       "      <td>-11.516413</td>\n",
       "      <td>-41.802394</td>\n",
       "      <td>262</td>\n",
       "    </tr>\n",
       "    <tr>\n",
       "      <th>1</th>\n",
       "      <td>2024</td>\n",
       "      <td>BA</td>\n",
       "      <td>39730</td>\n",
       "      <td>104</td>\n",
       "      <td>1457</td>\n",
       "      <td>181</td>\n",
       "      <td>LAPÃO</td>\n",
       "      <td>CENTRO</td>\n",
       "      <td>-11.379024</td>\n",
       "      <td>-41.835959</td>\n",
       "      <td>307</td>\n",
       "    </tr>\n",
       "    <tr>\n",
       "      <th>2</th>\n",
       "      <td>2024</td>\n",
       "      <td>SC</td>\n",
       "      <td>83798</td>\n",
       "      <td>36</td>\n",
       "      <td>1147</td>\n",
       "      <td>103</td>\n",
       "      <td>VIDEIRA</td>\n",
       "      <td>UNIVERSITÁRIO</td>\n",
       "      <td>-26.992234</td>\n",
       "      <td>-51.176671</td>\n",
       "      <td>388</td>\n",
       "    </tr>\n",
       "    <tr>\n",
       "      <th>3</th>\n",
       "      <td>2024</td>\n",
       "      <td>SC</td>\n",
       "      <td>83798</td>\n",
       "      <td>36</td>\n",
       "      <td>1015</td>\n",
       "      <td>95</td>\n",
       "      <td>VIDEIRA</td>\n",
       "      <td>CENTRO</td>\n",
       "      <td>-27.002251</td>\n",
       "      <td>-51.157982</td>\n",
       "      <td>271</td>\n",
       "    </tr>\n",
       "    <tr>\n",
       "      <th>4</th>\n",
       "      <td>2024</td>\n",
       "      <td>SP</td>\n",
       "      <td>72451</td>\n",
       "      <td>147</td>\n",
       "      <td>1074</td>\n",
       "      <td>178</td>\n",
       "      <td>VOTUPORANGA</td>\n",
       "      <td>VILA PAES</td>\n",
       "      <td>-20.414684</td>\n",
       "      <td>-49.971817</td>\n",
       "      <td>250</td>\n",
       "    </tr>\n",
       "  </tbody>\n",
       "</table>\n",
       "</div>"
      ],
      "text/plain": [
       "   AA_ELEICAO SG_UF  CD_MUNICIPIO  NR_ZONA  NR_LOCAL_VOTACAO  NR_SECAO  \\\n",
       "0        2024    BA         39730      104              1147        62   \n",
       "1        2024    BA         39730      104              1457       181   \n",
       "2        2024    SC         83798       36              1147       103   \n",
       "3        2024    SC         83798       36              1015        95   \n",
       "4        2024    SP         72451      147              1074       178   \n",
       "\n",
       "  NM_MUNICIPIO           NM_BAIRRO  NR_LATITUDE  NR_LONGITUDE  \\\n",
       "0        LAPÃO  POVOADO DE CASAL I   -11.516413    -41.802394   \n",
       "1        LAPÃO              CENTRO   -11.379024    -41.835959   \n",
       "2      VIDEIRA       UNIVERSITÁRIO   -26.992234    -51.176671   \n",
       "3      VIDEIRA              CENTRO   -27.002251    -51.157982   \n",
       "4  VOTUPORANGA           VILA PAES   -20.414684    -49.971817   \n",
       "\n",
       "   QT_ELEITOR_SECAO  \n",
       "0               262  \n",
       "1               307  \n",
       "2               388  \n",
       "3               271  \n",
       "4               250  "
      ]
     },
     "execution_count": 19,
     "metadata": {},
     "output_type": "execute_result"
    }
   ],
   "source": [
    "locais_df.head()"
   ]
  },
  {
   "cell_type": "markdown",
   "metadata": {},
   "source": [
    "- Limpeza de algumas colunas"
   ]
  },
  {
   "cell_type": "code",
   "execution_count": 20,
   "metadata": {},
   "outputs": [],
   "source": [
    "perfil_df = data.get('perfil_eleitor_secao_2024_RJ')"
   ]
  },
  {
   "cell_type": "code",
   "execution_count": 21,
   "metadata": {},
   "outputs": [
    {
     "data": {
      "text/plain": [
       "Index(['DT_GERACAO', 'HH_GERACAO', 'ANO_ELEICAO', 'SG_UF', 'CD_MUNICIPIO',\n",
       "       'NM_MUNICIPIO', 'NR_ZONA', 'NR_SECAO', 'NR_LOCAL_VOTACAO',\n",
       "       'NM_LOCAL_VOTACAO', 'CD_GENERO', 'DS_GENERO', 'CD_ESTADO_CIVIL',\n",
       "       'DS_ESTADO_CIVIL', 'CD_FAIXA_ETARIA', 'DS_FAIXA_ETARIA',\n",
       "       'CD_GRAU_ESCOLARIDADE', 'DS_GRAU_ESCOLARIDADE', 'CD_RACA_COR',\n",
       "       'DS_RACA_COR', 'CD_IDENTIDADE_GENERO', 'DS_IDENTIDADE_GENERO',\n",
       "       'CD_QUILOMBOLA', 'DS_QUILOMBOLA', 'CD_INTERPRETE_LIBRAS',\n",
       "       'DS_INTERPRETE_LIBRAS', 'QT_ELEITORES_PERFIL', 'QT_ELEITORES_BIOMETRIA',\n",
       "       'QT_ELEITORES_DEFICIENCIA', 'QT_ELEITORES_INC_NM_SOCIAL'],\n",
       "      dtype='object')"
      ]
     },
     "execution_count": 21,
     "metadata": {},
     "output_type": "execute_result"
    }
   ],
   "source": [
    "perfil_df.columns"
   ]
  },
  {
   "cell_type": "code",
   "execution_count": 22,
   "metadata": {},
   "outputs": [],
   "source": [
    "perfil_columns = [\n",
    "    'ANO_ELEICAO',\n",
    "    'DT_GERACAO',\n",
    "    'HH_GERACAO',\n",
    "    'SG_UF',\n",
    "    'CD_MUNICIPIO',\n",
    "    'NR_ZONA', \n",
    "    'NR_LOCAL_VOTACAO',\n",
    "    'NR_SECAO', \n",
    "    'DS_GENERO', \n",
    "    'DS_ESTADO_CIVIL',\n",
    "    'DS_FAIXA_ETARIA',\n",
    "    'DS_GRAU_ESCOLARIDADE',\n",
    "    'DS_RACA_COR',\n",
    "    'QT_ELEITORES_PERFIL'   \n",
    "]\n",
    "perfil_df = perfil_df[perfil_columns]"
   ]
  },
  {
   "cell_type": "code",
   "execution_count": 23,
   "metadata": {},
   "outputs": [
    {
     "data": {
      "text/html": [
       "<div>\n",
       "<style scoped>\n",
       "    .dataframe tbody tr th:only-of-type {\n",
       "        vertical-align: middle;\n",
       "    }\n",
       "\n",
       "    .dataframe tbody tr th {\n",
       "        vertical-align: top;\n",
       "    }\n",
       "\n",
       "    .dataframe thead th {\n",
       "        text-align: right;\n",
       "    }\n",
       "</style>\n",
       "<table border=\"1\" class=\"dataframe\">\n",
       "  <thead>\n",
       "    <tr style=\"text-align: right;\">\n",
       "      <th></th>\n",
       "      <th>ANO_ELEICAO</th>\n",
       "      <th>DT_GERACAO</th>\n",
       "      <th>HH_GERACAO</th>\n",
       "      <th>SG_UF</th>\n",
       "      <th>CD_MUNICIPIO</th>\n",
       "      <th>NR_ZONA</th>\n",
       "      <th>NR_LOCAL_VOTACAO</th>\n",
       "      <th>NR_SECAO</th>\n",
       "      <th>DS_GENERO</th>\n",
       "      <th>DS_ESTADO_CIVIL</th>\n",
       "      <th>DS_FAIXA_ETARIA</th>\n",
       "      <th>DS_GRAU_ESCOLARIDADE</th>\n",
       "      <th>DS_RACA_COR</th>\n",
       "      <th>QT_ELEITORES_PERFIL</th>\n",
       "    </tr>\n",
       "  </thead>\n",
       "  <tbody>\n",
       "    <tr>\n",
       "      <th>0</th>\n",
       "      <td>2024</td>\n",
       "      <td>13/09/2024</td>\n",
       "      <td>13:36:13</td>\n",
       "      <td>RJ</td>\n",
       "      <td>58009</td>\n",
       "      <td>255</td>\n",
       "      <td>1104</td>\n",
       "      <td>53</td>\n",
       "      <td>FEMININO</td>\n",
       "      <td>DIVORCIADO</td>\n",
       "      <td>35 a 39 anos</td>\n",
       "      <td>ENSINO MÉDIO INCOMPLETO</td>\n",
       "      <td>NÃO INFORMADO</td>\n",
       "      <td>1</td>\n",
       "    </tr>\n",
       "    <tr>\n",
       "      <th>1</th>\n",
       "      <td>2024</td>\n",
       "      <td>13/09/2024</td>\n",
       "      <td>13:36:13</td>\n",
       "      <td>RJ</td>\n",
       "      <td>60011</td>\n",
       "      <td>179</td>\n",
       "      <td>1449</td>\n",
       "      <td>312</td>\n",
       "      <td>FEMININO</td>\n",
       "      <td>CASADO</td>\n",
       "      <td>30 a 34 anos</td>\n",
       "      <td>SUPERIOR COMPLETO</td>\n",
       "      <td>Parda</td>\n",
       "      <td>1</td>\n",
       "    </tr>\n",
       "    <tr>\n",
       "      <th>2</th>\n",
       "      <td>2024</td>\n",
       "      <td>13/09/2024</td>\n",
       "      <td>13:36:13</td>\n",
       "      <td>RJ</td>\n",
       "      <td>60011</td>\n",
       "      <td>234</td>\n",
       "      <td>1163</td>\n",
       "      <td>44</td>\n",
       "      <td>FEMININO</td>\n",
       "      <td>SOLTEIRO</td>\n",
       "      <td>65 a 69 anos</td>\n",
       "      <td>ENSINO FUNDAMENTAL INCOMPLETO</td>\n",
       "      <td>NÃO INFORMADO</td>\n",
       "      <td>1</td>\n",
       "    </tr>\n",
       "    <tr>\n",
       "      <th>3</th>\n",
       "      <td>2024</td>\n",
       "      <td>13/09/2024</td>\n",
       "      <td>13:36:13</td>\n",
       "      <td>RJ</td>\n",
       "      <td>58696</td>\n",
       "      <td>156</td>\n",
       "      <td>1155</td>\n",
       "      <td>133</td>\n",
       "      <td>MASCULINO</td>\n",
       "      <td>SOLTEIRO</td>\n",
       "      <td>65 a 69 anos</td>\n",
       "      <td>ENSINO FUNDAMENTAL INCOMPLETO</td>\n",
       "      <td>NÃO INFORMADO</td>\n",
       "      <td>2</td>\n",
       "    </tr>\n",
       "    <tr>\n",
       "      <th>4</th>\n",
       "      <td>2024</td>\n",
       "      <td>13/09/2024</td>\n",
       "      <td>13:36:13</td>\n",
       "      <td>RJ</td>\n",
       "      <td>58491</td>\n",
       "      <td>110</td>\n",
       "      <td>1082</td>\n",
       "      <td>22</td>\n",
       "      <td>FEMININO</td>\n",
       "      <td>CASADO</td>\n",
       "      <td>65 a 69 anos</td>\n",
       "      <td>SUPERIOR COMPLETO</td>\n",
       "      <td>NÃO INFORMADO</td>\n",
       "      <td>1</td>\n",
       "    </tr>\n",
       "  </tbody>\n",
       "</table>\n",
       "</div>"
      ],
      "text/plain": [
       "   ANO_ELEICAO  DT_GERACAO HH_GERACAO SG_UF  CD_MUNICIPIO  NR_ZONA  \\\n",
       "0         2024  13/09/2024   13:36:13    RJ         58009      255   \n",
       "1         2024  13/09/2024   13:36:13    RJ         60011      179   \n",
       "2         2024  13/09/2024   13:36:13    RJ         60011      234   \n",
       "3         2024  13/09/2024   13:36:13    RJ         58696      156   \n",
       "4         2024  13/09/2024   13:36:13    RJ         58491      110   \n",
       "\n",
       "   NR_LOCAL_VOTACAO  NR_SECAO  DS_GENERO DS_ESTADO_CIVIL DS_FAIXA_ETARIA  \\\n",
       "0              1104        53   FEMININO      DIVORCIADO    35 a 39 anos   \n",
       "1              1449       312   FEMININO          CASADO    30 a 34 anos   \n",
       "2              1163        44   FEMININO        SOLTEIRO    65 a 69 anos   \n",
       "3              1155       133  MASCULINO        SOLTEIRO    65 a 69 anos   \n",
       "4              1082        22   FEMININO          CASADO    65 a 69 anos   \n",
       "\n",
       "            DS_GRAU_ESCOLARIDADE    DS_RACA_COR  QT_ELEITORES_PERFIL  \n",
       "0        ENSINO MÉDIO INCOMPLETO  NÃO INFORMADO                    1  \n",
       "1              SUPERIOR COMPLETO          Parda                    1  \n",
       "2  ENSINO FUNDAMENTAL INCOMPLETO  NÃO INFORMADO                    1  \n",
       "3  ENSINO FUNDAMENTAL INCOMPLETO  NÃO INFORMADO                    2  \n",
       "4              SUPERIOR COMPLETO  NÃO INFORMADO                    1  "
      ]
     },
     "execution_count": 23,
     "metadata": {},
     "output_type": "execute_result"
    }
   ],
   "source": [
    "perfil_df.head()"
   ]
  },
  {
   "cell_type": "markdown",
   "metadata": {},
   "source": [
    "- Finalmente: conversão para SQL database"
   ]
  },
  {
   "cell_type": "code",
   "execution_count": 24,
   "metadata": {},
   "outputs": [
    {
     "name": "stdout",
     "output_type": "stream",
     "text": [
      "Tabela \"locais\" foi criada no banco de dados \"databases\\eleicoes_2024.sql\".\n",
      "Tabela \"resultados\" foi criada no banco de dados \"databases\\rj_2024.sql\".\n",
      "Tabela \"eleitorado\" foi criada no banco de dados \"databases\\rj_2024.sql\".\n"
     ]
    },
    {
     "data": {
      "text/plain": [
       "'eleitorado'"
      ]
     },
     "execution_count": 24,
     "metadata": {},
     "output_type": "execute_result"
    }
   ],
   "source": [
    "df_to_sql(\n",
    "    df=locais_df, \n",
    "    table_name='locais', \n",
    "    dbname='eleicoes_2024.sql')\n",
    "\n",
    "df_to_sql(\n",
    "    df=resultados_df,\n",
    "    table_name='resultados',\n",
    "    dbname='rj_2024.sql')\n",
    "\n",
    "df_to_sql(\n",
    "    df=perfil_df,\n",
    "    table_name='eleitorado',\n",
    "    dbname='rj_2024.sql')"
   ]
  },
  {
   "cell_type": "code",
   "execution_count": 28,
   "metadata": {},
   "outputs": [
    {
     "name": "stdout",
     "output_type": "stream",
     "text": [
      "Tabelas no banco de dados:\n",
      "- resultados\n",
      "- eleitorado\n"
     ]
    },
    {
     "data": {
      "text/plain": [
       "['resultados', 'eleitorado']"
      ]
     },
     "execution_count": 28,
     "metadata": {},
     "output_type": "execute_result"
    }
   ],
   "source": [
    "listar_tabelas('databases/rj_2024.sql')"
   ]
  },
  {
   "cell_type": "code",
   "execution_count": 26,
   "metadata": {},
   "outputs": [
    {
     "name": "stdout",
     "output_type": "stream",
     "text": [
      "Tabelas no banco de dados:\n",
      "- locais\n"
     ]
    },
    {
     "data": {
      "text/plain": [
       "['locais']"
      ]
     },
     "execution_count": 26,
     "metadata": {},
     "output_type": "execute_result"
    }
   ],
   "source": [
    "listar_tabelas('databases/eleicoes_2024.sql')"
   ]
  },
  {
   "cell_type": "markdown",
   "metadata": {},
   "source": [
    "- Removendo arquivos temporários"
   ]
  },
  {
   "cell_type": "code",
   "execution_count": 27,
   "metadata": {},
   "outputs": [
    {
     "data": {
      "text/plain": [
       "'Diretório data esvaziado'"
      ]
     },
     "execution_count": 27,
     "metadata": {},
     "output_type": "execute_result"
    }
   ],
   "source": [
    "TseClient.remove_data()"
   ]
  }
 ],
 "metadata": {
  "kernelspec": {
   "display_name": "Python 3",
   "language": "python",
   "name": "python3"
  },
  "language_info": {
   "codemirror_mode": {
    "name": "ipython",
    "version": 3
   },
   "file_extension": ".py",
   "mimetype": "text/x-python",
   "name": "python",
   "nbconvert_exporter": "python",
   "pygments_lexer": "ipython3",
   "version": "3.12.8"
  }
 },
 "nbformat": 4,
 "nbformat_minor": 2
}

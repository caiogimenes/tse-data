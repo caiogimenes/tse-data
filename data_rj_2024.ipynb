{
 "cells": [
  {
   "cell_type": "markdown",
   "metadata": {},
   "source": [
    "# Criando um banco de dados SQL para consultas eleitorais\n",
    "---\n",
    "## Objetivo\n",
    "Criar um banco de dados com informacoes sobre:\n",
    "- perfil de eleitorado, \n",
    "- locais de votação e \n",
    "- resultados eleitorais\n",
    "\n",
    "## Escopo\n",
    "- UF: RJ\n",
    "- Ano: 2024\n",
    "\n"
   ]
  },
  {
   "cell_type": "code",
   "execution_count": 1,
   "metadata": {},
   "outputs": [],
   "source": [
    "from tse import TseClient\n",
    "from sql_utils import df_to_sql, listar_tabelas"
   ]
  },
  {
   "cell_type": "markdown",
   "metadata": {},
   "source": [
    "- Inicializando cliente"
   ]
  },
  {
   "cell_type": "code",
   "execution_count": 2,
   "metadata": {},
   "outputs": [],
   "source": [
    "client = TseClient()"
   ]
  },
  {
   "cell_type": "markdown",
   "metadata": {},
   "source": [
    "- Menu de datasets disponíveis"
   ]
  },
  {
   "cell_type": "code",
   "execution_count": 3,
   "metadata": {},
   "outputs": [
    {
     "name": "stdout",
     "output_type": "stream",
     "text": [
      "0 -> pesquisas-eleitorais-2020\n",
      "1 -> dadosabertos-tse-jus-br-dataset-prestacao-de-contas-eleitorais-2022\n",
      "2 -> resultados-1996\n",
      "3 -> pesquisas-eleitorais-2018\n",
      "4 -> resultados-1994\n",
      "5 -> prestacao-de-contas-partidarias-2024\n",
      "6 -> prestacao-de-contas-eleitorais-2014\n",
      "7 -> mesarios-2022\n",
      "8 -> resultados-2002\n",
      "9 -> resultados-1970\n",
      "10 -> resultados-1974\n",
      "11 -> eleitorado-atual\n",
      "12 -> candidatos-1974\n",
      "13 -> resultados-2012-correspondencias-esperadas-efetivadas-1-turno\n",
      "14 -> candidatos-1994\n",
      "15 -> comparecimento-e-abstencao-2014\n",
      "16 -> resultados-1986\n",
      "17 -> eleitorado-2012\n",
      "18 -> resultados-2018-correspondencias-esperadas-e-efetivadas-1-turno\n",
      "19 -> candidatos-1958\n",
      "20 -> resultados-2020-correspondencias-esperadas-e-efetivadas-2-turno\n",
      "21 -> rae-requerimento-de-alistamento-eleitoral\n",
      "22 -> prestacao-de-contas-eleitorais-2002\n",
      "23 -> candidatos-1954\n",
      "24 -> resultados-1958\n",
      "25 -> candidatos-2012\n",
      "26 -> resultados-2024-arquivos-transmitidos-para-totalizacao\n",
      "27 -> eleitorado-1994\n",
      "28 -> eleitorado-1998\n",
      "29 -> prestacao-de-contas-eleitorais-2012\n",
      "30 -> resultados-1934\n",
      "31 -> resultados-2012\n",
      "32 -> candidatos-1998\n",
      "33 -> comparecimento-e-abstencao-2022\n",
      "34 -> mesarios-2024\n",
      "35 -> candidatos-2006\n",
      "36 -> resultados-1933\n",
      "37 -> resultados-1966\n",
      "38 -> resultados-1982\n",
      "39 -> candidatos-1933\n",
      "40 -> prestacao-de-contas-eleitorais-2016\n",
      "41 -> resultados-1998\n",
      "42 -> resultados-2022\n",
      "43 -> resultados-2024-correspondencias-esperadas-e-efetivadas-2-turno\n",
      "44 -> candidatos-1962\n",
      "45 -> resultados-1978\n",
      "46 -> resultados-1947\n",
      "47 -> resultados-1960\n",
      "48 -> resultados-2020\n",
      "49 -> candidatos-1955\n",
      "50 -> candidatos-1989\n",
      "51 -> eleitorado-2016\n",
      "52 -> eleitorado-2024\n",
      "53 -> resultados-2012-correspondencias-esperadas-e-efetivadas-2-turno\n",
      "54 -> resultados-2016-correspondencias-esperadas-e-efetivadas-1-turno\n",
      "55 -> candidatos-2002\n",
      "56 -> candidatos-2018\n",
      "57 -> resultados-2022-arquivos-transmitidos-para-totalizacao\n",
      "58 -> resultados-2024-boletim-de-urna\n",
      "59 -> eleitorado-2006\n",
      "60 -> candidatos-1934\n",
      "61 -> mesarios1-2018\n",
      "62 -> eleitorado-2022\n",
      "63 -> resultados-2018\n",
      "64 -> prestacao-de-contas-partidarias-2023\n",
      "65 -> resultados-1989\n",
      "66 -> prestacao-de-contas-partidarias-2014\n",
      "67 -> mesarios1-2020\n",
      "68 -> candidatos-1986\n",
      "69 -> prestacao-de-contas-eleitorais-2020\n",
      "70 -> resultados-1965\n",
      "71 -> candidatos-1978\n",
      "72 -> candidatos-2014\n",
      "73 -> candidatos-1950\n",
      "74 -> prestacao-de-contas-eleitorais-2010\n",
      "75 -> resultados-2014-correspondencias-esperadas-e-efetivadas-1-turno\n",
      "76 -> pesquisas-eleitorais-2016\n",
      "77 -> resultados-2010\n",
      "78 -> prestacao-de-contas-eleitorais-2006\n",
      "79 -> prestacao-de-contas-partidarias-2016\n",
      "80 -> resultados-1950\n",
      "81 -> pesquisas-eleitorais-2024\n",
      "82 -> eleitorado-1996\n",
      "83 -> processo-eleitoral\n",
      "84 -> candidatos-2008\n",
      "85 -> comparecimento-e-abstencao-2018\n",
      "86 -> resultados-2022-correspondencias-esperadas-e-efetivadas-2-turno\n",
      "87 -> prestacao-de-contas-partidarias-2015\n",
      "88 -> prestacao-de-contas-eleitorais-2004\n",
      "89 -> eleitorado-2002\n",
      "90 -> eleitorado-2008\n",
      "91 -> prestacao-de-contas-partidarias-2021\n",
      "92 -> candidatos-2004\n",
      "93 -> resultados-2022-boletim-de-urna\n",
      "94 -> prestacao-de-contas-eleitorais-2018\n",
      "95 -> eleitorado-2018\n",
      "96 -> resultados-1954\n",
      "97 -> correspondencia-entre-numero-interno-e-modelo-da-urna-1\n",
      "98 -> resultados-2016\n",
      "99 -> comparecimento-e-abstencao-2024\n",
      "100 -> pesquisas-eleitorais-2014\n",
      "101 -> candidatos-2024\n",
      "102 -> candidatos-1966\n",
      "103 -> candidatos-2010\n",
      "104 -> resultados-2020-correspondencias-esperadas-e-efetivadas-1-turno\n",
      "105 -> candidatos-1945\n",
      "106 -> processual-2020\n",
      "107 -> candidatos-1990\n",
      "108 -> processual-2022\n",
      "109 -> resultados-2018-correspondencias-esperadas-e-efetivadas-2-turno\n",
      "110 -> resultados-2012-boletim-de-urna-1-turno\n",
      "111 -> delegados-partidarios\n",
      "112 -> candidatos-2016\n",
      "113 -> eleitorado-2004\n",
      "114 -> prestacao-de-contas-partidarias-2022\n",
      "115 -> eleitorado-2020\n",
      "116 -> processual-2024\n",
      "117 -> comparecimento-e-abstencao-2020\n",
      "118 -> candidatos-1960\n",
      "119 -> prestacao-de-contas-eleitorais-2024\n",
      "120 -> resultados-1962\n",
      "121 -> resultados-2022-correspondencias-esperadas-e-efetivadas-1-turno\n",
      "122 -> resultados-2024\n",
      "123 -> prestacao-de-contas-partidarias-2020\n",
      "124 -> resultados-2016-correspondencias-esperadas-e-efetivadas-2-turno\n",
      "125 -> eleitorado-2000\n",
      "126 -> resultados-2024-correspondencias-esperadas-e-efetivadas-1-turno\n",
      "127 -> prestacao-de-contas-eleitorais-2008\n",
      "128 -> resultados-2000\n",
      "129 -> eleitorado-2014\n",
      "130 -> resultados-1990\n",
      "131 -> pesquisas-eleitorais-atual\n",
      "132 -> prestacao-de-contas-partidarias-2019\n",
      "133 -> comparecimento-e-abstencao-2016\n",
      "134 -> eleitorado-2010\n",
      "135 -> resultados-2016-boletim-de-urna\n",
      "136 -> resultados-2020-suplementares\n",
      "137 -> candidatos-2022\n",
      "138 -> mesarios-2016\n",
      "139 -> prestacao-de-contas-partidarias-2017\n",
      "140 -> resultados-1955\n",
      "141 -> candidatos-1996\n",
      "142 -> candidatos-1970\n",
      "143 -> candidatos-1947\n",
      "144 -> resultados-2014-correspondencias-esperadas-e-efetivadas-2-turno\n",
      "145 -> resultados-2008\n",
      "146 -> pesquisas-eleitorais-2012\n",
      "147 -> resultados-2004\n",
      "148 -> prestacao-de-contas-partidarias-2018\n",
      "149 -> resultados-2006\n",
      "150 -> resultados-2024-logs-do-sistema-de-preparacao-das-urnas-eletronicas-gedai-1-turno\n",
      "151 -> candidatos-2020-subtemas\n",
      "152 -> candidatos-1982\n",
      "153 -> resultados-2020-boletim-de-urna\n",
      "154 -> candidatos-1965\n",
      "155 -> resultados-2014\n",
      "156 -> candidatos-2000\n",
      "157 -> resultados-2018-boletim-de-urna\n",
      "158 -> resultados-2024-logs-do-sistema-de-preparacao-das-urnas-eletronicas-gedai-2-turno\n",
      "159 -> resultados-2014-boletim-de-urna\n",
      "160 -> resultados-1945\n"
     ]
    }
   ],
   "source": [
    "for i, dataset in enumerate(client.datasets):\n",
    "    print(f'{i} -> {dataset}')"
   ]
  },
  {
   "cell_type": "markdown",
   "metadata": {},
   "source": [
    "## Escolhendo os datasets:\n",
    "### eleitorado-2024\n",
    "- perfil_eleitor_secao_2024_RJ: informacoes sobre perfil dos eleitores por secao no RJ\n",
    "- eleitorado_local_votacao_2024: informacoes sobre locais de votacao\n",
    "\n",
    "### resultados-2024\n",
    "- votacao_secao_2024_RJ: informacoes sobre resultado das votacoes por secao no RJ\n"
   ]
  },
  {
   "cell_type": "code",
   "execution_count": 4,
   "metadata": {},
   "outputs": [],
   "source": [
    "data = {} # armazena dataframes das tabelas selecionadas"
   ]
  },
  {
   "cell_type": "markdown",
   "metadata": {},
   "source": [
    "- Dataset: perfil do eleitorado"
   ]
  },
  {
   "cell_type": "code",
   "execution_count": 5,
   "metadata": {},
   "outputs": [
    {
     "data": {
      "text/plain": [
       "{'https://cdn.tse.jus.br/estatistica/sead/odsele/perfil_eleitor_secao/perfil_eleitor_secao_2024_RJ.zip'}"
      ]
     },
     "execution_count": 5,
     "metadata": {},
     "output_type": "execute_result"
    }
   ],
   "source": [
    "perfil_eleitorado = client.find_dataset('eleitorado-2024', pattern='RJ')\n",
    "perfil_eleitorado"
   ]
  },
  {
   "cell_type": "markdown",
   "metadata": {},
   "source": [
    "- Dataset: locais de votacao (BRASIL)"
   ]
  },
  {
   "cell_type": "code",
   "execution_count": 6,
   "metadata": {},
   "outputs": [
    {
     "data": {
      "text/plain": [
       "{'https://cdn.tse.jus.br/estatistica/sead/odsele/eleitorado_locais_votacao/eleitorado_local_votacao_2024.zip'}"
      ]
     },
     "execution_count": 6,
     "metadata": {},
     "output_type": "execute_result"
    }
   ],
   "source": [
    "locais_rj = client.find_dataset('eleitorado-2024', pattern='local')\n",
    "locais_rj"
   ]
  },
  {
   "cell_type": "markdown",
   "metadata": {},
   "source": [
    "- Dataset: resultados da votação RJ"
   ]
  },
  {
   "cell_type": "code",
   "execution_count": 7,
   "metadata": {},
   "outputs": [
    {
     "data": {
      "text/plain": [
       "{'https://cdn.tse.jus.br/estatistica/sead/odsele/relatorio_resultado_totalizacao/Relatorio_Resultado_Totalizacao_2024_RJ.zip',\n",
       " 'https://cdn.tse.jus.br/estatistica/sead/odsele/votacao_secao/votacao_secao_2024_RJ.zip'}"
      ]
     },
     "execution_count": 7,
     "metadata": {},
     "output_type": "execute_result"
    }
   ],
   "source": [
    "resultados = client.find_dataset('resultados-2024', pattern='RJ')\n",
    "resultados"
   ]
  },
  {
   "cell_type": "markdown",
   "metadata": {},
   "source": [
    "- Download e carregamento de cada dataset em um dataframe"
   ]
  },
  {
   "cell_type": "code",
   "execution_count": 8,
   "metadata": {},
   "outputs": [
    {
     "name": "stdout",
     "output_type": "stream",
     "text": [
      "Files downloaded to data\\perfil_eleitor_secao_2024_RJ\n"
     ]
    }
   ],
   "source": [
    "data.update(\n",
    "    client.load_data_from_dirs(\n",
    "        client.download_datasets(perfil_eleitorado)\n",
    "    )\n",
    ")"
   ]
  },
  {
   "cell_type": "code",
   "execution_count": 9,
   "metadata": {},
   "outputs": [
    {
     "name": "stdout",
     "output_type": "stream",
     "text": [
      "Files downloaded to data\\eleitorado_local_votacao_2024\n"
     ]
    }
   ],
   "source": [
    "data.update(\n",
    "    client.load_data_from_dirs(\n",
    "        client.download_datasets(locais_rj)\n",
    "    )\n",
    ")"
   ]
  },
  {
   "cell_type": "code",
   "execution_count": 10,
   "metadata": {},
   "outputs": [
    {
     "name": "stdout",
     "output_type": "stream",
     "text": [
      "Files downloaded to data\\Relatorio_Resultado_Totalizacao_2024_RJ\n",
      "Files downloaded to data\\votacao_secao_2024_RJ\n"
     ]
    }
   ],
   "source": [
    "data.update(\n",
    "    client.load_data_from_dirs(\n",
    "        client.download_datasets(resultados)\n",
    "    )\n",
    ")"
   ]
  },
  {
   "cell_type": "code",
   "execution_count": 11,
   "metadata": {},
   "outputs": [
    {
     "data": {
      "text/plain": [
       "dict_keys(['perfil_eleitor_secao_2024_RJ', 'eleitorado_local_votacao_2024', 'votacao_secao_2024_RJ'])"
      ]
     },
     "execution_count": 11,
     "metadata": {},
     "output_type": "execute_result"
    }
   ],
   "source": [
    "data.keys()"
   ]
  },
  {
   "cell_type": "markdown",
   "metadata": {},
   "source": [
    "- Limpeza de algumas colunas"
   ]
  },
  {
   "cell_type": "code",
   "execution_count": 12,
   "metadata": {},
   "outputs": [],
   "source": [
    "resultados_df = data.get('votacao_secao_2024_RJ')"
   ]
  },
  {
   "cell_type": "code",
   "execution_count": 13,
   "metadata": {},
   "outputs": [
    {
     "data": {
      "text/plain": [
       "Index(['DT_GERACAO', 'HH_GERACAO', 'ANO_ELEICAO', 'CD_TIPO_ELEICAO',\n",
       "       'NM_TIPO_ELEICAO', 'NR_TURNO', 'CD_ELEICAO', 'DS_ELEICAO', 'DT_ELEICAO',\n",
       "       'TP_ABRANGENCIA', 'SG_UF', 'SG_UE', 'NM_UE', 'CD_MUNICIPIO',\n",
       "       'NM_MUNICIPIO', 'NR_ZONA', 'NR_SECAO', 'CD_CARGO', 'DS_CARGO',\n",
       "       'NR_VOTAVEL', 'NM_VOTAVEL', 'QT_VOTOS', 'NR_LOCAL_VOTACAO',\n",
       "       'SQ_CANDIDATO', 'NM_LOCAL_VOTACAO', 'DS_LOCAL_VOTACAO_ENDERECO'],\n",
       "      dtype='object')"
      ]
     },
     "execution_count": 13,
     "metadata": {},
     "output_type": "execute_result"
    }
   ],
   "source": [
    "resultados_df.columns"
   ]
  },
  {
   "cell_type": "code",
   "execution_count": 14,
   "metadata": {},
   "outputs": [],
   "source": [
    "resultados_columns = [\n",
    "    'NR_LOCAL_VOTACAO',\n",
    "    'SG_UF',\n",
    "    'CD_MUNICIPIO',\n",
    "    'ANO_ELEICAO',\n",
    "    'NR_TURNO', \n",
    "    'CD_CARGO', \n",
    "    'DS_CARGO',\n",
    "    'NR_VOTAVEL',\n",
    "    'NM_VOTAVEL',\n",
    "    'QT_VOTOS'\n",
    "]\n",
    "resultados_df = resultados_df[resultados_columns]"
   ]
  },
  {
   "cell_type": "code",
   "execution_count": 15,
   "metadata": {},
   "outputs": [
    {
     "data": {
      "text/html": [
       "<div>\n",
       "<style scoped>\n",
       "    .dataframe tbody tr th:only-of-type {\n",
       "        vertical-align: middle;\n",
       "    }\n",
       "\n",
       "    .dataframe tbody tr th {\n",
       "        vertical-align: top;\n",
       "    }\n",
       "\n",
       "    .dataframe thead th {\n",
       "        text-align: right;\n",
       "    }\n",
       "</style>\n",
       "<table border=\"1\" class=\"dataframe\">\n",
       "  <thead>\n",
       "    <tr style=\"text-align: right;\">\n",
       "      <th></th>\n",
       "      <th>NR_LOCAL_VOTACAO</th>\n",
       "      <th>SG_UF</th>\n",
       "      <th>CD_MUNICIPIO</th>\n",
       "      <th>ANO_ELEICAO</th>\n",
       "      <th>NR_TURNO</th>\n",
       "      <th>CD_CARGO</th>\n",
       "      <th>DS_CARGO</th>\n",
       "      <th>NR_VOTAVEL</th>\n",
       "      <th>NM_VOTAVEL</th>\n",
       "      <th>QT_VOTOS</th>\n",
       "    </tr>\n",
       "  </thead>\n",
       "  <tbody>\n",
       "    <tr>\n",
       "      <th>0</th>\n",
       "      <td>1082</td>\n",
       "      <td>RJ</td>\n",
       "      <td>58130</td>\n",
       "      <td>2024</td>\n",
       "      <td>1</td>\n",
       "      <td>13</td>\n",
       "      <td>Vereador</td>\n",
       "      <td>44500</td>\n",
       "      <td>CAROLINE MIDORI DA COSTA SILVA</td>\n",
       "      <td>2</td>\n",
       "    </tr>\n",
       "    <tr>\n",
       "      <th>1</th>\n",
       "      <td>1856</td>\n",
       "      <td>RJ</td>\n",
       "      <td>58130</td>\n",
       "      <td>2024</td>\n",
       "      <td>1</td>\n",
       "      <td>13</td>\n",
       "      <td>Vereador</td>\n",
       "      <td>44500</td>\n",
       "      <td>CAROLINE MIDORI DA COSTA SILVA</td>\n",
       "      <td>5</td>\n",
       "    </tr>\n",
       "    <tr>\n",
       "      <th>2</th>\n",
       "      <td>1210</td>\n",
       "      <td>RJ</td>\n",
       "      <td>58696</td>\n",
       "      <td>2024</td>\n",
       "      <td>1</td>\n",
       "      <td>13</td>\n",
       "      <td>Vereador</td>\n",
       "      <td>30300</td>\n",
       "      <td>FERNANDO BRAZ DE LIMA</td>\n",
       "      <td>2</td>\n",
       "    </tr>\n",
       "    <tr>\n",
       "      <th>3</th>\n",
       "      <td>1953</td>\n",
       "      <td>RJ</td>\n",
       "      <td>58130</td>\n",
       "      <td>2024</td>\n",
       "      <td>1</td>\n",
       "      <td>13</td>\n",
       "      <td>Vereador</td>\n",
       "      <td>44500</td>\n",
       "      <td>CAROLINE MIDORI DA COSTA SILVA</td>\n",
       "      <td>5</td>\n",
       "    </tr>\n",
       "    <tr>\n",
       "      <th>4</th>\n",
       "      <td>1082</td>\n",
       "      <td>RJ</td>\n",
       "      <td>58696</td>\n",
       "      <td>2024</td>\n",
       "      <td>1</td>\n",
       "      <td>13</td>\n",
       "      <td>Vereador</td>\n",
       "      <td>30300</td>\n",
       "      <td>FERNANDO BRAZ DE LIMA</td>\n",
       "      <td>1</td>\n",
       "    </tr>\n",
       "  </tbody>\n",
       "</table>\n",
       "</div>"
      ],
      "text/plain": [
       "   NR_LOCAL_VOTACAO SG_UF  CD_MUNICIPIO  ANO_ELEICAO  NR_TURNO  CD_CARGO  \\\n",
       "0              1082    RJ         58130         2024         1        13   \n",
       "1              1856    RJ         58130         2024         1        13   \n",
       "2              1210    RJ         58696         2024         1        13   \n",
       "3              1953    RJ         58130         2024         1        13   \n",
       "4              1082    RJ         58696         2024         1        13   \n",
       "\n",
       "   DS_CARGO  NR_VOTAVEL                      NM_VOTAVEL  QT_VOTOS  \n",
       "0  Vereador       44500  CAROLINE MIDORI DA COSTA SILVA         2  \n",
       "1  Vereador       44500  CAROLINE MIDORI DA COSTA SILVA         5  \n",
       "2  Vereador       30300           FERNANDO BRAZ DE LIMA         2  \n",
       "3  Vereador       44500  CAROLINE MIDORI DA COSTA SILVA         5  \n",
       "4  Vereador       30300           FERNANDO BRAZ DE LIMA         1  "
      ]
     },
     "execution_count": 15,
     "metadata": {},
     "output_type": "execute_result"
    }
   ],
   "source": [
    "resultados_df.head()"
   ]
  },
  {
   "cell_type": "markdown",
   "metadata": {},
   "source": [
    "- Limpeza de algumas colunas"
   ]
  },
  {
   "cell_type": "code",
   "execution_count": 16,
   "metadata": {},
   "outputs": [],
   "source": [
    "locais_df = data.get('eleitorado_local_votacao_2024')"
   ]
  },
  {
   "cell_type": "code",
   "execution_count": 17,
   "metadata": {},
   "outputs": [
    {
     "data": {
      "text/plain": [
       "Index(['DT_GERACAO', 'HH_GERACAO', 'AA_ELEICAO', 'DT_ELEICAO', 'DS_ELEICAO',\n",
       "       'NR_TURNO', 'SG_UF', 'CD_MUNICIPIO', 'NM_MUNICIPIO', 'NR_ZONA',\n",
       "       'NR_SECAO', 'CD_TIPO_SECAO_AGREGADA', 'DS_TIPO_SECAO_AGREGADA',\n",
       "       'NR_SECAO_PRINCIPAL', 'NR_LOCAL_VOTACAO', 'NM_LOCAL_VOTACAO',\n",
       "       'CD_TIPO_LOCAL', 'DS_TIPO_LOCAL', 'DS_ENDERECO', 'NM_BAIRRO', 'NR_CEP',\n",
       "       'NR_TELEFONE_LOCAL', 'NR_LATITUDE', 'NR_LONGITUDE',\n",
       "       'CD_SITU_LOCAL_VOTACAO', 'DS_SITU_LOCAL_VOTACAO', 'CD_SITU_ZONA',\n",
       "       'DS_SITU_ZONA', 'CD_SITU_SECAO', 'DS_SITU_SECAO', 'CD_SITU_LOCALIDADE',\n",
       "       'DS_SITU_LOCALIDADE', 'CD_SITU_SECAO_ACESSIBILIDADE',\n",
       "       'DS_SITU_SECAO_ACESSIBILIDADE', 'QT_ELEITOR_SECAO',\n",
       "       'QT_ELEITOR_ELEICAO_FEDERAL', 'QT_ELEITOR_ELEICAO_ESTADUAL',\n",
       "       'QT_ELEITOR_ELEICAO_MUNICIPAL', 'NR_LOCAL_VOTACAO_ORIGINAL',\n",
       "       'NM_LOCAL_VOTACAO_ORIGINAL', 'DS_ENDERECO_LOCVT_ORIGINAL'],\n",
       "      dtype='object')"
      ]
     },
     "execution_count": 17,
     "metadata": {},
     "output_type": "execute_result"
    }
   ],
   "source": [
    "locais_df.columns"
   ]
  },
  {
   "cell_type": "code",
   "execution_count": 18,
   "metadata": {},
   "outputs": [],
   "source": [
    "locais_columns = [\n",
    "    'NR_LOCAL_VOTACAO',\n",
    "    'SG_UF',\n",
    "    'CD_MUNICIPIO',\n",
    "    'NM_MUNICIPIO',\n",
    "    'NM_BAIRRO',\n",
    "    'NR_LATITUDE',\n",
    "    'NR_LONGITUDE',\n",
    "    'QT_ELEITOR_SECAO'\n",
    "]\n",
    "locais_df = locais_df[locais_columns]"
   ]
  },
  {
   "cell_type": "code",
   "execution_count": 19,
   "metadata": {},
   "outputs": [
    {
     "data": {
      "text/html": [
       "<div>\n",
       "<style scoped>\n",
       "    .dataframe tbody tr th:only-of-type {\n",
       "        vertical-align: middle;\n",
       "    }\n",
       "\n",
       "    .dataframe tbody tr th {\n",
       "        vertical-align: top;\n",
       "    }\n",
       "\n",
       "    .dataframe thead th {\n",
       "        text-align: right;\n",
       "    }\n",
       "</style>\n",
       "<table border=\"1\" class=\"dataframe\">\n",
       "  <thead>\n",
       "    <tr style=\"text-align: right;\">\n",
       "      <th></th>\n",
       "      <th>NR_LOCAL_VOTACAO</th>\n",
       "      <th>SG_UF</th>\n",
       "      <th>CD_MUNICIPIO</th>\n",
       "      <th>NM_MUNICIPIO</th>\n",
       "      <th>NM_BAIRRO</th>\n",
       "      <th>NR_LATITUDE</th>\n",
       "      <th>NR_LONGITUDE</th>\n",
       "      <th>QT_ELEITOR_SECAO</th>\n",
       "    </tr>\n",
       "  </thead>\n",
       "  <tbody>\n",
       "    <tr>\n",
       "      <th>0</th>\n",
       "      <td>1147</td>\n",
       "      <td>BA</td>\n",
       "      <td>39730</td>\n",
       "      <td>LAPÃO</td>\n",
       "      <td>POVOADO DE CASAL I</td>\n",
       "      <td>-11.516413</td>\n",
       "      <td>-41.802394</td>\n",
       "      <td>262</td>\n",
       "    </tr>\n",
       "    <tr>\n",
       "      <th>1</th>\n",
       "      <td>1457</td>\n",
       "      <td>BA</td>\n",
       "      <td>39730</td>\n",
       "      <td>LAPÃO</td>\n",
       "      <td>CENTRO</td>\n",
       "      <td>-11.379024</td>\n",
       "      <td>-41.835959</td>\n",
       "      <td>307</td>\n",
       "    </tr>\n",
       "    <tr>\n",
       "      <th>2</th>\n",
       "      <td>1147</td>\n",
       "      <td>SC</td>\n",
       "      <td>83798</td>\n",
       "      <td>VIDEIRA</td>\n",
       "      <td>UNIVERSITÁRIO</td>\n",
       "      <td>-26.992234</td>\n",
       "      <td>-51.176671</td>\n",
       "      <td>388</td>\n",
       "    </tr>\n",
       "    <tr>\n",
       "      <th>3</th>\n",
       "      <td>1015</td>\n",
       "      <td>SC</td>\n",
       "      <td>83798</td>\n",
       "      <td>VIDEIRA</td>\n",
       "      <td>CENTRO</td>\n",
       "      <td>-27.002251</td>\n",
       "      <td>-51.157982</td>\n",
       "      <td>271</td>\n",
       "    </tr>\n",
       "    <tr>\n",
       "      <th>4</th>\n",
       "      <td>1074</td>\n",
       "      <td>SP</td>\n",
       "      <td>72451</td>\n",
       "      <td>VOTUPORANGA</td>\n",
       "      <td>VILA PAES</td>\n",
       "      <td>-20.414684</td>\n",
       "      <td>-49.971817</td>\n",
       "      <td>250</td>\n",
       "    </tr>\n",
       "  </tbody>\n",
       "</table>\n",
       "</div>"
      ],
      "text/plain": [
       "   NR_LOCAL_VOTACAO SG_UF  CD_MUNICIPIO NM_MUNICIPIO           NM_BAIRRO  \\\n",
       "0              1147    BA         39730        LAPÃO  POVOADO DE CASAL I   \n",
       "1              1457    BA         39730        LAPÃO              CENTRO   \n",
       "2              1147    SC         83798      VIDEIRA       UNIVERSITÁRIO   \n",
       "3              1015    SC         83798      VIDEIRA              CENTRO   \n",
       "4              1074    SP         72451  VOTUPORANGA           VILA PAES   \n",
       "\n",
       "   NR_LATITUDE  NR_LONGITUDE  QT_ELEITOR_SECAO  \n",
       "0   -11.516413    -41.802394               262  \n",
       "1   -11.379024    -41.835959               307  \n",
       "2   -26.992234    -51.176671               388  \n",
       "3   -27.002251    -51.157982               271  \n",
       "4   -20.414684    -49.971817               250  "
      ]
     },
     "execution_count": 19,
     "metadata": {},
     "output_type": "execute_result"
    }
   ],
   "source": [
    "locais_df.head()"
   ]
  },
  {
   "cell_type": "markdown",
   "metadata": {},
   "source": [
    "- Limpeza de algumas colunas"
   ]
  },
  {
   "cell_type": "code",
   "execution_count": 20,
   "metadata": {},
   "outputs": [],
   "source": [
    "perfil_df = data.get('perfil_eleitor_secao_2024_RJ')"
   ]
  },
  {
   "cell_type": "code",
   "execution_count": 21,
   "metadata": {},
   "outputs": [
    {
     "data": {
      "text/plain": [
       "Index(['DT_GERACAO', 'HH_GERACAO', 'ANO_ELEICAO', 'SG_UF', 'CD_MUNICIPIO',\n",
       "       'NM_MUNICIPIO', 'NR_ZONA', 'NR_SECAO', 'NR_LOCAL_VOTACAO',\n",
       "       'NM_LOCAL_VOTACAO', 'CD_GENERO', 'DS_GENERO', 'CD_ESTADO_CIVIL',\n",
       "       'DS_ESTADO_CIVIL', 'CD_FAIXA_ETARIA', 'DS_FAIXA_ETARIA',\n",
       "       'CD_GRAU_ESCOLARIDADE', 'DS_GRAU_ESCOLARIDADE', 'CD_RACA_COR',\n",
       "       'DS_RACA_COR', 'CD_IDENTIDADE_GENERO', 'DS_IDENTIDADE_GENERO',\n",
       "       'CD_QUILOMBOLA', 'DS_QUILOMBOLA', 'CD_INTERPRETE_LIBRAS',\n",
       "       'DS_INTERPRETE_LIBRAS', 'QT_ELEITORES_PERFIL', 'QT_ELEITORES_BIOMETRIA',\n",
       "       'QT_ELEITORES_DEFICIENCIA', 'QT_ELEITORES_INC_NM_SOCIAL'],\n",
       "      dtype='object')"
      ]
     },
     "execution_count": 21,
     "metadata": {},
     "output_type": "execute_result"
    }
   ],
   "source": [
    "perfil_df.columns"
   ]
  },
  {
   "cell_type": "code",
   "execution_count": 22,
   "metadata": {},
   "outputs": [],
   "source": [
    "perfil_columns = [\n",
    "    'NR_LOCAL_VOTACAO',\n",
    "    'SG_UF', \n",
    "    'CD_MUNICIPIO',\n",
    "    'DS_GENERO', \n",
    "    'DS_ESTADO_CIVIL',\n",
    "    'DS_FAIXA_ETARIA',\n",
    "    'DS_GRAU_ESCOLARIDADE',\n",
    "    'DS_RACA_COR',\n",
    "    'QT_ELEITORES_PERFIL'   \n",
    "]\n",
    "perfil_df = perfil_df[perfil_columns]"
   ]
  },
  {
   "cell_type": "code",
   "execution_count": 23,
   "metadata": {},
   "outputs": [
    {
     "data": {
      "text/html": [
       "<div>\n",
       "<style scoped>\n",
       "    .dataframe tbody tr th:only-of-type {\n",
       "        vertical-align: middle;\n",
       "    }\n",
       "\n",
       "    .dataframe tbody tr th {\n",
       "        vertical-align: top;\n",
       "    }\n",
       "\n",
       "    .dataframe thead th {\n",
       "        text-align: right;\n",
       "    }\n",
       "</style>\n",
       "<table border=\"1\" class=\"dataframe\">\n",
       "  <thead>\n",
       "    <tr style=\"text-align: right;\">\n",
       "      <th></th>\n",
       "      <th>NR_LOCAL_VOTACAO</th>\n",
       "      <th>SG_UF</th>\n",
       "      <th>CD_MUNICIPIO</th>\n",
       "      <th>DS_GENERO</th>\n",
       "      <th>DS_ESTADO_CIVIL</th>\n",
       "      <th>DS_FAIXA_ETARIA</th>\n",
       "      <th>DS_GRAU_ESCOLARIDADE</th>\n",
       "      <th>DS_RACA_COR</th>\n",
       "      <th>QT_ELEITORES_PERFIL</th>\n",
       "    </tr>\n",
       "  </thead>\n",
       "  <tbody>\n",
       "    <tr>\n",
       "      <th>0</th>\n",
       "      <td>1104</td>\n",
       "      <td>RJ</td>\n",
       "      <td>58009</td>\n",
       "      <td>FEMININO</td>\n",
       "      <td>DIVORCIADO</td>\n",
       "      <td>35 a 39 anos</td>\n",
       "      <td>ENSINO MÉDIO INCOMPLETO</td>\n",
       "      <td>NÃO INFORMADO</td>\n",
       "      <td>1</td>\n",
       "    </tr>\n",
       "    <tr>\n",
       "      <th>1</th>\n",
       "      <td>1449</td>\n",
       "      <td>RJ</td>\n",
       "      <td>60011</td>\n",
       "      <td>FEMININO</td>\n",
       "      <td>CASADO</td>\n",
       "      <td>30 a 34 anos</td>\n",
       "      <td>SUPERIOR COMPLETO</td>\n",
       "      <td>Parda</td>\n",
       "      <td>1</td>\n",
       "    </tr>\n",
       "    <tr>\n",
       "      <th>2</th>\n",
       "      <td>1163</td>\n",
       "      <td>RJ</td>\n",
       "      <td>60011</td>\n",
       "      <td>FEMININO</td>\n",
       "      <td>SOLTEIRO</td>\n",
       "      <td>65 a 69 anos</td>\n",
       "      <td>ENSINO FUNDAMENTAL INCOMPLETO</td>\n",
       "      <td>NÃO INFORMADO</td>\n",
       "      <td>1</td>\n",
       "    </tr>\n",
       "    <tr>\n",
       "      <th>3</th>\n",
       "      <td>1155</td>\n",
       "      <td>RJ</td>\n",
       "      <td>58696</td>\n",
       "      <td>MASCULINO</td>\n",
       "      <td>SOLTEIRO</td>\n",
       "      <td>65 a 69 anos</td>\n",
       "      <td>ENSINO FUNDAMENTAL INCOMPLETO</td>\n",
       "      <td>NÃO INFORMADO</td>\n",
       "      <td>2</td>\n",
       "    </tr>\n",
       "    <tr>\n",
       "      <th>4</th>\n",
       "      <td>1082</td>\n",
       "      <td>RJ</td>\n",
       "      <td>58491</td>\n",
       "      <td>FEMININO</td>\n",
       "      <td>CASADO</td>\n",
       "      <td>65 a 69 anos</td>\n",
       "      <td>SUPERIOR COMPLETO</td>\n",
       "      <td>NÃO INFORMADO</td>\n",
       "      <td>1</td>\n",
       "    </tr>\n",
       "  </tbody>\n",
       "</table>\n",
       "</div>"
      ],
      "text/plain": [
       "   NR_LOCAL_VOTACAO SG_UF  CD_MUNICIPIO  DS_GENERO DS_ESTADO_CIVIL  \\\n",
       "0              1104    RJ         58009   FEMININO      DIVORCIADO   \n",
       "1              1449    RJ         60011   FEMININO          CASADO   \n",
       "2              1163    RJ         60011   FEMININO        SOLTEIRO   \n",
       "3              1155    RJ         58696  MASCULINO        SOLTEIRO   \n",
       "4              1082    RJ         58491   FEMININO          CASADO   \n",
       "\n",
       "  DS_FAIXA_ETARIA           DS_GRAU_ESCOLARIDADE    DS_RACA_COR  \\\n",
       "0    35 a 39 anos        ENSINO MÉDIO INCOMPLETO  NÃO INFORMADO   \n",
       "1    30 a 34 anos              SUPERIOR COMPLETO          Parda   \n",
       "2    65 a 69 anos  ENSINO FUNDAMENTAL INCOMPLETO  NÃO INFORMADO   \n",
       "3    65 a 69 anos  ENSINO FUNDAMENTAL INCOMPLETO  NÃO INFORMADO   \n",
       "4    65 a 69 anos              SUPERIOR COMPLETO  NÃO INFORMADO   \n",
       "\n",
       "   QT_ELEITORES_PERFIL  \n",
       "0                    1  \n",
       "1                    1  \n",
       "2                    1  \n",
       "3                    2  \n",
       "4                    1  "
      ]
     },
     "execution_count": 23,
     "metadata": {},
     "output_type": "execute_result"
    }
   ],
   "source": [
    "perfil_df.head()"
   ]
  },
  {
   "cell_type": "markdown",
   "metadata": {},
   "source": [
    "- Finalmente: conversão para SQL database"
   ]
  },
  {
   "cell_type": "code",
   "execution_count": 24,
   "metadata": {},
   "outputs": [
    {
     "name": "stdout",
     "output_type": "stream",
     "text": [
      "Tabela \"locais\" foi criada no banco de dados \"databases\\eleicoes_2024.sql\".\n",
      "Tabela \"resultados\" foi criada no banco de dados \"databases\\eleicoes_2024_rj.sql\".\n",
      "Tabela \"eleitorado\" foi criada no banco de dados \"databases\\eleicoes_2024_rj.sql\".\n"
     ]
    },
    {
     "data": {
      "text/plain": [
       "'eleitorado'"
      ]
     },
     "execution_count": 24,
     "metadata": {},
     "output_type": "execute_result"
    }
   ],
   "source": [
    "df_to_sql(\n",
    "    df=locais_df, \n",
    "    table_name='locais', \n",
    "    dbname='eleicoes_2024.sql')\n",
    "\n",
    "df_to_sql(\n",
    "    df=resultados_df,\n",
    "    table_name='resultados',\n",
    "    dbname='eleicoes_2024_rj.sql')\n",
    "\n",
    "df_to_sql(\n",
    "    df=perfil_df,\n",
    "    table_name='eleitorado',\n",
    "    dbname='eleicoes_2024_rj.sql')"
   ]
  },
  {
   "cell_type": "code",
   "execution_count": 25,
   "metadata": {},
   "outputs": [
    {
     "name": "stdout",
     "output_type": "stream",
     "text": [
      "Tabelas no banco de dados:\n",
      "- resultados\n",
      "- eleitorado\n"
     ]
    },
    {
     "data": {
      "text/plain": [
       "['resultados', 'eleitorado']"
      ]
     },
     "execution_count": 25,
     "metadata": {},
     "output_type": "execute_result"
    }
   ],
   "source": [
    "listar_tabelas('databases/eleicoes_2024_rj.sql')"
   ]
  },
  {
   "cell_type": "code",
   "execution_count": 26,
   "metadata": {},
   "outputs": [
    {
     "name": "stdout",
     "output_type": "stream",
     "text": [
      "Tabelas no banco de dados:\n",
      "- locais\n"
     ]
    },
    {
     "data": {
      "text/plain": [
       "['locais']"
      ]
     },
     "execution_count": 26,
     "metadata": {},
     "output_type": "execute_result"
    }
   ],
   "source": [
    "listar_tabelas('databases/eleicoes_2024.sql')"
   ]
  },
  {
   "cell_type": "markdown",
   "metadata": {},
   "source": [
    "- Removendo arquivos temporários"
   ]
  },
  {
   "cell_type": "code",
   "execution_count": 27,
   "metadata": {},
   "outputs": [
    {
     "data": {
      "text/plain": [
       "'Diretório data esvaziado'"
      ]
     },
     "execution_count": 27,
     "metadata": {},
     "output_type": "execute_result"
    }
   ],
   "source": [
    "TseClient.remove_data()"
   ]
  }
 ],
 "metadata": {
  "kernelspec": {
   "display_name": "Python 3",
   "language": "python",
   "name": "python3"
  },
  "language_info": {
   "codemirror_mode": {
    "name": "ipython",
    "version": 3
   },
   "file_extension": ".py",
   "mimetype": "text/x-python",
   "name": "python",
   "nbconvert_exporter": "python",
   "pygments_lexer": "ipython3",
   "version": "3.12.8"
  }
 },
 "nbformat": 4,
 "nbformat_minor": 2
}

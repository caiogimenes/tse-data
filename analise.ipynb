{
 "cells": [
  {
   "cell_type": "markdown",
   "metadata": {},
   "source": [
    "### Análise de eleição - Eduardo Paes (55)"
   ]
  },
  {
   "cell_type": "code",
   "execution_count": 1,
   "metadata": {},
   "outputs": [],
   "source": [
    "import pandas as pd\n",
    "import tse"
   ]
  },
  {
   "cell_type": "code",
   "execution_count": 2,
   "metadata": {},
   "outputs": [],
   "source": [
    "database_1 = 'databases/rj_2024.sql'\n",
    "database_2 = 'databases/eleicoes_2024.sql'"
   ]
  },
  {
   "cell_type": "code",
   "execution_count": 3,
   "metadata": {},
   "outputs": [],
   "source": [
    "sql_data = tse.TseAnalysis(\n",
    "    database={\n",
    "        'path': database_1,\n",
    "        'alias': 'rj'\n",
    "    })"
   ]
  },
  {
   "cell_type": "code",
   "execution_count": 4,
   "metadata": {},
   "outputs": [
    {
     "name": "stdout",
     "output_type": "stream",
     "text": [
      "Bancos carregados:\n",
      "0) main\n",
      "-path: d:\\projects\\tse-data\\databases\\rj_2024.sql\n",
      "--tables: \n",
      "-- resultados\n",
      "-- eleitorado\n",
      "-----\n",
      "2) rj\n",
      "-path: d:\\projects\\tse-data\\databases\\rj_2024.sql\n",
      "--tables: \n",
      "-- resultados\n",
      "-- eleitorado\n",
      "-----\n",
      "3) geral\n",
      "-path: d:\\projects\\tse-data\\databases\\eleicoes_2024.sql\n",
      "--tables: \n",
      "-- locais\n",
      "-----\n"
     ]
    }
   ],
   "source": [
    "sql_data.attach_database(\n",
    "    attach= [\n",
    "        {\n",
    "            'path': database_2,\n",
    "            'alias': 'geral'\n",
    "        }\n",
    "    ])"
   ]
  },
  {
   "cell_type": "code",
   "execution_count": 5,
   "metadata": {},
   "outputs": [
    {
     "data": {
      "text/plain": [
       "'Indices criados com sucesso'"
      ]
     },
     "execution_count": 5,
     "metadata": {},
     "output_type": "execute_result"
    }
   ],
   "source": [
    "sql_data.create_index(\n",
    "    table='resultados',\n",
    "    columns=['ANO_ELEICAO', 'NM_VOTAVEL', 'NR_VOTAVEL', 'NR_LOCAL_VOTACAO', 'NR_ZONA', 'NR_SECAO', 'CD_MUNICIPIO', 'SG_UF']\n",
    ")\n",
    "sql_data.create_index(\n",
    "    table='eleitorado',\n",
    "    columns=['ANO_ELEICAO', 'NR_LOCAL_VOTACAO', 'NR_ZONA', 'NR_SECAO', 'CD_MUNICIPIO', 'SG_UF']\n",
    ")"
   ]
  },
  {
   "cell_type": "code",
   "execution_count": 6,
   "metadata": {},
   "outputs": [],
   "source": [
    "CANDIDATO = 'EDUARDO PAES'"
   ]
  },
  {
   "cell_type": "code",
   "execution_count": 33,
   "metadata": {},
   "outputs": [],
   "source": [
    "query = f\"\"\"\n",
    "    SELECT \n",
    "        r.DS_CARGO as cargo, \n",
    "        r.NM_VOTAVEL as candidato, \n",
    "        r.NR_SECAO as secao, \n",
    "        l.NM_MUNICIPIO as municipio, \n",
    "        l.NM_BAIRRO as bairro,\n",
    "        l.NR_LATITUDE as latitude,\n",
    "        l.NR_LONGITUDE as longitude,\n",
    "        e.DS_GENERO as genero,\n",
    "        e.DS_RACA_COR as raca,\n",
    "        e.DS_ESTADO_CIVIL as estado_civil,\n",
    "        e.DS_FAIXA_ETARIA as faixa_etaria,\n",
    "        e.DS_GRAU_ESCOLARIDADE as escolaridade,\n",
    "        e.QT_ELEITORES_PERFIL as eleitores_perfil,\n",
    "        l.QT_ELEITOR_SECAO as eleitores_secao,\n",
    "        r.QT_VOTOS as votos_secao\n",
    "    FROM \n",
    "        rj.resultados AS r\n",
    "    INNER JOIN\n",
    "        geral.locais AS l\n",
    "        ON\n",
    "            r.SG_UF = l.SG_UF\n",
    "            AND r.CD_MUNICIPIO = l.CD_MUNICIPIO\n",
    "            AND r.NR_ZONA = l.NR_ZONA\n",
    "            AND r.NR_SECAO = l.NR_SECAO\n",
    "    INNER JOIN \n",
    "        rj.eleitorado AS e\n",
    "        ON \n",
    "            r.SG_UF = e.SG_UF\n",
    "            AND r.CD_MUNICIPIO = e.CD_MUNICIPIO \n",
    "            AND r.NR_ZONA = e.NR_ZONA\n",
    "            AND r.NR_LOCAL_VOTACAO = e.NR_LOCAL_VOTACAO\n",
    "            AND r.NR_SECAO = e.NR_SECAO\n",
    "    WHERE \n",
    "        r.NM_VOTAVEL LIKE '{'%'+ CANDIDATO.replace(' ', '%') + '%'}';\n",
    "\"\"\""
   ]
  },
  {
   "cell_type": "code",
   "execution_count": null,
   "metadata": {},
   "outputs": [],
   "source": [
    "result = pd.read_sql_query(query, sql_data.conn)"
   ]
  },
  {
   "cell_type": "code",
   "execution_count": null,
   "metadata": {},
   "outputs": [],
   "source": [
    "result.head(5)"
   ]
  },
  {
   "cell_type": "code",
   "execution_count": 13,
   "metadata": {},
   "outputs": [],
   "source": [
    "def soma_votos_secao(grupo: pd.DataFrame):\n",
    "    return grupo.drop_duplicates(subset='secao')['votos_secao'].sum()\n",
    "\n",
    "def percentual(grupo: pd.DataFrame):\n",
    "    votos_grupo = soma_votos_secao(grupo)\n",
    "    return votos_grupo/grupo['eleitores_perfil'].sum()"
   ]
  },
  {
   "cell_type": "code",
   "execution_count": null,
   "metadata": {},
   "outputs": [],
   "source": [
    "agrupar_por = 'bairro'\n",
    "\n",
    "votos_bairro = result.groupby(agrupar_por).agg(\n",
    "    eleitores_perfil=('eleitores_perfil', 'sum'),\n",
    "    latitude=('latitude', 'mean'),\n",
    "    longitude=('longitude', 'mean'),\n",
    "    votos_secao=('votos_secao', lambda x: soma_votos_secao(result.loc[x.index])),\n",
    "    percentual = ('votos_secao', lambda x: percentual(result.loc[x.index]))\n",
    ").sort_values(by='percentual', ascending=False)\n",
    "votos_bairro.head()"
   ]
  },
  {
   "cell_type": "code",
   "execution_count": null,
   "metadata": {},
   "outputs": [],
   "source": [
    "agrupar_por = 'escolaridade'\n",
    "\n",
    "votos_escola = result.groupby(agrupar_por).agg(\n",
    "    eleitores_perfil=('eleitores_perfil', 'sum'),\n",
    "    latitude=('latitude', 'mean'),\n",
    "    longitude=('longitude', 'mean'),\n",
    "    votos_secao=('votos_secao', lambda x: soma_votos_secao(result.loc[x.index])),\n",
    "    percentual = ('votos_secao', lambda x: percentual(result.loc[x.index]))\n",
    ").sort_values(by='percentual', ascending=False)\n",
    "votos_escola.head()"
   ]
  },
  {
   "cell_type": "code",
   "execution_count": null,
   "metadata": {},
   "outputs": [],
   "source": [
    "result['eleitores_perfil'].sum()"
   ]
  },
  {
   "cell_type": "code",
   "execution_count": null,
   "metadata": {},
   "outputs": [],
   "source": [
    "por_secao = result.groupby('secao').agg({\n",
    "    'eleitores_secao': 'max',\n",
    "    'eleitores_perfil': 'sum'\n",
    "})\n",
    "por_secao.head()\n"
   ]
  },
  {
   "cell_type": "code",
   "execution_count": null,
   "metadata": {},
   "outputs": [],
   "source": [
    "secao_254 = result[result['secao'] == 254]\n",
    "secao_254['secao'].value_counts()"
   ]
  },
  {
   "cell_type": "code",
   "execution_count": null,
   "metadata": {},
   "outputs": [],
   "source": [
    "secao_254.head()"
   ]
  },
  {
   "cell_type": "code",
   "execution_count": null,
   "metadata": {},
   "outputs": [],
   "source": [
    "secao_254['eleitores_perfil'].sum()"
   ]
  },
  {
   "cell_type": "code",
   "execution_count": 31,
   "metadata": {},
   "outputs": [],
   "source": [
    "query = \"\"\"\n",
    "    SELECT\n",
    "        e.SG_UF AS uf,\n",
    "        e.CD_MUNICIPIO AS municipio,\n",
    "        e.NR_ZONA AS zona,\n",
    "        e.NR_SECAO AS secao,\n",
    "        SUM(e.QT_ELEITORES_PERFIL) AS eleitores_perfil,\n",
    "        AVG(l.QT_ELEITOR_SECAO) AS eleitores_secao\n",
    "    FROM\n",
    "        rj.eleitorado AS e\n",
    "    INNER JOIN\n",
    "        geral.locais AS l\n",
    "        ON \n",
    "            e.SG_UF = l.SG_UF\n",
    "            AND e.CD_MUNICIPIO = l.CD_MUNICIPIO\n",
    "            AND e.NR_ZONA = l.NR_ZONA\n",
    "            AND e.NR_SECAO = l.NR_SECAO\n",
    "    WHERE\n",
    "        e.NR_SECAO = 254\n",
    "    GROUP BY\n",
    "        e.SG_UF, e.NR_ZONA, e.NR_SECAO\n",
    "\"\"\""
   ]
  },
  {
   "cell_type": "code",
   "execution_count": 32,
   "metadata": {},
   "outputs": [
    {
     "data": {
      "text/html": [
       "<div>\n",
       "<style scoped>\n",
       "    .dataframe tbody tr th:only-of-type {\n",
       "        vertical-align: middle;\n",
       "    }\n",
       "\n",
       "    .dataframe tbody tr th {\n",
       "        vertical-align: top;\n",
       "    }\n",
       "\n",
       "    .dataframe thead th {\n",
       "        text-align: right;\n",
       "    }\n",
       "</style>\n",
       "<table border=\"1\" class=\"dataframe\">\n",
       "  <thead>\n",
       "    <tr style=\"text-align: right;\">\n",
       "      <th></th>\n",
       "      <th>uf</th>\n",
       "      <th>municipio</th>\n",
       "      <th>zona</th>\n",
       "      <th>secao</th>\n",
       "      <th>eleitores_perfil</th>\n",
       "      <th>eleitores_secao</th>\n",
       "    </tr>\n",
       "  </thead>\n",
       "  <tbody>\n",
       "    <tr>\n",
       "      <th>0</th>\n",
       "      <td>RJ</td>\n",
       "      <td>60011</td>\n",
       "      <td>4</td>\n",
       "      <td>254</td>\n",
       "      <td>366</td>\n",
       "      <td>366.0</td>\n",
       "    </tr>\n",
       "    <tr>\n",
       "      <th>1</th>\n",
       "      <td>RJ</td>\n",
       "      <td>60011</td>\n",
       "      <td>5</td>\n",
       "      <td>254</td>\n",
       "      <td>361</td>\n",
       "      <td>361.0</td>\n",
       "    </tr>\n",
       "    <tr>\n",
       "      <th>2</th>\n",
       "      <td>RJ</td>\n",
       "      <td>60011</td>\n",
       "      <td>9</td>\n",
       "      <td>254</td>\n",
       "      <td>396</td>\n",
       "      <td>396.0</td>\n",
       "    </tr>\n",
       "    <tr>\n",
       "      <th>3</th>\n",
       "      <td>RJ</td>\n",
       "      <td>60011</td>\n",
       "      <td>10</td>\n",
       "      <td>254</td>\n",
       "      <td>438</td>\n",
       "      <td>438.0</td>\n",
       "    </tr>\n",
       "    <tr>\n",
       "      <th>4</th>\n",
       "      <td>RJ</td>\n",
       "      <td>60011</td>\n",
       "      <td>16</td>\n",
       "      <td>254</td>\n",
       "      <td>350</td>\n",
       "      <td>350.0</td>\n",
       "    </tr>\n",
       "  </tbody>\n",
       "</table>\n",
       "</div>"
      ],
      "text/plain": [
       "   uf  municipio  zona  secao  eleitores_perfil  eleitores_secao\n",
       "0  RJ      60011     4    254               366            366.0\n",
       "1  RJ      60011     5    254               361            361.0\n",
       "2  RJ      60011     9    254               396            396.0\n",
       "3  RJ      60011    10    254               438            438.0\n",
       "4  RJ      60011    16    254               350            350.0"
      ]
     },
     "execution_count": 32,
     "metadata": {},
     "output_type": "execute_result"
    }
   ],
   "source": [
    "result = pd.read_sql_query(query, sql_data.conn)\n",
    "result.head()"
   ]
  },
  {
   "cell_type": "code",
   "execution_count": 26,
   "metadata": {},
   "outputs": [],
   "source": [
    "query = f\"\"\"\n",
    "    SELECT \n",
    "        r.DS_CARGO as cargo, \n",
    "        r.NM_VOTAVEL as candidato, \n",
    "        r.NR_SECAO as secao, \n",
    "        e.DS_GENERO as genero,\n",
    "        SUM(e.QT_ELEITORES_PERFIL) as eleitores_perfil,\n",
    "        MAX(l.QT_ELEITOR_SECAO) as eleitores_secao,\n",
    "        AVG(r.QT_VOTOS) as votos_secao\n",
    "    FROM \n",
    "        rj.resultados AS r\n",
    "    INNER JOIN\n",
    "        geral.locais AS l\n",
    "        ON\n",
    "            r.SG_UF = l.SG_UF\n",
    "            AND r.CD_MUNICIPIO = l.CD_MUNICIPIO\n",
    "            AND r.NR_ZONA = l.NR_ZONA\n",
    "            AND r.NR_LOCAL_VOTACAO = l.NR_LOCAL_VOTACAO\n",
    "            AND r.NR_SECAO = l.NR_SECAO\n",
    "    INNER JOIN \n",
    "        rj.eleitorado AS e\n",
    "        ON \n",
    "            r.SG_UF = e.SG_UF\n",
    "            AND r.CD_MUNICIPIO = e.CD_MUNICIPIO \n",
    "            AND r.NR_ZONA = e.NR_ZONA\n",
    "            AND r.NR_LOCAL_VOTACAO = e.NR_LOCAL_VOTACAO\n",
    "            AND r.NR_SECAO = e.NR_SECAO\n",
    "    WHERE \n",
    "        r.NM_VOTAVEL LIKE '{'%'+ CANDIDATO.replace(' ', '%') + '%'}'\n",
    "    \n",
    "    GROUP BY\n",
    "        r.NM_VOTAVEL, r.NR_SECAO, e.DS_GENERO;\n",
    "\n",
    "\"\"\""
   ]
  },
  {
   "cell_type": "code",
   "execution_count": null,
   "metadata": {},
   "outputs": [],
   "source": [
    "result = pd.read_sql_query(query, sql_data.conn)\n",
    "result.head()"
   ]
  },
  {
   "cell_type": "code",
   "execution_count": null,
   "metadata": {},
   "outputs": [],
   "source": [
    "result[result['secao'] == 254]['votos_secao'].sum()"
   ]
  },
  {
   "cell_type": "code",
   "execution_count": 48,
   "metadata": {},
   "outputs": [],
   "source": [
    "query = \"\"\"\n",
    "    SELECT\n",
    "        *\n",
    "    FROM\n",
    "        rj.resultados AS r\n",
    "    \n",
    "    WHERE\n",
    "        r.NR_SECAO = 254\n",
    "        AND r.NM_VOTAVEL LIKE '%EDUARDO%PAES%'\n",
    "\"\"\""
   ]
  },
  {
   "cell_type": "code",
   "execution_count": null,
   "metadata": {},
   "outputs": [],
   "source": [
    "result = pd.read_sql_query(query, sql_data.conn)\n",
    "result.head()"
   ]
  },
  {
   "cell_type": "markdown",
   "metadata": {},
   "source": [
    "### Mapa de calor"
   ]
  },
  {
   "cell_type": "code",
   "execution_count": 27,
   "metadata": {},
   "outputs": [],
   "source": [
    "import folium\n",
    "from folium.plugins import HeatMap"
   ]
  },
  {
   "cell_type": "code",
   "execution_count": 28,
   "metadata": {},
   "outputs": [],
   "source": [
    "mapa = folium.Map(location=[votos_bairro[\"NR_LATITUDE\"].mean(), votos_bairro[\"NR_LONGITUDE\"].mean()], zoom_start=12)"
   ]
  },
  {
   "cell_type": "code",
   "execution_count": null,
   "metadata": {},
   "outputs": [],
   "source": [
    "heat_data = [[row[\"NR_LATITUDE\"], row[\"NR_LONGITUDE\"], row[\"PERCENTUAL\"]] for _, row in votos_bairro.iterrows()]\n",
    "HeatMap(heat_data).add_to(mapa)"
   ]
  },
  {
   "cell_type": "code",
   "execution_count": null,
   "metadata": {},
   "outputs": [],
   "source": [
    "mapa.save(\"mapa_de_calor.html\")\n",
    "mapa"
   ]
  },
  {
   "cell_type": "code",
   "execution_count": null,
   "metadata": {},
   "outputs": [],
   "source": []
  }
 ],
 "metadata": {
  "kernelspec": {
   "display_name": "Python 3",
   "language": "python",
   "name": "python3"
  },
  "language_info": {
   "codemirror_mode": {
    "name": "ipython",
    "version": 3
   },
   "file_extension": ".py",
   "mimetype": "text/x-python",
   "name": "python",
   "nbconvert_exporter": "python",
   "pygments_lexer": "ipython3",
   "version": "3.12.8"
  }
 },
 "nbformat": 4,
 "nbformat_minor": 2
}

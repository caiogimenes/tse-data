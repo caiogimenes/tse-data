{
 "cells": [
  {
   "cell_type": "markdown",
   "metadata": {},
   "source": [
    "### Análise de eleição - Eduardo Paes (55)"
   ]
  },
  {
   "cell_type": "code",
   "execution_count": 1,
   "metadata": {},
   "outputs": [],
   "source": [
    "import sqlite3\n",
    "import pandas as pd"
   ]
  },
  {
   "cell_type": "code",
   "execution_count": 2,
   "metadata": {},
   "outputs": [
    {
     "data": {
      "text/plain": [
       "<sqlite3.Cursor at 0x27d907354c0>"
      ]
     },
     "execution_count": 2,
     "metadata": {},
     "output_type": "execute_result"
    }
   ],
   "source": [
    "conn = sqlite3.connect(database='databases/eleicoes_2024_rj.sql')\n",
    "cursor = conn.cursor()\n",
    "cursor.execute(\"ATTACH DATABASE 'databases/eleicoes_2024.sql' AS geral\")\n",
    "cursor.execute(\"ATTACH DATABASE 'databases/eleicoes_2024_rj.sql' AS rj\")"
   ]
  },
  {
   "cell_type": "code",
   "execution_count": 3,
   "metadata": {},
   "outputs": [
    {
     "name": "stdout",
     "output_type": "stream",
     "text": [
      "Bancos de dados anexados: [(0, 'main', 'd:\\\\projects\\\\tse-data\\\\databases\\\\eleicoes_2024_rj.sql'), (2, 'geral', 'd:\\\\projects\\\\tse-data\\\\databases\\\\eleicoes_2024.sql'), (3, 'rj', 'd:\\\\projects\\\\tse-data\\\\databases\\\\eleicoes_2024_rj.sql')]\n"
     ]
    }
   ],
   "source": [
    "cursor.execute(\"PRAGMA database_list;\")\n",
    "databases = cursor.fetchall()\n",
    "print(\"Bancos de dados anexados:\", databases)"
   ]
  },
  {
   "cell_type": "code",
   "execution_count": 4,
   "metadata": {},
   "outputs": [],
   "source": [
    "index_resultados = \"\"\"\n",
    "    CREATE INDEX IF NOT EXISTS idx_resultados \n",
    "    ON resultados(NM_VOTAVEL, NR_VOTAVEL, NR_LOCAL_VOTACAO,NR_ZONA,NR_SECAO,CD_MUNICIPIO, SG_UF);\n",
    "\"\"\"\n",
    "index_eleitorado = \"\"\"\n",
    "    CREATE INDEX IF NOT EXISTS idx_eleitorado \n",
    "    ON eleitorado(NR_LOCAL_VOTACAO,NR_ZONA,NR_SECAO,CD_MUNICIPIO, SG_UF);\n",
    "\"\"\"\n",
    "cursor.execute(index_resultados)\n",
    "cursor.execute(index_eleitorado)\n",
    "conn.commit()"
   ]
  },
  {
   "cell_type": "markdown",
   "metadata": {},
   "source": [
    "r.DS_CARGO, \n",
    "r.NM_VOTAVEL, \n",
    "r.NR_SECAO, \n",
    "l.NM_MUNICIPIO, \n",
    "l.NM_BAIRRO,\n",
    "l.NR_LATITUDE,\n",
    "l.NR_LONGITUDE,  \n",
    "e.DS_GENERO, \n",
    "e.DS_RACA_COR, \n",
    "e.DS_ESTADO_CIVIL, \n",
    "e.DS_FAIXA_ETARIA, \n",
    "e.DS_GRAU_ESCOLARIDADE, \n",
    "r.QT_VOTOS, \n",
    "l.QT_ELEITOR_SECAO, \n",
    "e.QT_ELEITORES_PERFIL"
   ]
  },
  {
   "cell_type": "code",
   "execution_count": 5,
   "metadata": {},
   "outputs": [],
   "source": [
    "query = \"\"\"\n",
    "    SELECT \n",
    "        r.DS_CARGO, \n",
    "        r.NM_VOTAVEL, \n",
    "        r.NR_SECAO, \n",
    "        l.NM_MUNICIPIO, \n",
    "        l.NM_BAIRRO,\n",
    "        l.NR_LATITUDE,\n",
    "        l.NR_LONGITUDE, \n",
    "        e.QT_ELEITORES_PERFIL\n",
    "    FROM \n",
    "        rj.resultados AS r\n",
    "    INNER JOIN \n",
    "        geral.locais AS l\n",
    "        ON \n",
    "            r.NR_LOCAL_VOTACAO = l.NR_LOCAL_VOTACAO\n",
    "            AND r.NR_ZONA = l.NR_ZONA\n",
    "            AND r.NR_SECAO = l.NR_SECAO\n",
    "            AND r.SG_UF = l.SG_UF\n",
    "            AND r.CD_MUNICIPIO = l.CD_MUNICIPIO\n",
    "    INNER JOIN \n",
    "        rj.eleitorado AS e\n",
    "        ON \n",
    "            r.NR_LOCAL_VOTACAO = e.NR_LOCAL_VOTACAO\n",
    "            AND r.NR_ZONA = e.NR_ZONA\n",
    "            AND r.NR_SECAO = e.NR_SECAO\n",
    "            AND r.SG_UF = e.SG_UF\n",
    "            AND r.CD_MUNICIPIO = e.CD_MUNICIPIO \n",
    "    WHERE \n",
    "        NM_VOTAVEL LIKE '%EDUARDO%PAES%';\n",
    "\"\"\""
   ]
  },
  {
   "cell_type": "code",
   "execution_count": 6,
   "metadata": {},
   "outputs": [],
   "source": [
    "result = pd.read_sql_query(query, conn)"
   ]
  },
  {
   "cell_type": "code",
   "execution_count": 7,
   "metadata": {},
   "outputs": [
    {
     "data": {
      "text/html": [
       "<div>\n",
       "<style scoped>\n",
       "    .dataframe tbody tr th:only-of-type {\n",
       "        vertical-align: middle;\n",
       "    }\n",
       "\n",
       "    .dataframe tbody tr th {\n",
       "        vertical-align: top;\n",
       "    }\n",
       "\n",
       "    .dataframe thead th {\n",
       "        text-align: right;\n",
       "    }\n",
       "</style>\n",
       "<table border=\"1\" class=\"dataframe\">\n",
       "  <thead>\n",
       "    <tr style=\"text-align: right;\">\n",
       "      <th></th>\n",
       "      <th>DS_CARGO</th>\n",
       "      <th>NM_VOTAVEL</th>\n",
       "      <th>NR_SECAO</th>\n",
       "      <th>NM_MUNICIPIO</th>\n",
       "      <th>NM_BAIRRO</th>\n",
       "      <th>NR_LATITUDE</th>\n",
       "      <th>NR_LONGITUDE</th>\n",
       "      <th>QT_ELEITORES_PERFIL</th>\n",
       "    </tr>\n",
       "  </thead>\n",
       "  <tbody>\n",
       "    <tr>\n",
       "      <th>0</th>\n",
       "      <td>Prefeito</td>\n",
       "      <td>EDUARDO DA COSTA PAES</td>\n",
       "      <td>254</td>\n",
       "      <td>RIO DE JANEIRO</td>\n",
       "      <td>CAMPO GRANDE</td>\n",
       "      <td>-22.890643</td>\n",
       "      <td>-43.563465</td>\n",
       "      <td>1</td>\n",
       "    </tr>\n",
       "  </tbody>\n",
       "</table>\n",
       "</div>"
      ],
      "text/plain": [
       "   DS_CARGO             NM_VOTAVEL  NR_SECAO    NM_MUNICIPIO     NM_BAIRRO  \\\n",
       "0  Prefeito  EDUARDO DA COSTA PAES       254  RIO DE JANEIRO  CAMPO GRANDE   \n",
       "\n",
       "   NR_LATITUDE  NR_LONGITUDE  QT_ELEITORES_PERFIL  \n",
       "0   -22.890643    -43.563465                    1  "
      ]
     },
     "execution_count": 7,
     "metadata": {},
     "output_type": "execute_result"
    }
   ],
   "source": [
    "result.head(1)"
   ]
  },
  {
   "cell_type": "code",
   "execution_count": 9,
   "metadata": {},
   "outputs": [
    {
     "data": {
      "text/html": [
       "<div>\n",
       "<style scoped>\n",
       "    .dataframe tbody tr th:only-of-type {\n",
       "        vertical-align: middle;\n",
       "    }\n",
       "\n",
       "    .dataframe tbody tr th {\n",
       "        vertical-align: top;\n",
       "    }\n",
       "\n",
       "    .dataframe thead th {\n",
       "        text-align: right;\n",
       "    }\n",
       "</style>\n",
       "<table border=\"1\" class=\"dataframe\">\n",
       "  <thead>\n",
       "    <tr style=\"text-align: right;\">\n",
       "      <th></th>\n",
       "      <th>QT_ELEITORES_PERFIL</th>\n",
       "      <th>NR_LATITUDE</th>\n",
       "      <th>NR_LONGITUDE</th>\n",
       "    </tr>\n",
       "    <tr>\n",
       "      <th>NM_BAIRRO</th>\n",
       "      <th></th>\n",
       "      <th></th>\n",
       "      <th></th>\n",
       "    </tr>\n",
       "  </thead>\n",
       "  <tbody>\n",
       "    <tr>\n",
       "      <th>CAMPO GRANDE</th>\n",
       "      <td>293901</td>\n",
       "      <td>-22.898534</td>\n",
       "      <td>-43.564016</td>\n",
       "    </tr>\n",
       "    <tr>\n",
       "      <th>SANTA CRUZ</th>\n",
       "      <td>162417</td>\n",
       "      <td>-22.920209</td>\n",
       "      <td>-43.684543</td>\n",
       "    </tr>\n",
       "    <tr>\n",
       "      <th>TIJUCA</th>\n",
       "      <td>151213</td>\n",
       "      <td>-22.927706</td>\n",
       "      <td>-43.233329</td>\n",
       "    </tr>\n",
       "    <tr>\n",
       "      <th>REALENGO</th>\n",
       "      <td>142862</td>\n",
       "      <td>-22.877801</td>\n",
       "      <td>-43.430318</td>\n",
       "    </tr>\n",
       "    <tr>\n",
       "      <th>BANGU</th>\n",
       "      <td>128301</td>\n",
       "      <td>-22.877016</td>\n",
       "      <td>-43.469724</td>\n",
       "    </tr>\n",
       "    <tr>\n",
       "      <th>...</th>\n",
       "      <td>...</td>\n",
       "      <td>...</td>\n",
       "      <td>...</td>\n",
       "    </tr>\n",
       "    <tr>\n",
       "      <th>FUNDÃO</th>\n",
       "      <td>1353</td>\n",
       "      <td>-22.860359</td>\n",
       "      <td>-43.218952</td>\n",
       "    </tr>\n",
       "    <tr>\n",
       "      <th>TUBIACANGA</th>\n",
       "      <td>1260</td>\n",
       "      <td>-22.785850</td>\n",
       "      <td>-43.225929</td>\n",
       "    </tr>\n",
       "    <tr>\n",
       "      <th>JACAREPAGUÁ</th>\n",
       "      <td>1245</td>\n",
       "      <td>-22.968071</td>\n",
       "      <td>-43.392573</td>\n",
       "    </tr>\n",
       "    <tr>\n",
       "      <th>VILA MILITAR</th>\n",
       "      <td>1245</td>\n",
       "      <td>-22.864321</td>\n",
       "      <td>-43.403057</td>\n",
       "    </tr>\n",
       "    <tr>\n",
       "      <th>SÃO JORGE</th>\n",
       "      <td>1059</td>\n",
       "      <td>-22.911624</td>\n",
       "      <td>-43.575754</td>\n",
       "    </tr>\n",
       "  </tbody>\n",
       "</table>\n",
       "<p>161 rows × 3 columns</p>\n",
       "</div>"
      ],
      "text/plain": [
       "              QT_ELEITORES_PERFIL  NR_LATITUDE  NR_LONGITUDE\n",
       "NM_BAIRRO                                                   \n",
       "CAMPO GRANDE               293901   -22.898534    -43.564016\n",
       "SANTA CRUZ                 162417   -22.920209    -43.684543\n",
       "TIJUCA                     151213   -22.927706    -43.233329\n",
       "REALENGO                   142862   -22.877801    -43.430318\n",
       "BANGU                      128301   -22.877016    -43.469724\n",
       "...                           ...          ...           ...\n",
       "FUNDÃO                       1353   -22.860359    -43.218952\n",
       "TUBIACANGA                   1260   -22.785850    -43.225929\n",
       "JACAREPAGUÁ                  1245   -22.968071    -43.392573\n",
       "VILA MILITAR                 1245   -22.864321    -43.403057\n",
       "SÃO JORGE                    1059   -22.911624    -43.575754\n",
       "\n",
       "[161 rows x 3 columns]"
      ]
     },
     "execution_count": 9,
     "metadata": {},
     "output_type": "execute_result"
    }
   ],
   "source": [
    "votos_bairro = result.groupby(by='NM_BAIRRO').agg(\n",
    "    {\n",
    "        'QT_ELEITORES_PERFIL': 'sum',\n",
    "        'NR_LATITUDE': 'mean',\n",
    "        'NR_LONGITUDE': 'mean',\n",
    "    }\n",
    ").sort_values(by='QT_ELEITORES_PERFIL', ascending=False)\n",
    "votos_bairro"
   ]
  },
  {
   "cell_type": "code",
   "execution_count": 10,
   "metadata": {},
   "outputs": [],
   "source": [
    "import folium\n",
    "from folium.plugins import HeatMap"
   ]
  },
  {
   "cell_type": "code",
   "execution_count": 11,
   "metadata": {},
   "outputs": [],
   "source": [
    "mapa = folium.Map(location=[votos_bairro[\"NR_LATITUDE\"].mean(), votos_bairro[\"NR_LONGITUDE\"].mean()], zoom_start=12)"
   ]
  },
  {
   "cell_type": "code",
   "execution_count": 12,
   "metadata": {},
   "outputs": [
    {
     "data": {
      "text/plain": [
       "<folium.plugins.heat_map.HeatMap at 0x27d98817110>"
      ]
     },
     "execution_count": 12,
     "metadata": {},
     "output_type": "execute_result"
    }
   ],
   "source": [
    "# 3. Adicione o mapa de calor\n",
    "heat_data = [[row[\"NR_LATITUDE\"], row[\"NR_LONGITUDE\"], row[\"QT_ELEITORES_PERFIL\"]] for _, row in votos_bairro.iterrows()]\n",
    "HeatMap(heat_data).add_to(mapa)"
   ]
  },
  {
   "cell_type": "code",
   "execution_count": 13,
   "metadata": {},
   "outputs": [],
   "source": [
    "mapa.save(\"mapa_de_calor.html\")"
   ]
  },
  {
   "cell_type": "code",
   "execution_count": 14,
   "metadata": {},
   "outputs": [
    {
     "data": {
      "text/html": [
       "<div style=\"width:100%;\"><div style=\"position:relative;width:100%;height:0;padding-bottom:60%;\"><span style=\"color:#565656\">Make this Notebook Trusted to load map: File -> Trust Notebook</span><iframe srcdoc=\"&lt;!DOCTYPE html&gt;\n",
       "&lt;html&gt;\n",
       "&lt;head&gt;\n",
       "    \n",
       "    &lt;meta http-equiv=&quot;content-type&quot; content=&quot;text/html; charset=UTF-8&quot; /&gt;\n",
       "    \n",
       "        &lt;script&gt;\n",
       "            L_NO_TOUCH = false;\n",
       "            L_DISABLE_3D = false;\n",
       "        &lt;/script&gt;\n",
       "    \n",
       "    &lt;style&gt;html, body {width: 100%;height: 100%;margin: 0;padding: 0;}&lt;/style&gt;\n",
       "    &lt;style&gt;#map {position:absolute;top:0;bottom:0;right:0;left:0;}&lt;/style&gt;\n",
       "    &lt;script src=&quot;https://cdn.jsdelivr.net/npm/leaflet@1.9.3/dist/leaflet.js&quot;&gt;&lt;/script&gt;\n",
       "    &lt;script src=&quot;https://code.jquery.com/jquery-3.7.1.min.js&quot;&gt;&lt;/script&gt;\n",
       "    &lt;script src=&quot;https://cdn.jsdelivr.net/npm/bootstrap@5.2.2/dist/js/bootstrap.bundle.min.js&quot;&gt;&lt;/script&gt;\n",
       "    &lt;script src=&quot;https://cdnjs.cloudflare.com/ajax/libs/Leaflet.awesome-markers/2.0.2/leaflet.awesome-markers.js&quot;&gt;&lt;/script&gt;\n",
       "    &lt;link rel=&quot;stylesheet&quot; href=&quot;https://cdn.jsdelivr.net/npm/leaflet@1.9.3/dist/leaflet.css&quot;/&gt;\n",
       "    &lt;link rel=&quot;stylesheet&quot; href=&quot;https://cdn.jsdelivr.net/npm/bootstrap@5.2.2/dist/css/bootstrap.min.css&quot;/&gt;\n",
       "    &lt;link rel=&quot;stylesheet&quot; href=&quot;https://netdna.bootstrapcdn.com/bootstrap/3.0.0/css/bootstrap-glyphicons.css&quot;/&gt;\n",
       "    &lt;link rel=&quot;stylesheet&quot; href=&quot;https://cdn.jsdelivr.net/npm/@fortawesome/fontawesome-free@6.2.0/css/all.min.css&quot;/&gt;\n",
       "    &lt;link rel=&quot;stylesheet&quot; href=&quot;https://cdnjs.cloudflare.com/ajax/libs/Leaflet.awesome-markers/2.0.2/leaflet.awesome-markers.css&quot;/&gt;\n",
       "    &lt;link rel=&quot;stylesheet&quot; href=&quot;https://cdn.jsdelivr.net/gh/python-visualization/folium/folium/templates/leaflet.awesome.rotate.min.css&quot;/&gt;\n",
       "    \n",
       "            &lt;meta name=&quot;viewport&quot; content=&quot;width=device-width,\n",
       "                initial-scale=1.0, maximum-scale=1.0, user-scalable=no&quot; /&gt;\n",
       "            &lt;style&gt;\n",
       "                #map_acec65bbcbe23377e1db8f63f4d3ba36 {\n",
       "                    position: relative;\n",
       "                    width: 100.0%;\n",
       "                    height: 100.0%;\n",
       "                    left: 0.0%;\n",
       "                    top: 0.0%;\n",
       "                }\n",
       "                .leaflet-container { font-size: 1rem; }\n",
       "            &lt;/style&gt;\n",
       "        \n",
       "    &lt;script src=&quot;https://cdn.jsdelivr.net/gh/python-visualization/folium@main/folium/templates/leaflet_heat.min.js&quot;&gt;&lt;/script&gt;\n",
       "&lt;/head&gt;\n",
       "&lt;body&gt;\n",
       "    \n",
       "    \n",
       "            &lt;div class=&quot;folium-map&quot; id=&quot;map_acec65bbcbe23377e1db8f63f4d3ba36&quot; &gt;&lt;/div&gt;\n",
       "        \n",
       "&lt;/body&gt;\n",
       "&lt;script&gt;\n",
       "    \n",
       "    \n",
       "            var map_acec65bbcbe23377e1db8f63f4d3ba36 = L.map(\n",
       "                &quot;map_acec65bbcbe23377e1db8f63f4d3ba36&quot;,\n",
       "                {\n",
       "                    center: [-22.890613697858576, -43.31541557787757],\n",
       "                    crs: L.CRS.EPSG3857,\n",
       "                    ...{\n",
       "  &quot;zoom&quot;: 12,\n",
       "  &quot;zoomControl&quot;: true,\n",
       "  &quot;preferCanvas&quot;: false,\n",
       "}\n",
       "\n",
       "                }\n",
       "            );\n",
       "\n",
       "            \n",
       "\n",
       "        \n",
       "    \n",
       "            var tile_layer_7d721ffb6789580f3678b95308036a3d = L.tileLayer(\n",
       "                &quot;https://tile.openstreetmap.org/{z}/{x}/{y}.png&quot;,\n",
       "                {\n",
       "  &quot;minZoom&quot;: 0,\n",
       "  &quot;maxZoom&quot;: 19,\n",
       "  &quot;maxNativeZoom&quot;: 19,\n",
       "  &quot;noWrap&quot;: false,\n",
       "  &quot;attribution&quot;: &quot;\\u0026copy; \\u003ca href=\\&quot;https://www.openstreetmap.org/copyright\\&quot;\\u003eOpenStreetMap\\u003c/a\\u003e contributors&quot;,\n",
       "  &quot;subdomains&quot;: &quot;abc&quot;,\n",
       "  &quot;detectRetina&quot;: false,\n",
       "  &quot;tms&quot;: false,\n",
       "  &quot;opacity&quot;: 1,\n",
       "}\n",
       "\n",
       "            );\n",
       "        \n",
       "    \n",
       "            tile_layer_7d721ffb6789580f3678b95308036a3d.addTo(map_acec65bbcbe23377e1db8f63f4d3ba36);\n",
       "        \n",
       "    \n",
       "            var heat_map_5d1cd26e899fe3ae4d8c881bcb551dcd = L.heatLayer(\n",
       "                [[-22.89853418338612, -43.56401606153193, 293901.0], [-22.92020929228115, -43.684542932259845, 162417.0], [-22.927706393196125, -43.233328567413096, 151213.0], [-22.87780074186355, -43.43031776081625, 142862.0], [-22.87701557696645, -43.46972403272791, 128301.0], [-22.9727901761295, -43.186587902549896, 125847.0], [-22.924643938048995, -43.378445880348764, 111861.0], [-23.006032251097185, -43.358369807258306, 111666.0], [-22.865211628399898, -43.249984618563275, 94607.0], [-22.911236795531593, -43.6374799570984, 91479.0], [-22.833982978436055, -43.326713894563284, 79762.0], [-22.853767433954612, -43.25711478255068, 73129.0], [-22.875450725653742, -43.45171659126453, 67162.0], [-22.841413637454416, -43.27940457793703, 66912.0], [-22.949911570355848, -43.18636303579576, 65067.0], [-23.016271031532302, -43.470502474026276, 63040.0], [-22.825187658093974, -43.40245743973229, 59363.0], [-22.88183108135756, -43.48813684630455, 58654.0], [-22.939370235135524, -43.33933505788666, 58426.0], [-22.812265406559, -43.36615029642721, 57377.0], [-22.90297431881523, -43.28351254403472, 56934.0], [-22.96105364623289, -43.61188503077798, 54077.0], [-22.955941731803815, -43.385583618320716, 51191.0], [-22.8987577095412, -43.35329471376821, 49802.0], [-22.84773039820464, -43.266722558130766, 49212.0], [-22.84255278174207, -43.30865683377271, 47797.0], [-22.91754129456788, -43.24554436151003, 46750.0], [-22.89641014868592, -43.29512690508446, 46670.0], [-22.905790875074118, -43.61174141165038, 45478.0], [-22.974075695123762, -43.33094451848391, 43355.0], [-22.934390334508613, -43.184509354187824, 41717.0], [-22.995261146189822, -43.258377161111106, 41481.0], [-22.84269323853679, -43.37437155529712, 40755.0], [-22.983823172912768, -43.204037024494696, 40342.0], [-22.84672522533917, -43.34824141352359, 40327.0], [-22.871325646545223, -43.33826521517556, 40266.0], [-22.981767090091918, -43.22053803354418, 40048.0], [-22.968881867551776, -43.695468864335304, 39817.0], [-22.878043272710585, -43.51768913022593, 38974.0], [-22.854237641171164, -43.488780272763, 38617.0], [-22.889238646410078, -43.275376457438746, 38193.0], [-22.86023534850998, -43.370412828452196, 38051.0], [-22.907150286510365, -43.59597882070405, 36710.0], [-22.835699265996954, -43.29101007754952, 36468.0], [-22.945169891826858, -43.36003245611758, 36088.0], [-22.92246648408147, -43.21019980190203, 35422.0], [-22.824215838507538, -43.30147071235829, 34855.0], [-22.906457575759966, -43.267690402639445, 34272.0], [-22.925804647272457, -43.1774549787544, 33916.0], [-22.919849315326168, -43.363931462781075, 33664.0], [-22.934961190088643, -43.176899376509695, 33112.0], [-22.896094275642877, -43.22520962283733, 32784.0], [-22.925730140719264, -43.247622301295415, 32783.0], [-22.889415375310385, -43.308945520940384, 32184.0], [-22.829406917165148, -43.29257238828411, 32094.0], [-22.881862266259667, -43.36341298761362, 31920.0], [-22.88195680491519, -43.32983253418348, 31873.0], [-22.92150815522248, -43.26151133620377, 31755.0], [-22.991986618491733, -43.63767796552538, 31471.0], [-22.867379307153566, -43.29390800182765, 30925.0], [-22.81230305286615, -43.32146148102184, 30782.0], [-22.907698600811795, -43.18695724958582, 30449.0], [-22.88743368668154, -43.31999358966015, 30258.0], [-22.979207564442085, -43.23307940889125, 29659.0], [-22.87322655714184, -43.28097895978485, 29501.0], [-22.875396921057778, -43.41349340300933, 29390.0], [-22.85432152293752, -43.32869057538912, 29239.0], [-22.898119092912424, -43.250633258915, 28910.0], [-22.86395833473863, -43.36208716759323, 26446.0], [-22.893827703010007, -43.23630814078295, 26117.0], [-22.871342980196204, -43.35131132714149, 26100.0], [-22.879754193235897, -43.29554212190805, 25462.0], [-22.931527414891697, -43.35420568806859, 25017.0], [-22.87560323973449, -43.25927876172664, 24864.0], [-22.913175962174677, -43.228405181247005, 24546.0], [-22.83659518016967, -43.39620531756804, 24190.0], [-22.812538700928144, -43.22045213135585, 23349.0], [-22.830502861731706, -43.350470731565885, 22755.0], [-22.956833026300227, -43.340548262859954, 22070.0], [-22.845776538934423, -43.35784625972336, 20885.0], [-22.812311733572596, -43.202685569951065, 20284.0], [-22.806631287129463, -43.18095128274457, 20083.0], [-22.840466505274286, -43.33491775780572, 18893.0], [-22.823290417403946, -43.37011075313448, 18019.0], [-22.962007989613355, -43.34857243415609, 17953.0], [-22.971917847420304, -43.41284637399821, 17616.0], [-22.84892523433861, -43.46433715643476, 17606.0], [-22.799206322678508, -43.20616162805399, 17488.0], [-22.993530463012046, -43.307650105461846, 17064.0], [-22.9095475629933, -43.28281348198064, 16497.0], [-22.962892058207053, -43.21800068575067, 16001.0], [-22.896861801726548, -43.28488640148534, 15968.0], [-22.851610302542486, -43.38324163021074, 15836.0], [-22.789408533451443, -43.183397197913386, 15689.0], [-22.896820532591065, -43.541566010845365, 15645.0], [-22.879084774702847, -43.27062940648337, 15233.0], [-22.793311741085045, -43.17323366806452, 15142.0], [-22.912639088592368, -43.2093108024198, 14561.0], [-22.879251429897078, -43.22125899980396, 14401.0], [-22.926010675585378, -43.194630645186905, 14113.0], [-22.79763366135402, -43.20109703660869, 13922.0], [-22.853207685301918, -43.3166413668591, 13847.0], [-22.984880542979944, -43.4915317820664, 13630.0], [-22.825467550015386, -43.317798363138465, 13474.0], [-22.886896036776015, -43.34517007603202, 13263.0], [-22.957428673305152, -43.19893634620387, 13132.0], [-22.81626611535069, -43.30201739275857, 13058.0], [-22.984014527461415, -43.45292431007628, 12590.0], [-22.964796863515783, -43.2115346265085, 12385.0], [-22.997621965080597, -43.567395991687704, 12113.0], [-22.961973749283317, -43.16664559945105, 11925.0], [-22.882975959486707, -43.260819036791936, 11611.0], [-22.81353277081444, -43.30959612524941, 11596.0], [-22.886658181362765, -43.38708366040307, 11517.0], [-22.993472337481606, -43.234999422850535, 11144.0], [-22.896512987952203, -43.30367961609101, 11116.0], [-22.873442195325573, -43.31377006880684, 10894.0], [-22.861287406393583, -43.34378621358908, 10859.0], [-22.891651618773356, -43.25569989650473, 10682.0], [-22.917598530237324, -43.18744663546184, 10235.0], [-22.85261241590106, -43.30779904558304, 10045.0], [-22.902240071802325, -43.255681971547965, 9950.0], [-22.813241019725417, -43.18969911952352, 9533.0], [-22.953392654965715, -43.171012281619106, 9270.0], [-22.920035155657143, -43.17711339622858, 8881.0], [-22.91221106900462, -43.208287010247794, 8816.0], [-22.8962609, -43.2410065, 8178.0], [-22.822106882204913, -43.350483907609345, 8177.0], [-22.903298172506016, -43.31135190131051, 8157.0], [-22.81569766606525, -43.340098766559564, 7979.0], [-22.82113511262062, -43.1741835333418, 7876.0], [-22.9397499, -43.1960444, 7761.0], [-22.8865491, -43.5288101, 6906.0], [-22.7947086975618, -43.18436703464273, 6563.0], [-22.97070316460876, -43.28344497440775, 5983.0], [-22.9019411, -43.2420896, 5795.0], [-22.8344410967149, -43.36497160727415, 5681.0], [-22.867598461627907, -43.30872677558139, 5666.0], [-22.9002145, -43.2056543, 5616.0], [-22.8251085, -43.1720438, 5549.0], [-23.04292682062421, -43.554757407676085, 5319.0], [-22.915406, -43.1780392, 5190.0], [-22.896314669769172, -43.18924177058823, 5147.0], [-22.8517898, -43.4705923, 4387.0], [-22.8138667, -43.1889225, 4106.0], [-22.8672052, -43.3057081, 3800.0], [-22.8977858, -43.1982943, 3705.0], [-22.7957788, -43.1927999, 3173.0], [-22.875663806950822, -43.32335398655738, 3112.0], [-22.7536665, -43.10934329999999, 3109.0], [-22.9046551, -43.2436347, 3019.0], [-22.8755811, -43.2550657, 2672.0], [-22.8093161, -43.1955136, 2558.0], [-22.8370214, -43.4086216, 2535.0], [-22.9099355, -43.203735, 2484.0], [-22.9890354, -43.2522912, 1470.0], [-22.8603585, -43.2189516, 1353.0], [-22.7858504, -43.2259293, 1260.0], [-22.9680707, -43.3925735, 1245.0], [-22.8643208, -43.4030574, 1245.0], [-22.9116235, -43.575754, 1059.0]],\n",
       "                {\n",
       "  &quot;minOpacity&quot;: 0.5,\n",
       "  &quot;maxZoom&quot;: 18,\n",
       "  &quot;radius&quot;: 25,\n",
       "  &quot;blur&quot;: 15,\n",
       "}\n",
       "            );\n",
       "        \n",
       "    \n",
       "            heat_map_5d1cd26e899fe3ae4d8c881bcb551dcd.addTo(map_acec65bbcbe23377e1db8f63f4d3ba36);\n",
       "        \n",
       "    \n",
       "            tile_layer_7d721ffb6789580f3678b95308036a3d.addTo(map_acec65bbcbe23377e1db8f63f4d3ba36);\n",
       "        \n",
       "    \n",
       "            heat_map_5d1cd26e899fe3ae4d8c881bcb551dcd.addTo(map_acec65bbcbe23377e1db8f63f4d3ba36);\n",
       "        \n",
       "&lt;/script&gt;\n",
       "&lt;/html&gt;\" style=\"position:absolute;width:100%;height:100%;left:0;top:0;border:none !important;\" allowfullscreen webkitallowfullscreen mozallowfullscreen></iframe></div></div>"
      ],
      "text/plain": [
       "<folium.folium.Map at 0x27d9b6a8770>"
      ]
     },
     "execution_count": 14,
     "metadata": {},
     "output_type": "execute_result"
    }
   ],
   "source": [
    "mapa"
   ]
  },
  {
   "cell_type": "code",
   "execution_count": null,
   "metadata": {},
   "outputs": [],
   "source": []
  }
 ],
 "metadata": {
  "kernelspec": {
   "display_name": "Python 3",
   "language": "python",
   "name": "python3"
  },
  "language_info": {
   "codemirror_mode": {
    "name": "ipython",
    "version": 3
   },
   "file_extension": ".py",
   "mimetype": "text/x-python",
   "name": "python",
   "nbconvert_exporter": "python",
   "pygments_lexer": "ipython3",
   "version": "3.12.8"
  }
 },
 "nbformat": 4,
 "nbformat_minor": 2
}

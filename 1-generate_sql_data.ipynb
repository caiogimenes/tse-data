{
 "cells": [
  {
   "cell_type": "markdown",
   "metadata": {},
   "source": [
    "# Script notebook - criar banco de dados SQL para consultas eleitorais\n",
    "---\n",
    "### Tabelas\n",
    "- perfil de eleitorado\n",
    "- locais de votação\n",
    "- resultados eleitorais"
   ]
  },
  {
   "cell_type": "code",
   "execution_count": 1,
   "metadata": {},
   "outputs": [],
   "source": [
    "ANO = '2024'\n",
    "ESTADO = 'AC' # uppercase!"
   ]
  },
  {
   "cell_type": "code",
   "execution_count": 2,
   "metadata": {},
   "outputs": [],
   "source": [
    "from tse import TseClient, df_to_sql, listar_tabelas"
   ]
  },
  {
   "cell_type": "markdown",
   "metadata": {},
   "source": [
    "- Inicializando cliente"
   ]
  },
  {
   "cell_type": "code",
   "execution_count": 3,
   "metadata": {},
   "outputs": [],
   "source": [
    "client = TseClient()"
   ]
  },
  {
   "cell_type": "markdown",
   "metadata": {},
   "source": [
    "- Menu de datasets disponíveis"
   ]
  },
  {
   "cell_type": "code",
   "execution_count": 4,
   "metadata": {},
   "outputs": [
    {
     "name": "stdout",
     "output_type": "stream",
     "text": [
      "0 -> resultados-2022-correspondencias-esperadas-e-efetivadas-1-turno\n",
      "1 -> resultados-1996\n",
      "2 -> resultados-1934\n",
      "3 -> prestacao-de-contas-partidarias-2022\n",
      "4 -> prestacao-de-contas-eleitorais-2018\n",
      "5 -> eleitorado-2008\n",
      "6 -> prestacao-de-contas-partidarias-2016\n",
      "7 -> comparecimento-e-abstencao-2022\n",
      "8 -> comparecimento-e-abstencao-2014\n",
      "9 -> candidatos-1986\n",
      "10 -> candidatos-1970\n",
      "11 -> candidatos-1955\n",
      "12 -> candidatos-2008\n",
      "13 -> resultados-1986\n",
      "14 -> resultados-1962\n",
      "15 -> processual-2024\n",
      "16 -> candidatos-2004\n",
      "17 -> candidatos-2024\n",
      "18 -> pesquisas-eleitorais-2012\n",
      "19 -> rae-requerimento-de-alistamento-eleitoral\n",
      "20 -> resultados-1978\n",
      "21 -> resultados-1998\n",
      "22 -> resultados-1954\n",
      "23 -> candidatos-2018\n",
      "24 -> resultados-2020-correspondencias-esperadas-e-efetivadas-2-turno\n",
      "25 -> candidatos-1960\n",
      "26 -> pesquisas-eleitorais-atual\n",
      "27 -> eleitorado-2012\n",
      "28 -> resultados-1990\n",
      "29 -> candidatos-1989\n",
      "30 -> candidatos-2020-subtemas\n",
      "31 -> processual-2020\n",
      "32 -> resultados-2024-logs-do-sistema-de-preparacao-das-urnas-eletronicas-gedai-1-turno\n",
      "33 -> resultados-2016-boletim-de-urna\n",
      "34 -> eleitorado-2010\n",
      "35 -> candidatos-1947\n",
      "36 -> resultados-2008\n",
      "37 -> resultados-1982\n",
      "38 -> mesarios-2016\n",
      "39 -> resultados-2024-logs-do-sistema-de-preparacao-das-urnas-eletronicas-gedai-2-turno\n",
      "40 -> resultados-2006\n",
      "41 -> resultados-2018-correspondencias-esperadas-e-efetivadas-1-turno\n",
      "42 -> prestacao-de-contas-eleitorais-2016\n",
      "43 -> resultados-2018-correspondencias-esperadas-e-efetivadas-2-turno\n",
      "44 -> resultados-2004\n",
      "45 -> prestacao-de-contas-partidarias-2017\n",
      "46 -> prestacao-de-contas-partidarias-2014\n",
      "47 -> candidatos-1950\n",
      "48 -> eleitorado-2004\n",
      "49 -> resultados-2002\n",
      "50 -> candidatos-2006\n",
      "51 -> resultados-2024-boletim-de-urna\n",
      "52 -> candidatos-1974\n",
      "53 -> candidatos-1996\n",
      "54 -> prestacao-de-contas-eleitorais-2010\n",
      "55 -> resultados-2022\n",
      "56 -> candidatos-1962\n",
      "57 -> resultados-1966\n",
      "58 -> resultados-1945\n",
      "59 -> resultados-2010\n",
      "60 -> resultados-2020-boletim-de-urna\n",
      "61 -> processo-eleitoral\n",
      "62 -> eleitorado-1996\n",
      "63 -> eleitorado-2000\n",
      "64 -> mesarios1-2018\n",
      "65 -> resultados-2022-arquivos-transmitidos-para-totalizacao\n",
      "66 -> prestacao-de-contas-eleitorais-2020\n",
      "67 -> pesquisas-eleitorais-2018\n",
      "68 -> candidatos-1982\n",
      "69 -> pesquisas-eleitorais-2020\n",
      "70 -> comparecimento-e-abstencao-2016\n",
      "71 -> resultados-2024\n",
      "72 -> resultados-1974\n",
      "73 -> resultados-2024-correspondencias-esperadas-e-efetivadas-1-turno\n",
      "74 -> candidatos-1998\n",
      "75 -> resultados-2024-correspondencias-esperadas-e-efetivadas-2-turno\n",
      "76 -> dadosabertos-tse-jus-br-dataset-prestacao-de-contas-eleitorais-2022\n",
      "77 -> resultados-2012\n",
      "78 -> correspondencia-entre-numero-interno-e-modelo-da-urna-1\n",
      "79 -> resultados-1955\n",
      "80 -> resultados-1994\n",
      "81 -> prestacao-de-contas-partidarias-2015\n",
      "82 -> resultados-2024-arquivos-transmitidos-para-totalizacao\n",
      "83 -> candidatos-1966\n",
      "84 -> prestacao-de-contas-partidarias-2018\n",
      "85 -> processual-2022\n",
      "86 -> candidatos-1990\n",
      "87 -> resultados-2022-correspondencias-esperadas-e-efetivadas-2-turno\n",
      "88 -> candidatos-1965\n",
      "89 -> mesarios-2024\n",
      "90 -> eleitorado-2018\n",
      "91 -> eleitorado-1998\n",
      "92 -> eleitorado-2014\n",
      "93 -> candidatos-2000\n",
      "94 -> candidatos-2010\n",
      "95 -> eleitorado-2016\n",
      "96 -> pesquisas-eleitorais-2024\n",
      "97 -> candidatos-2016\n",
      "98 -> candidatos-1945\n",
      "99 -> resultados-1947\n",
      "100 -> candidatos-2014\n",
      "101 -> eleitorado-2024\n",
      "102 -> resultados-1960\n",
      "103 -> comparecimento-e-abstencao-2024\n",
      "104 -> prestacao-de-contas-partidarias-2021\n",
      "105 -> mesarios-2022\n",
      "106 -> prestacao-de-contas-eleitorais-2024\n",
      "107 -> eleitorado-2022\n",
      "108 -> resultados-1965\n",
      "109 -> eleitorado-1994\n",
      "110 -> prestacao-de-contas-eleitorais-2014\n",
      "111 -> resultados-2000\n",
      "112 -> comparecimento-e-abstencao-2018\n",
      "113 -> resultados-1958\n",
      "114 -> candidatos-1954\n",
      "115 -> pesquisas-eleitorais-2016\n",
      "116 -> eleitorado-2002\n",
      "117 -> resultados-2012-correspondencias-esperadas-e-efetivadas-2-turno\n",
      "118 -> resultados-2020-correspondencias-esperadas-e-efetivadas-1-turno\n",
      "119 -> eleitorado-atual\n",
      "120 -> resultados-2014-correspondencias-esperadas-e-efetivadas-1-turno\n",
      "121 -> resultados-1933\n",
      "122 -> candidatos-2022\n",
      "123 -> pesquisas-eleitorais-2014\n",
      "124 -> resultados-2020\n",
      "125 -> candidatos-1958\n",
      "126 -> eleitorado-2006\n",
      "127 -> resultados-2014-boletim-de-urna\n",
      "128 -> resultados-2014\n",
      "129 -> candidatos-2012\n",
      "130 -> resultados-2018-boletim-de-urna\n",
      "131 -> resultados-2012-boletim-de-urna-1-turno\n",
      "132 -> resultados-2012-correspondencias-esperadas-efetivadas-1-turno\n",
      "133 -> prestacao-de-contas-partidarias-2020\n",
      "134 -> resultados-2014-correspondencias-esperadas-e-efetivadas-2-turno\n",
      "135 -> comparecimento-e-abstencao-2020\n",
      "136 -> prestacao-de-contas-eleitorais-2004\n",
      "137 -> resultados-1989\n",
      "138 -> resultados-2016-correspondencias-esperadas-e-efetivadas-2-turno\n",
      "139 -> candidatos-1934\n",
      "140 -> resultados-2020-suplementares\n",
      "141 -> eleitorado-2020\n",
      "142 -> candidatos-2002\n",
      "143 -> resultados-2016-correspondencias-esperadas-e-efetivadas-1-turno\n",
      "144 -> resultados-2018\n",
      "145 -> resultados-1970\n",
      "146 -> mesarios1-2020\n",
      "147 -> prestacao-de-contas-eleitorais-2008\n",
      "148 -> candidatos-1994\n",
      "149 -> delegados-partidarios\n",
      "150 -> resultados-1950\n",
      "151 -> candidatos-1978\n",
      "152 -> candidatos-1933\n",
      "153 -> prestacao-de-contas-eleitorais-2006\n",
      "154 -> resultados-2022-boletim-de-urna\n",
      "155 -> prestacao-de-contas-eleitorais-2002\n",
      "156 -> prestacao-de-contas-partidarias-2019\n",
      "157 -> resultados-2016\n",
      "158 -> prestacao-de-contas-eleitorais-2012\n",
      "159 -> prestacao-de-contas-partidarias-2024\n",
      "160 -> prestacao-de-contas-partidarias-2023\n"
     ]
    }
   ],
   "source": [
    "for i, dataset in enumerate(client.datasets):\n",
    "    print(f'{i} -> {dataset}')"
   ]
  },
  {
   "cell_type": "markdown",
   "metadata": {},
   "source": [
    "## Escolhendo os datasets:\n",
    "### eleitorado-2024\n",
    "- perfil_eleitor_secao_2024_RJ: informacoes sobre perfil dos eleitores por secao no RJ\n",
    "- eleitorado_local_votacao_2024: informacoes sobre locais de votacao\n",
    "\n",
    "### resultados-2024\n",
    "- votacao_secao_2024_RJ: informacoes sobre resultado das votacoes por secao no RJ\n"
   ]
  },
  {
   "cell_type": "code",
   "execution_count": 5,
   "metadata": {},
   "outputs": [],
   "source": [
    "data = {} # armazena dataframes das tabelas selecionadas"
   ]
  },
  {
   "cell_type": "markdown",
   "metadata": {},
   "source": [
    "- Dataset: perfil do eleitorado"
   ]
  },
  {
   "cell_type": "code",
   "execution_count": 6,
   "metadata": {},
   "outputs": [
    {
     "data": {
      "text/plain": [
       "{'https://cdn.tse.jus.br/estatistica/sead/odsele/perfil_eleitor_secao/perfil_eleitor_secao_2024_AC.zip'}"
      ]
     },
     "execution_count": 6,
     "metadata": {},
     "output_type": "execute_result"
    }
   ],
   "source": [
    "perfil_eleitorado = client.find_dataset(f'eleitorado-{ANO}', pattern=f'{ESTADO}')\n",
    "perfil_eleitorado"
   ]
  },
  {
   "cell_type": "markdown",
   "metadata": {},
   "source": [
    "- Dataset: locais de votacao (BRASIL)"
   ]
  },
  {
   "cell_type": "code",
   "execution_count": 7,
   "metadata": {},
   "outputs": [
    {
     "data": {
      "text/plain": [
       "{'https://cdn.tse.jus.br/estatistica/sead/odsele/eleitorado_locais_votacao/eleitorado_local_votacao_2024.zip'}"
      ]
     },
     "execution_count": 7,
     "metadata": {},
     "output_type": "execute_result"
    }
   ],
   "source": [
    "locais = client.find_dataset(f'eleitorado-{ANO}', pattern='local')\n",
    "locais"
   ]
  },
  {
   "cell_type": "markdown",
   "metadata": {},
   "source": [
    "- Dataset: resultados da votação RJ"
   ]
  },
  {
   "cell_type": "code",
   "execution_count": 8,
   "metadata": {},
   "outputs": [
    {
     "data": {
      "text/plain": [
       "{'https://cdn.tse.jus.br/estatistica/sead/odsele/relatorio_resultado_totalizacao/Relatorio_Resultado_Totalizacao_2024_AC.zip',\n",
       " 'https://cdn.tse.jus.br/estatistica/sead/odsele/votacao_secao/votacao_secao_2024_AC.zip'}"
      ]
     },
     "execution_count": 8,
     "metadata": {},
     "output_type": "execute_result"
    }
   ],
   "source": [
    "resultados = client.find_dataset(f'resultados-{ANO}', pattern=f'{ESTADO}')\n",
    "resultados"
   ]
  },
  {
   "cell_type": "markdown",
   "metadata": {},
   "source": [
    "- Download e carregamento de cada dataset em um dataframe"
   ]
  },
  {
   "cell_type": "code",
   "execution_count": 9,
   "metadata": {},
   "outputs": [
    {
     "name": "stdout",
     "output_type": "stream",
     "text": [
      "Files downloaded to data\\perfil_eleitor_secao_2024_AC\n"
     ]
    }
   ],
   "source": [
    "data.update(\n",
    "    client.load_data_from_dirs(\n",
    "        client.download_datasets(perfil_eleitorado)\n",
    "    )\n",
    ")"
   ]
  },
  {
   "cell_type": "code",
   "execution_count": 10,
   "metadata": {},
   "outputs": [
    {
     "name": "stdout",
     "output_type": "stream",
     "text": [
      "Files downloaded to data\\eleitorado_local_votacao_2024\n"
     ]
    }
   ],
   "source": [
    "data.update(\n",
    "    client.load_data_from_dirs(\n",
    "        client.download_datasets(locais)\n",
    "    )\n",
    ")"
   ]
  },
  {
   "cell_type": "code",
   "execution_count": 11,
   "metadata": {},
   "outputs": [
    {
     "name": "stdout",
     "output_type": "stream",
     "text": [
      "Files downloaded to data\\Relatorio_Resultado_Totalizacao_2024_AC\n",
      "Files downloaded to data\\votacao_secao_2024_AC\n"
     ]
    }
   ],
   "source": [
    "data.update(\n",
    "    client.load_data_from_dirs(\n",
    "        client.download_datasets(resultados)\n",
    "    )\n",
    ")"
   ]
  },
  {
   "cell_type": "code",
   "execution_count": 12,
   "metadata": {},
   "outputs": [
    {
     "data": {
      "text/plain": [
       "dict_keys(['perfil_eleitor_secao_2024_AC', 'eleitorado_local_votacao_2024', 'votacao_secao_2024_AC'])"
      ]
     },
     "execution_count": 12,
     "metadata": {},
     "output_type": "execute_result"
    }
   ],
   "source": [
    "data.keys()"
   ]
  },
  {
   "cell_type": "markdown",
   "metadata": {},
   "source": [
    "- Limpeza de algumas colunas"
   ]
  },
  {
   "cell_type": "code",
   "execution_count": 13,
   "metadata": {},
   "outputs": [],
   "source": [
    "resultados_df = data.get(f'votacao_secao_{ANO}_{ESTADO}')"
   ]
  },
  {
   "cell_type": "code",
   "execution_count": 14,
   "metadata": {},
   "outputs": [
    {
     "data": {
      "text/plain": [
       "Index(['DT_GERACAO', 'HH_GERACAO', 'ANO_ELEICAO', 'CD_TIPO_ELEICAO',\n",
       "       'NM_TIPO_ELEICAO', 'NR_TURNO', 'CD_ELEICAO', 'DS_ELEICAO', 'DT_ELEICAO',\n",
       "       'TP_ABRANGENCIA', 'SG_UF', 'SG_UE', 'NM_UE', 'CD_MUNICIPIO',\n",
       "       'NM_MUNICIPIO', 'NR_ZONA', 'NR_SECAO', 'CD_CARGO', 'DS_CARGO',\n",
       "       'NR_VOTAVEL', 'NM_VOTAVEL', 'QT_VOTOS', 'NR_LOCAL_VOTACAO',\n",
       "       'SQ_CANDIDATO', 'NM_LOCAL_VOTACAO', 'DS_LOCAL_VOTACAO_ENDERECO'],\n",
       "      dtype='object')"
      ]
     },
     "execution_count": 14,
     "metadata": {},
     "output_type": "execute_result"
    }
   ],
   "source": [
    "resultados_df.columns"
   ]
  },
  {
   "cell_type": "code",
   "execution_count": 15,
   "metadata": {},
   "outputs": [],
   "source": [
    "resultados_columns = [\n",
    "    'ANO_ELEICAO',\n",
    "    'SG_UF',\n",
    "    'CD_MUNICIPIO',\n",
    "    'NR_ZONA', \n",
    "    'NR_LOCAL_VOTACAO',\n",
    "    'NR_SECAO', \n",
    "    'NR_TURNO', \n",
    "    'CD_CARGO', \n",
    "    'DS_CARGO',\n",
    "    'NR_VOTAVEL',\n",
    "    'NM_VOTAVEL',\n",
    "    'QT_VOTOS'\n",
    "]\n",
    "resultados_df = resultados_df[resultados_columns]"
   ]
  },
  {
   "cell_type": "code",
   "execution_count": 16,
   "metadata": {},
   "outputs": [
    {
     "data": {
      "text/html": [
       "<div>\n",
       "<style scoped>\n",
       "    .dataframe tbody tr th:only-of-type {\n",
       "        vertical-align: middle;\n",
       "    }\n",
       "\n",
       "    .dataframe tbody tr th {\n",
       "        vertical-align: top;\n",
       "    }\n",
       "\n",
       "    .dataframe thead th {\n",
       "        text-align: right;\n",
       "    }\n",
       "</style>\n",
       "<table border=\"1\" class=\"dataframe\">\n",
       "  <thead>\n",
       "    <tr style=\"text-align: right;\">\n",
       "      <th></th>\n",
       "      <th>ANO_ELEICAO</th>\n",
       "      <th>SG_UF</th>\n",
       "      <th>CD_MUNICIPIO</th>\n",
       "      <th>NR_ZONA</th>\n",
       "      <th>NR_LOCAL_VOTACAO</th>\n",
       "      <th>NR_SECAO</th>\n",
       "      <th>NR_TURNO</th>\n",
       "      <th>CD_CARGO</th>\n",
       "      <th>DS_CARGO</th>\n",
       "      <th>NR_VOTAVEL</th>\n",
       "      <th>NM_VOTAVEL</th>\n",
       "      <th>QT_VOTOS</th>\n",
       "    </tr>\n",
       "  </thead>\n",
       "  <tbody>\n",
       "    <tr>\n",
       "      <th>0</th>\n",
       "      <td>2024</td>\n",
       "      <td>AC</td>\n",
       "      <td>1473</td>\n",
       "      <td>5</td>\n",
       "      <td>1074</td>\n",
       "      <td>4</td>\n",
       "      <td>1</td>\n",
       "      <td>13</td>\n",
       "      <td>Vereador</td>\n",
       "      <td>10789</td>\n",
       "      <td>HERIVELTO ALVES FONTENELE</td>\n",
       "      <td>1</td>\n",
       "    </tr>\n",
       "    <tr>\n",
       "      <th>1</th>\n",
       "      <td>2024</td>\n",
       "      <td>AC</td>\n",
       "      <td>1538</td>\n",
       "      <td>8</td>\n",
       "      <td>1171</td>\n",
       "      <td>70</td>\n",
       "      <td>1</td>\n",
       "      <td>13</td>\n",
       "      <td>Vereador</td>\n",
       "      <td>11456</td>\n",
       "      <td>ADÃO LEITE MARTINS</td>\n",
       "      <td>4</td>\n",
       "    </tr>\n",
       "    <tr>\n",
       "      <th>2</th>\n",
       "      <td>2024</td>\n",
       "      <td>AC</td>\n",
       "      <td>1473</td>\n",
       "      <td>5</td>\n",
       "      <td>1171</td>\n",
       "      <td>9</td>\n",
       "      <td>1</td>\n",
       "      <td>13</td>\n",
       "      <td>Vereador</td>\n",
       "      <td>10001</td>\n",
       "      <td>FRANCISCO DAS CHAGAS PEREIRA DE ALMEIDA</td>\n",
       "      <td>3</td>\n",
       "    </tr>\n",
       "    <tr>\n",
       "      <th>3</th>\n",
       "      <td>2024</td>\n",
       "      <td>AC</td>\n",
       "      <td>1538</td>\n",
       "      <td>8</td>\n",
       "      <td>1333</td>\n",
       "      <td>49</td>\n",
       "      <td>1</td>\n",
       "      <td>13</td>\n",
       "      <td>Vereador</td>\n",
       "      <td>10222</td>\n",
       "      <td>RONNEI NASCIMENTO DE OLIVEIRA</td>\n",
       "      <td>8</td>\n",
       "    </tr>\n",
       "    <tr>\n",
       "      <th>4</th>\n",
       "      <td>2024</td>\n",
       "      <td>AC</td>\n",
       "      <td>1538</td>\n",
       "      <td>8</td>\n",
       "      <td>1155</td>\n",
       "      <td>241</td>\n",
       "      <td>1</td>\n",
       "      <td>13</td>\n",
       "      <td>Vereador</td>\n",
       "      <td>10222</td>\n",
       "      <td>RONNEI NASCIMENTO DE OLIVEIRA</td>\n",
       "      <td>5</td>\n",
       "    </tr>\n",
       "  </tbody>\n",
       "</table>\n",
       "</div>"
      ],
      "text/plain": [
       "   ANO_ELEICAO SG_UF  CD_MUNICIPIO  NR_ZONA  NR_LOCAL_VOTACAO  NR_SECAO  \\\n",
       "0         2024    AC          1473        5              1074         4   \n",
       "1         2024    AC          1538        8              1171        70   \n",
       "2         2024    AC          1473        5              1171         9   \n",
       "3         2024    AC          1538        8              1333        49   \n",
       "4         2024    AC          1538        8              1155       241   \n",
       "\n",
       "   NR_TURNO  CD_CARGO  DS_CARGO  NR_VOTAVEL  \\\n",
       "0         1        13  Vereador       10789   \n",
       "1         1        13  Vereador       11456   \n",
       "2         1        13  Vereador       10001   \n",
       "3         1        13  Vereador       10222   \n",
       "4         1        13  Vereador       10222   \n",
       "\n",
       "                                NM_VOTAVEL  QT_VOTOS  \n",
       "0                HERIVELTO ALVES FONTENELE         1  \n",
       "1                       ADÃO LEITE MARTINS         4  \n",
       "2  FRANCISCO DAS CHAGAS PEREIRA DE ALMEIDA         3  \n",
       "3            RONNEI NASCIMENTO DE OLIVEIRA         8  \n",
       "4            RONNEI NASCIMENTO DE OLIVEIRA         5  "
      ]
     },
     "execution_count": 16,
     "metadata": {},
     "output_type": "execute_result"
    }
   ],
   "source": [
    "resultados_df.head()"
   ]
  },
  {
   "cell_type": "markdown",
   "metadata": {},
   "source": [
    "- Limpeza de algumas colunas"
   ]
  },
  {
   "cell_type": "code",
   "execution_count": 17,
   "metadata": {},
   "outputs": [],
   "source": [
    "locais_df = data.get(f'eleitorado_local_votacao_{ANO}')"
   ]
  },
  {
   "cell_type": "code",
   "execution_count": 18,
   "metadata": {},
   "outputs": [
    {
     "data": {
      "text/plain": [
       "Index(['DT_GERACAO', 'HH_GERACAO', 'AA_ELEICAO', 'DT_ELEICAO', 'DS_ELEICAO',\n",
       "       'NR_TURNO', 'SG_UF', 'CD_MUNICIPIO', 'NM_MUNICIPIO', 'NR_ZONA',\n",
       "       'NR_SECAO', 'CD_TIPO_SECAO_AGREGADA', 'DS_TIPO_SECAO_AGREGADA',\n",
       "       'NR_SECAO_PRINCIPAL', 'NR_LOCAL_VOTACAO', 'NM_LOCAL_VOTACAO',\n",
       "       'CD_TIPO_LOCAL', 'DS_TIPO_LOCAL', 'DS_ENDERECO', 'NM_BAIRRO', 'NR_CEP',\n",
       "       'NR_TELEFONE_LOCAL', 'NR_LATITUDE', 'NR_LONGITUDE',\n",
       "       'CD_SITU_LOCAL_VOTACAO', 'DS_SITU_LOCAL_VOTACAO', 'CD_SITU_ZONA',\n",
       "       'DS_SITU_ZONA', 'CD_SITU_SECAO', 'DS_SITU_SECAO', 'CD_SITU_LOCALIDADE',\n",
       "       'DS_SITU_LOCALIDADE', 'CD_SITU_SECAO_ACESSIBILIDADE',\n",
       "       'DS_SITU_SECAO_ACESSIBILIDADE', 'QT_ELEITOR_SECAO',\n",
       "       'QT_ELEITOR_ELEICAO_FEDERAL', 'QT_ELEITOR_ELEICAO_ESTADUAL',\n",
       "       'QT_ELEITOR_ELEICAO_MUNICIPAL', 'NR_LOCAL_VOTACAO_ORIGINAL',\n",
       "       'NM_LOCAL_VOTACAO_ORIGINAL', 'DS_ENDERECO_LOCVT_ORIGINAL'],\n",
       "      dtype='object')"
      ]
     },
     "execution_count": 18,
     "metadata": {},
     "output_type": "execute_result"
    }
   ],
   "source": [
    "locais_df.columns"
   ]
  },
  {
   "cell_type": "code",
   "execution_count": 19,
   "metadata": {},
   "outputs": [],
   "source": [
    "locais_columns = [\n",
    "    'AA_ELEICAO',\n",
    "    'SG_UF',\n",
    "    'CD_MUNICIPIO',\n",
    "    'NR_ZONA', \n",
    "    'NR_LOCAL_VOTACAO',\n",
    "    'NR_SECAO',\n",
    "    'NM_MUNICIPIO',\n",
    "    'NM_BAIRRO',\n",
    "    'NR_LATITUDE',\n",
    "    'NR_LONGITUDE',\n",
    "    'QT_ELEITOR_SECAO'\n",
    "]\n",
    "locais_df = locais_df[locais_columns]"
   ]
  },
  {
   "cell_type": "code",
   "execution_count": 20,
   "metadata": {},
   "outputs": [
    {
     "data": {
      "text/html": [
       "<div>\n",
       "<style scoped>\n",
       "    .dataframe tbody tr th:only-of-type {\n",
       "        vertical-align: middle;\n",
       "    }\n",
       "\n",
       "    .dataframe tbody tr th {\n",
       "        vertical-align: top;\n",
       "    }\n",
       "\n",
       "    .dataframe thead th {\n",
       "        text-align: right;\n",
       "    }\n",
       "</style>\n",
       "<table border=\"1\" class=\"dataframe\">\n",
       "  <thead>\n",
       "    <tr style=\"text-align: right;\">\n",
       "      <th></th>\n",
       "      <th>AA_ELEICAO</th>\n",
       "      <th>SG_UF</th>\n",
       "      <th>CD_MUNICIPIO</th>\n",
       "      <th>NR_ZONA</th>\n",
       "      <th>NR_LOCAL_VOTACAO</th>\n",
       "      <th>NR_SECAO</th>\n",
       "      <th>NM_MUNICIPIO</th>\n",
       "      <th>NM_BAIRRO</th>\n",
       "      <th>NR_LATITUDE</th>\n",
       "      <th>NR_LONGITUDE</th>\n",
       "      <th>QT_ELEITOR_SECAO</th>\n",
       "    </tr>\n",
       "  </thead>\n",
       "  <tbody>\n",
       "    <tr>\n",
       "      <th>0</th>\n",
       "      <td>2024</td>\n",
       "      <td>BA</td>\n",
       "      <td>39730</td>\n",
       "      <td>104</td>\n",
       "      <td>1147</td>\n",
       "      <td>62</td>\n",
       "      <td>LAPÃO</td>\n",
       "      <td>POVOADO DE CASAL I</td>\n",
       "      <td>-11.516413</td>\n",
       "      <td>-41.802394</td>\n",
       "      <td>262</td>\n",
       "    </tr>\n",
       "    <tr>\n",
       "      <th>1</th>\n",
       "      <td>2024</td>\n",
       "      <td>BA</td>\n",
       "      <td>39730</td>\n",
       "      <td>104</td>\n",
       "      <td>1457</td>\n",
       "      <td>181</td>\n",
       "      <td>LAPÃO</td>\n",
       "      <td>CENTRO</td>\n",
       "      <td>-11.379024</td>\n",
       "      <td>-41.835959</td>\n",
       "      <td>307</td>\n",
       "    </tr>\n",
       "    <tr>\n",
       "      <th>2</th>\n",
       "      <td>2024</td>\n",
       "      <td>SC</td>\n",
       "      <td>83798</td>\n",
       "      <td>36</td>\n",
       "      <td>1147</td>\n",
       "      <td>103</td>\n",
       "      <td>VIDEIRA</td>\n",
       "      <td>UNIVERSITÁRIO</td>\n",
       "      <td>-26.992234</td>\n",
       "      <td>-51.176671</td>\n",
       "      <td>388</td>\n",
       "    </tr>\n",
       "    <tr>\n",
       "      <th>3</th>\n",
       "      <td>2024</td>\n",
       "      <td>SC</td>\n",
       "      <td>83798</td>\n",
       "      <td>36</td>\n",
       "      <td>1015</td>\n",
       "      <td>95</td>\n",
       "      <td>VIDEIRA</td>\n",
       "      <td>CENTRO</td>\n",
       "      <td>-27.002251</td>\n",
       "      <td>-51.157982</td>\n",
       "      <td>271</td>\n",
       "    </tr>\n",
       "    <tr>\n",
       "      <th>4</th>\n",
       "      <td>2024</td>\n",
       "      <td>SP</td>\n",
       "      <td>72451</td>\n",
       "      <td>147</td>\n",
       "      <td>1074</td>\n",
       "      <td>178</td>\n",
       "      <td>VOTUPORANGA</td>\n",
       "      <td>VILA PAES</td>\n",
       "      <td>-20.414684</td>\n",
       "      <td>-49.971817</td>\n",
       "      <td>250</td>\n",
       "    </tr>\n",
       "  </tbody>\n",
       "</table>\n",
       "</div>"
      ],
      "text/plain": [
       "   AA_ELEICAO SG_UF  CD_MUNICIPIO  NR_ZONA  NR_LOCAL_VOTACAO  NR_SECAO  \\\n",
       "0        2024    BA         39730      104              1147        62   \n",
       "1        2024    BA         39730      104              1457       181   \n",
       "2        2024    SC         83798       36              1147       103   \n",
       "3        2024    SC         83798       36              1015        95   \n",
       "4        2024    SP         72451      147              1074       178   \n",
       "\n",
       "  NM_MUNICIPIO           NM_BAIRRO  NR_LATITUDE  NR_LONGITUDE  \\\n",
       "0        LAPÃO  POVOADO DE CASAL I   -11.516413    -41.802394   \n",
       "1        LAPÃO              CENTRO   -11.379024    -41.835959   \n",
       "2      VIDEIRA       UNIVERSITÁRIO   -26.992234    -51.176671   \n",
       "3      VIDEIRA              CENTRO   -27.002251    -51.157982   \n",
       "4  VOTUPORANGA           VILA PAES   -20.414684    -49.971817   \n",
       "\n",
       "   QT_ELEITOR_SECAO  \n",
       "0               262  \n",
       "1               307  \n",
       "2               388  \n",
       "3               271  \n",
       "4               250  "
      ]
     },
     "execution_count": 20,
     "metadata": {},
     "output_type": "execute_result"
    }
   ],
   "source": [
    "locais_df.head()"
   ]
  },
  {
   "cell_type": "markdown",
   "metadata": {},
   "source": [
    "- Limpeza de algumas colunas"
   ]
  },
  {
   "cell_type": "code",
   "execution_count": 21,
   "metadata": {},
   "outputs": [],
   "source": [
    "perfil_df = data.get(f'perfil_eleitor_secao_{ANO}_{ESTADO}')"
   ]
  },
  {
   "cell_type": "code",
   "execution_count": 22,
   "metadata": {},
   "outputs": [
    {
     "data": {
      "text/plain": [
       "Index(['DT_GERACAO', 'HH_GERACAO', 'ANO_ELEICAO', 'SG_UF', 'CD_MUNICIPIO',\n",
       "       'NM_MUNICIPIO', 'NR_ZONA', 'NR_SECAO', 'NR_LOCAL_VOTACAO',\n",
       "       'NM_LOCAL_VOTACAO', 'CD_GENERO', 'DS_GENERO', 'CD_ESTADO_CIVIL',\n",
       "       'DS_ESTADO_CIVIL', 'CD_FAIXA_ETARIA', 'DS_FAIXA_ETARIA',\n",
       "       'CD_GRAU_ESCOLARIDADE', 'DS_GRAU_ESCOLARIDADE', 'CD_RACA_COR',\n",
       "       'DS_RACA_COR', 'CD_IDENTIDADE_GENERO', 'DS_IDENTIDADE_GENERO',\n",
       "       'CD_QUILOMBOLA', 'DS_QUILOMBOLA', 'CD_INTERPRETE_LIBRAS',\n",
       "       'DS_INTERPRETE_LIBRAS', 'QT_ELEITORES_PERFIL', 'QT_ELEITORES_BIOMETRIA',\n",
       "       'QT_ELEITORES_DEFICIENCIA', 'QT_ELEITORES_INC_NM_SOCIAL'],\n",
       "      dtype='object')"
      ]
     },
     "execution_count": 22,
     "metadata": {},
     "output_type": "execute_result"
    }
   ],
   "source": [
    "perfil_df.columns"
   ]
  },
  {
   "cell_type": "code",
   "execution_count": 23,
   "metadata": {},
   "outputs": [],
   "source": [
    "perfil_columns = [\n",
    "    'ANO_ELEICAO',\n",
    "    'DT_GERACAO',\n",
    "    'HH_GERACAO',\n",
    "    'SG_UF',\n",
    "    'CD_MUNICIPIO',\n",
    "    'NR_ZONA', \n",
    "    'NR_LOCAL_VOTACAO',\n",
    "    'NR_SECAO', \n",
    "    'DS_GENERO', \n",
    "    'DS_ESTADO_CIVIL',\n",
    "    'DS_FAIXA_ETARIA',\n",
    "    'DS_GRAU_ESCOLARIDADE',\n",
    "    'DS_RACA_COR',\n",
    "    'QT_ELEITORES_PERFIL'   \n",
    "]\n",
    "perfil_df = perfil_df[perfil_columns]"
   ]
  },
  {
   "cell_type": "code",
   "execution_count": 24,
   "metadata": {},
   "outputs": [
    {
     "data": {
      "text/html": [
       "<div>\n",
       "<style scoped>\n",
       "    .dataframe tbody tr th:only-of-type {\n",
       "        vertical-align: middle;\n",
       "    }\n",
       "\n",
       "    .dataframe tbody tr th {\n",
       "        vertical-align: top;\n",
       "    }\n",
       "\n",
       "    .dataframe thead th {\n",
       "        text-align: right;\n",
       "    }\n",
       "</style>\n",
       "<table border=\"1\" class=\"dataframe\">\n",
       "  <thead>\n",
       "    <tr style=\"text-align: right;\">\n",
       "      <th></th>\n",
       "      <th>ANO_ELEICAO</th>\n",
       "      <th>DT_GERACAO</th>\n",
       "      <th>HH_GERACAO</th>\n",
       "      <th>SG_UF</th>\n",
       "      <th>CD_MUNICIPIO</th>\n",
       "      <th>NR_ZONA</th>\n",
       "      <th>NR_LOCAL_VOTACAO</th>\n",
       "      <th>NR_SECAO</th>\n",
       "      <th>DS_GENERO</th>\n",
       "      <th>DS_ESTADO_CIVIL</th>\n",
       "      <th>DS_FAIXA_ETARIA</th>\n",
       "      <th>DS_GRAU_ESCOLARIDADE</th>\n",
       "      <th>DS_RACA_COR</th>\n",
       "      <th>QT_ELEITORES_PERFIL</th>\n",
       "    </tr>\n",
       "  </thead>\n",
       "  <tbody>\n",
       "    <tr>\n",
       "      <th>0</th>\n",
       "      <td>2024</td>\n",
       "      <td>13/09/2024</td>\n",
       "      <td>11:09:55</td>\n",
       "      <td>AC</td>\n",
       "      <td>1538</td>\n",
       "      <td>8</td>\n",
       "      <td>1015</td>\n",
       "      <td>25</td>\n",
       "      <td>FEMININO</td>\n",
       "      <td>SOLTEIRO</td>\n",
       "      <td>45 a 49 anos</td>\n",
       "      <td>ENSINO FUNDAMENTAL COMPLETO</td>\n",
       "      <td>NÃO INFORMADO</td>\n",
       "      <td>1</td>\n",
       "    </tr>\n",
       "    <tr>\n",
       "      <th>1</th>\n",
       "      <td>2024</td>\n",
       "      <td>13/09/2024</td>\n",
       "      <td>11:09:55</td>\n",
       "      <td>AC</td>\n",
       "      <td>1392</td>\n",
       "      <td>9</td>\n",
       "      <td>1937</td>\n",
       "      <td>316</td>\n",
       "      <td>MASCULINO</td>\n",
       "      <td>CASADO</td>\n",
       "      <td>50 a 54 anos</td>\n",
       "      <td>ENSINO MÉDIO INCOMPLETO</td>\n",
       "      <td>NÃO INFORMADO</td>\n",
       "      <td>1</td>\n",
       "    </tr>\n",
       "    <tr>\n",
       "      <th>2</th>\n",
       "      <td>2024</td>\n",
       "      <td>13/09/2024</td>\n",
       "      <td>11:09:55</td>\n",
       "      <td>AC</td>\n",
       "      <td>1392</td>\n",
       "      <td>1</td>\n",
       "      <td>3379</td>\n",
       "      <td>674</td>\n",
       "      <td>MASCULINO</td>\n",
       "      <td>SOLTEIRO</td>\n",
       "      <td>45 a 49 anos</td>\n",
       "      <td>ENSINO MÉDIO INCOMPLETO</td>\n",
       "      <td>NÃO INFORMADO</td>\n",
       "      <td>1</td>\n",
       "    </tr>\n",
       "    <tr>\n",
       "      <th>3</th>\n",
       "      <td>2024</td>\n",
       "      <td>13/09/2024</td>\n",
       "      <td>11:09:55</td>\n",
       "      <td>AC</td>\n",
       "      <td>1139</td>\n",
       "      <td>7</td>\n",
       "      <td>1210</td>\n",
       "      <td>65</td>\n",
       "      <td>FEMININO</td>\n",
       "      <td>VIÚVO</td>\n",
       "      <td>45 a 49 anos</td>\n",
       "      <td>ANALFABETO</td>\n",
       "      <td>NÃO INFORMADO</td>\n",
       "      <td>1</td>\n",
       "    </tr>\n",
       "    <tr>\n",
       "      <th>4</th>\n",
       "      <td>2024</td>\n",
       "      <td>13/09/2024</td>\n",
       "      <td>11:09:55</td>\n",
       "      <td>AC</td>\n",
       "      <td>1392</td>\n",
       "      <td>1</td>\n",
       "      <td>2798</td>\n",
       "      <td>486</td>\n",
       "      <td>MASCULINO</td>\n",
       "      <td>SOLTEIRO</td>\n",
       "      <td>45 a 49 anos</td>\n",
       "      <td>ENSINO MÉDIO COMPLETO</td>\n",
       "      <td>NÃO INFORMADO</td>\n",
       "      <td>1</td>\n",
       "    </tr>\n",
       "  </tbody>\n",
       "</table>\n",
       "</div>"
      ],
      "text/plain": [
       "   ANO_ELEICAO  DT_GERACAO HH_GERACAO SG_UF  CD_MUNICIPIO  NR_ZONA  \\\n",
       "0         2024  13/09/2024   11:09:55    AC          1538        8   \n",
       "1         2024  13/09/2024   11:09:55    AC          1392        9   \n",
       "2         2024  13/09/2024   11:09:55    AC          1392        1   \n",
       "3         2024  13/09/2024   11:09:55    AC          1139        7   \n",
       "4         2024  13/09/2024   11:09:55    AC          1392        1   \n",
       "\n",
       "   NR_LOCAL_VOTACAO  NR_SECAO  DS_GENERO DS_ESTADO_CIVIL DS_FAIXA_ETARIA  \\\n",
       "0              1015        25   FEMININO        SOLTEIRO    45 a 49 anos   \n",
       "1              1937       316  MASCULINO          CASADO    50 a 54 anos   \n",
       "2              3379       674  MASCULINO        SOLTEIRO    45 a 49 anos   \n",
       "3              1210        65   FEMININO           VIÚVO    45 a 49 anos   \n",
       "4              2798       486  MASCULINO        SOLTEIRO    45 a 49 anos   \n",
       "\n",
       "          DS_GRAU_ESCOLARIDADE    DS_RACA_COR  QT_ELEITORES_PERFIL  \n",
       "0  ENSINO FUNDAMENTAL COMPLETO  NÃO INFORMADO                    1  \n",
       "1      ENSINO MÉDIO INCOMPLETO  NÃO INFORMADO                    1  \n",
       "2      ENSINO MÉDIO INCOMPLETO  NÃO INFORMADO                    1  \n",
       "3                   ANALFABETO  NÃO INFORMADO                    1  \n",
       "4        ENSINO MÉDIO COMPLETO  NÃO INFORMADO                    1  "
      ]
     },
     "execution_count": 24,
     "metadata": {},
     "output_type": "execute_result"
    }
   ],
   "source": [
    "perfil_df.head()"
   ]
  },
  {
   "cell_type": "markdown",
   "metadata": {},
   "source": [
    "- Finalmente: conversão para SQL database"
   ]
  },
  {
   "cell_type": "code",
   "execution_count": 25,
   "metadata": {},
   "outputs": [
    {
     "name": "stdout",
     "output_type": "stream",
     "text": [
      "Tabela \"locais\" foi criada no banco de dados \"databases\\eleicoes_2024.sql\".\n",
      "Tabela \"resultados\" foi criada no banco de dados \"databases\\ac_2024.sql\".\n",
      "Tabela \"eleitorado\" foi criada no banco de dados \"databases\\ac_2024.sql\".\n"
     ]
    },
    {
     "data": {
      "text/plain": [
       "'eleitorado'"
      ]
     },
     "execution_count": 25,
     "metadata": {},
     "output_type": "execute_result"
    }
   ],
   "source": [
    "df_to_sql(\n",
    "    df=locais_df, \n",
    "    table_name=f'locais', \n",
    "    dbname=f'eleicoes_{ANO}.sql')\n",
    "\n",
    "df_to_sql(\n",
    "    df=resultados_df,\n",
    "    table_name='resultados',\n",
    "    dbname=f'{ESTADO.lower()}_{ANO}.sql')\n",
    "\n",
    "df_to_sql(\n",
    "    df=perfil_df,\n",
    "    table_name='eleitorado',\n",
    "    dbname=f'{ESTADO.lower()}_{ANO}.sql')"
   ]
  },
  {
   "cell_type": "code",
   "execution_count": 26,
   "metadata": {},
   "outputs": [
    {
     "name": "stdout",
     "output_type": "stream",
     "text": [
      "Tabelas no banco de dados:\n",
      "- resultados\n",
      "- eleitorado\n"
     ]
    },
    {
     "data": {
      "text/plain": [
       "['resultados', 'eleitorado']"
      ]
     },
     "execution_count": 26,
     "metadata": {},
     "output_type": "execute_result"
    }
   ],
   "source": [
    "listar_tabelas(f'databases/{ESTADO.lower()}_{ANO}.sql')"
   ]
  },
  {
   "cell_type": "code",
   "execution_count": 27,
   "metadata": {},
   "outputs": [
    {
     "name": "stdout",
     "output_type": "stream",
     "text": [
      "Tabelas no banco de dados:\n",
      "- locais\n"
     ]
    },
    {
     "data": {
      "text/plain": [
       "['locais']"
      ]
     },
     "execution_count": 27,
     "metadata": {},
     "output_type": "execute_result"
    }
   ],
   "source": [
    "listar_tabelas(f'databases/eleicoes_{ANO}.sql')"
   ]
  },
  {
   "cell_type": "markdown",
   "metadata": {},
   "source": [
    "- Removendo arquivos temporários"
   ]
  },
  {
   "cell_type": "code",
   "execution_count": 28,
   "metadata": {},
   "outputs": [
    {
     "data": {
      "text/plain": [
       "'Diretório data esvaziado'"
      ]
     },
     "execution_count": 28,
     "metadata": {},
     "output_type": "execute_result"
    }
   ],
   "source": [
    "TseClient.remove_data()"
   ]
  }
 ],
 "metadata": {
  "kernelspec": {
   "display_name": "Python 3",
   "language": "python",
   "name": "python3"
  },
  "language_info": {
   "codemirror_mode": {
    "name": "ipython",
    "version": 3
   },
   "file_extension": ".py",
   "mimetype": "text/x-python",
   "name": "python",
   "nbconvert_exporter": "python",
   "pygments_lexer": "ipython3",
   "version": "3.12.8"
  }
 },
 "nbformat": 4,
 "nbformat_minor": 2
}

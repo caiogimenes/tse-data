{
 "cells": [
  {
   "cell_type": "code",
   "execution_count": 49,
   "metadata": {},
   "outputs": [],
   "source": [
    "from pathlib import Path\n",
    "\n",
    "root = Path().resolve().parent #.parent attr caso o arquivo nao esteja na raiz do projeto"
   ]
  },
  {
   "cell_type": "code",
   "execution_count": 50,
   "metadata": {},
   "outputs": [],
   "source": [
    "# Adicionando src/ ao projeto\n",
    "import sys\n",
    "import os\n",
    "\n",
    "src_path = os.path.join(root, 'src')\n",
    "sys.path.append(src_path)"
   ]
  },
  {
   "cell_type": "code",
   "execution_count": 51,
   "metadata": {},
   "outputs": [],
   "source": [
    "# Importando configurações do projeto\n",
    "import yaml\n",
    "\n",
    "config_path = root.joinpath('config/config.yaml')\n",
    "\n",
    "def load_config(file_path):\n",
    "    with open(file_path, 'r') as file:\n",
    "        return yaml.safe_load(file)\n",
    "        \n",
    "config = load_config(config_path)"
   ]
  },
  {
   "cell_type": "code",
   "execution_count": 5,
   "metadata": {},
   "outputs": [],
   "source": [
    "import numpy as np\n",
    "import pandas as pd\n",
    "import re"
   ]
  },
  {
   "cell_type": "code",
   "execution_count": 7,
   "metadata": {},
   "outputs": [],
   "source": [
    "filename = 'EDUARDO_DA_COSTA_PAES.csv'\n",
    "file_path = f'{config['paths']['processed_data']}/{filename}'"
   ]
  },
  {
   "cell_type": "code",
   "execution_count": 55,
   "metadata": {},
   "outputs": [],
   "source": [
    "data = pd.read_csv(file_path, index_col=0)\n",
    "name = file_path.split(r'/')[3].split('.')[0]"
   ]
  },
  {
   "cell_type": "code",
   "execution_count": 9,
   "metadata": {},
   "outputs": [
    {
     "data": {
      "text/html": [
       "<div>\n",
       "<style scoped>\n",
       "    .dataframe tbody tr th:only-of-type {\n",
       "        vertical-align: middle;\n",
       "    }\n",
       "\n",
       "    .dataframe tbody tr th {\n",
       "        vertical-align: top;\n",
       "    }\n",
       "\n",
       "    .dataframe thead th {\n",
       "        text-align: right;\n",
       "    }\n",
       "</style>\n",
       "<table border=\"1\" class=\"dataframe\">\n",
       "  <thead>\n",
       "    <tr style=\"text-align: right;\">\n",
       "      <th></th>\n",
       "      <th>candidato</th>\n",
       "      <th>municipio</th>\n",
       "      <th>local</th>\n",
       "      <th>zona</th>\n",
       "      <th>secao</th>\n",
       "      <th>turno</th>\n",
       "      <th>votos_recebidos</th>\n",
       "      <th>ds_grau_escolaridade_ensino_médio_incompleto</th>\n",
       "      <th>ds_grau_escolaridade_superior_completo</th>\n",
       "      <th>ds_grau_escolaridade_ensino_fundamental_incompleto</th>\n",
       "      <th>...</th>\n",
       "      <th>ds_faixa_etaria_100_anos_ou_mais</th>\n",
       "      <th>ds_faixa_etaria_95_a_99_anos</th>\n",
       "      <th>ds_faixa_etaria_17_anos</th>\n",
       "      <th>ds_faixa_etaria_16_anos</th>\n",
       "      <th>ds_faixa_etaria_inválida</th>\n",
       "      <th>ds_genero_feminino</th>\n",
       "      <th>ds_genero_masculino</th>\n",
       "      <th>ds_genero_não_informado</th>\n",
       "      <th>eleitores_totais</th>\n",
       "      <th>percentual_votos</th>\n",
       "    </tr>\n",
       "  </thead>\n",
       "  <tbody>\n",
       "    <tr>\n",
       "      <th>0</th>\n",
       "      <td>EDUARDO DA COSTA PAES</td>\n",
       "      <td>60011</td>\n",
       "      <td>1317</td>\n",
       "      <td>245</td>\n",
       "      <td>254</td>\n",
       "      <td>1</td>\n",
       "      <td>170</td>\n",
       "      <td>90</td>\n",
       "      <td>38</td>\n",
       "      <td>60</td>\n",
       "      <td>...</td>\n",
       "      <td>8</td>\n",
       "      <td>10</td>\n",
       "      <td>0</td>\n",
       "      <td>1</td>\n",
       "      <td>0</td>\n",
       "      <td>263</td>\n",
       "      <td>194</td>\n",
       "      <td>2</td>\n",
       "      <td>459</td>\n",
       "      <td>0.370370</td>\n",
       "    </tr>\n",
       "    <tr>\n",
       "      <th>1</th>\n",
       "      <td>EDUARDO DA COSTA PAES</td>\n",
       "      <td>60011</td>\n",
       "      <td>1341</td>\n",
       "      <td>123</td>\n",
       "      <td>262</td>\n",
       "      <td>1</td>\n",
       "      <td>155</td>\n",
       "      <td>70</td>\n",
       "      <td>18</td>\n",
       "      <td>100</td>\n",
       "      <td>...</td>\n",
       "      <td>10</td>\n",
       "      <td>11</td>\n",
       "      <td>0</td>\n",
       "      <td>0</td>\n",
       "      <td>0</td>\n",
       "      <td>239</td>\n",
       "      <td>186</td>\n",
       "      <td>0</td>\n",
       "      <td>425</td>\n",
       "      <td>0.364706</td>\n",
       "    </tr>\n",
       "  </tbody>\n",
       "</table>\n",
       "<p>2 rows × 50 columns</p>\n",
       "</div>"
      ],
      "text/plain": [
       "               candidato  municipio  local  zona  secao  turno  \\\n",
       "0  EDUARDO DA COSTA PAES      60011   1317   245    254      1   \n",
       "1  EDUARDO DA COSTA PAES      60011   1341   123    262      1   \n",
       "\n",
       "   votos_recebidos  ds_grau_escolaridade_ensino_médio_incompleto  \\\n",
       "0              170                                            90   \n",
       "1              155                                            70   \n",
       "\n",
       "   ds_grau_escolaridade_superior_completo  \\\n",
       "0                                      38   \n",
       "1                                      18   \n",
       "\n",
       "   ds_grau_escolaridade_ensino_fundamental_incompleto  ...  \\\n",
       "0                                                 60   ...   \n",
       "1                                                100   ...   \n",
       "\n",
       "   ds_faixa_etaria_100_anos_ou_mais  ds_faixa_etaria_95_a_99_anos  \\\n",
       "0                                 8                            10   \n",
       "1                                10                            11   \n",
       "\n",
       "   ds_faixa_etaria_17_anos  ds_faixa_etaria_16_anos  ds_faixa_etaria_inválida  \\\n",
       "0                        0                        1                         0   \n",
       "1                        0                        0                         0   \n",
       "\n",
       "   ds_genero_feminino  ds_genero_masculino  ds_genero_não_informado  \\\n",
       "0                 263                  194                        2   \n",
       "1                 239                  186                        0   \n",
       "\n",
       "   eleitores_totais  percentual_votos  \n",
       "0               459          0.370370  \n",
       "1               425          0.364706  \n",
       "\n",
       "[2 rows x 50 columns]"
      ]
     },
     "execution_count": 9,
     "metadata": {},
     "output_type": "execute_result"
    }
   ],
   "source": [
    "data.head(2)"
   ]
  },
  {
   "cell_type": "code",
   "execution_count": 10,
   "metadata": {},
   "outputs": [],
   "source": [
    "remove_cols = [col for col in data.columns if re.search('não_informado', col) or re.search('inválida', col)]\n",
    "data = data.drop(remove_cols, axis=1)"
   ]
  },
  {
   "cell_type": "code",
   "execution_count": 11,
   "metadata": {},
   "outputs": [],
   "source": [
    "pesos_escolaridade = {\n",
    "    'ds_grau_escolaridade_analfabeto': 0,\n",
    "    'ds_grau_escolaridade_lê_e_escreve': 1,\n",
    "    'ds_grau_escolaridade_ensino_fundamental_incompleto': 2,\n",
    "    'ds_grau_escolaridade_ensino_fundamental_completo': 3,\n",
    "    'ds_grau_escolaridade_ensino_médio_incompleto': 4,\n",
    "    'ds_grau_escolaridade_ensino_médio_completo': 5,\n",
    "    'ds_grau_escolaridade_superior_incompleto': 6,\n",
    "    'ds_grau_escolaridade_superior_completo': 7\n",
    "}\n",
    "\n",
    "# Calculando o score usando np.average com os pesos\n",
    "data[\"escolaridade_score\"] = data.apply(\n",
    "    lambda row: np.average(\n",
    "        [pesos_escolaridade[col] for col in pesos_escolaridade.keys()],  # Valores das colunas\n",
    "        weights=[row[col] for col in pesos_escolaridade.keys()]  # Pesos associados às colunas\n",
    "    ),\n",
    "    axis=1\n",
    ")"
   ]
  },
  {
   "cell_type": "code",
   "execution_count": 12,
   "metadata": {},
   "outputs": [
    {
     "data": {
      "text/html": [
       "<div>\n",
       "<style scoped>\n",
       "    .dataframe tbody tr th:only-of-type {\n",
       "        vertical-align: middle;\n",
       "    }\n",
       "\n",
       "    .dataframe tbody tr th {\n",
       "        vertical-align: top;\n",
       "    }\n",
       "\n",
       "    .dataframe thead th {\n",
       "        text-align: right;\n",
       "    }\n",
       "</style>\n",
       "<table border=\"1\" class=\"dataframe\">\n",
       "  <thead>\n",
       "    <tr style=\"text-align: right;\">\n",
       "      <th></th>\n",
       "      <th>candidato</th>\n",
       "      <th>municipio</th>\n",
       "      <th>local</th>\n",
       "      <th>zona</th>\n",
       "      <th>secao</th>\n",
       "      <th>turno</th>\n",
       "      <th>votos_recebidos</th>\n",
       "      <th>ds_raca_cor_parda</th>\n",
       "      <th>ds_raca_cor_branca</th>\n",
       "      <th>ds_raca_cor_preta</th>\n",
       "      <th>...</th>\n",
       "      <th>ds_faixa_etaria_90_a_94_anos</th>\n",
       "      <th>ds_faixa_etaria_100_anos_ou_mais</th>\n",
       "      <th>ds_faixa_etaria_95_a_99_anos</th>\n",
       "      <th>ds_faixa_etaria_17_anos</th>\n",
       "      <th>ds_faixa_etaria_16_anos</th>\n",
       "      <th>ds_genero_feminino</th>\n",
       "      <th>ds_genero_masculino</th>\n",
       "      <th>eleitores_totais</th>\n",
       "      <th>percentual_votos</th>\n",
       "      <th>escolaridade_score</th>\n",
       "    </tr>\n",
       "  </thead>\n",
       "  <tbody>\n",
       "    <tr>\n",
       "      <th>0</th>\n",
       "      <td>EDUARDO DA COSTA PAES</td>\n",
       "      <td>60011</td>\n",
       "      <td>1317</td>\n",
       "      <td>245</td>\n",
       "      <td>254</td>\n",
       "      <td>1</td>\n",
       "      <td>170</td>\n",
       "      <td>6</td>\n",
       "      <td>15</td>\n",
       "      <td>4</td>\n",
       "      <td>...</td>\n",
       "      <td>4</td>\n",
       "      <td>8</td>\n",
       "      <td>10</td>\n",
       "      <td>0</td>\n",
       "      <td>1</td>\n",
       "      <td>263</td>\n",
       "      <td>194</td>\n",
       "      <td>459</td>\n",
       "      <td>0.37037</td>\n",
       "      <td>3.997802</td>\n",
       "    </tr>\n",
       "  </tbody>\n",
       "</table>\n",
       "<p>1 rows × 39 columns</p>\n",
       "</div>"
      ],
      "text/plain": [
       "               candidato  municipio  local  zona  secao  turno  \\\n",
       "0  EDUARDO DA COSTA PAES      60011   1317   245    254      1   \n",
       "\n",
       "   votos_recebidos  ds_raca_cor_parda  ds_raca_cor_branca  ds_raca_cor_preta  \\\n",
       "0              170                  6                  15                  4   \n",
       "\n",
       "   ...  ds_faixa_etaria_90_a_94_anos  ds_faixa_etaria_100_anos_ou_mais  \\\n",
       "0  ...                             4                                 8   \n",
       "\n",
       "   ds_faixa_etaria_95_a_99_anos  ds_faixa_etaria_17_anos  \\\n",
       "0                            10                        0   \n",
       "\n",
       "   ds_faixa_etaria_16_anos  ds_genero_feminino  ds_genero_masculino  \\\n",
       "0                        1                 263                  194   \n",
       "\n",
       "   eleitores_totais  percentual_votos  escolaridade_score  \n",
       "0               459           0.37037            3.997802  \n",
       "\n",
       "[1 rows x 39 columns]"
      ]
     },
     "execution_count": 12,
     "metadata": {},
     "output_type": "execute_result"
    }
   ],
   "source": [
    "data = data.drop(pesos_escolaridade.keys(), axis=1)\n",
    "data.head(1)"
   ]
  },
  {
   "cell_type": "code",
   "execution_count": 13,
   "metadata": {},
   "outputs": [],
   "source": [
    "def extrair_media_idade(col):\n",
    "    try:\n",
    "        return (float(col.split('_')[3]) + float(col.split('_')[5])) / 2\n",
    "    except:\n",
    "        try:\n",
    "            return (float(col.split('_')[3]))\n",
    "        except:\n",
    "            return 0"
   ]
  },
  {
   "cell_type": "code",
   "execution_count": 14,
   "metadata": {},
   "outputs": [],
   "source": [
    "etaria_cols = [col for col in data.columns if re.search('faixa_etaria', col)]\n",
    "etaria_cols_weights = {\n",
    "    col: extrair_media_idade(col)\n",
    "    for col in etaria_cols\n",
    "}\n",
    "\n",
    "data['idade_score'] = data.apply(\n",
    "    lambda row: np.average(\n",
    "        [etaria_cols_weights[col] for col in etaria_cols_weights.keys()],\n",
    "        weights=[row[col] for col in etaria_cols_weights.keys()]\n",
    "    ),\n",
    "    axis=1\n",
    ")"
   ]
  },
  {
   "cell_type": "code",
   "execution_count": 15,
   "metadata": {},
   "outputs": [
    {
     "data": {
      "text/html": [
       "<div>\n",
       "<style scoped>\n",
       "    .dataframe tbody tr th:only-of-type {\n",
       "        vertical-align: middle;\n",
       "    }\n",
       "\n",
       "    .dataframe tbody tr th {\n",
       "        vertical-align: top;\n",
       "    }\n",
       "\n",
       "    .dataframe thead th {\n",
       "        text-align: right;\n",
       "    }\n",
       "</style>\n",
       "<table border=\"1\" class=\"dataframe\">\n",
       "  <thead>\n",
       "    <tr style=\"text-align: right;\">\n",
       "      <th></th>\n",
       "      <th>candidato</th>\n",
       "      <th>municipio</th>\n",
       "      <th>local</th>\n",
       "      <th>zona</th>\n",
       "      <th>secao</th>\n",
       "      <th>turno</th>\n",
       "      <th>votos_recebidos</th>\n",
       "      <th>ds_raca_cor_parda</th>\n",
       "      <th>ds_raca_cor_branca</th>\n",
       "      <th>ds_raca_cor_preta</th>\n",
       "      <th>ds_raca_cor_amarela</th>\n",
       "      <th>ds_raca_cor_indígena</th>\n",
       "      <th>ds_genero_feminino</th>\n",
       "      <th>ds_genero_masculino</th>\n",
       "      <th>eleitores_totais</th>\n",
       "      <th>percentual_votos</th>\n",
       "      <th>escolaridade_score</th>\n",
       "      <th>idade_score</th>\n",
       "    </tr>\n",
       "  </thead>\n",
       "  <tbody>\n",
       "    <tr>\n",
       "      <th>0</th>\n",
       "      <td>EDUARDO DA COSTA PAES</td>\n",
       "      <td>60011</td>\n",
       "      <td>1317</td>\n",
       "      <td>245</td>\n",
       "      <td>254</td>\n",
       "      <td>1</td>\n",
       "      <td>170</td>\n",
       "      <td>6</td>\n",
       "      <td>15</td>\n",
       "      <td>4</td>\n",
       "      <td>0</td>\n",
       "      <td>0</td>\n",
       "      <td>263</td>\n",
       "      <td>194</td>\n",
       "      <td>459</td>\n",
       "      <td>0.37037</td>\n",
       "      <td>3.997802</td>\n",
       "      <td>52.913943</td>\n",
       "    </tr>\n",
       "  </tbody>\n",
       "</table>\n",
       "</div>"
      ],
      "text/plain": [
       "               candidato  municipio  local  zona  secao  turno  \\\n",
       "0  EDUARDO DA COSTA PAES      60011   1317   245    254      1   \n",
       "\n",
       "   votos_recebidos  ds_raca_cor_parda  ds_raca_cor_branca  ds_raca_cor_preta  \\\n",
       "0              170                  6                  15                  4   \n",
       "\n",
       "   ds_raca_cor_amarela  ds_raca_cor_indígena  ds_genero_feminino  \\\n",
       "0                    0                     0                 263   \n",
       "\n",
       "   ds_genero_masculino  eleitores_totais  percentual_votos  \\\n",
       "0                  194               459           0.37037   \n",
       "\n",
       "   escolaridade_score  idade_score  \n",
       "0            3.997802    52.913943  "
      ]
     },
     "execution_count": 15,
     "metadata": {},
     "output_type": "execute_result"
    }
   ],
   "source": [
    "data = data.drop(etaria_cols_weights.keys(), axis=1)\n",
    "data.head(1)"
   ]
  },
  {
   "cell_type": "markdown",
   "metadata": {},
   "source": [
    "### agrupamento por local de votação"
   ]
  },
  {
   "cell_type": "code",
   "execution_count": 16,
   "metadata": {},
   "outputs": [],
   "source": [
    "data = data.groupby(['zona', 'local'], as_index=False).agg(\n",
    "    votos_recebidos = ('votos_recebidos', 'sum'),\n",
    "    eleitores = ('eleitores_totais', 'sum'),\n",
    "    percentual_votos = ('percentual_votos', 'mean'),\n",
    "    escolaridade_score = ('escolaridade_score', 'mean'),\n",
    "    idade_score = ('idade_score', 'mean'),\n",
    "    municipio = ('municipio', 'max')\n",
    ")"
   ]
  },
  {
   "cell_type": "code",
   "execution_count": 17,
   "metadata": {},
   "outputs": [
    {
     "data": {
      "text/html": [
       "<div>\n",
       "<style scoped>\n",
       "    .dataframe tbody tr th:only-of-type {\n",
       "        vertical-align: middle;\n",
       "    }\n",
       "\n",
       "    .dataframe tbody tr th {\n",
       "        vertical-align: top;\n",
       "    }\n",
       "\n",
       "    .dataframe thead th {\n",
       "        text-align: right;\n",
       "    }\n",
       "</style>\n",
       "<table border=\"1\" class=\"dataframe\">\n",
       "  <thead>\n",
       "    <tr style=\"text-align: right;\">\n",
       "      <th></th>\n",
       "      <th>zona</th>\n",
       "      <th>local</th>\n",
       "      <th>votos_recebidos</th>\n",
       "      <th>eleitores</th>\n",
       "      <th>percentual_votos</th>\n",
       "      <th>escolaridade_score</th>\n",
       "      <th>idade_score</th>\n",
       "      <th>municipio</th>\n",
       "    </tr>\n",
       "  </thead>\n",
       "  <tbody>\n",
       "    <tr>\n",
       "      <th>0</th>\n",
       "      <td>4</td>\n",
       "      <td>1058</td>\n",
       "      <td>1089</td>\n",
       "      <td>2961</td>\n",
       "      <td>0.367515</td>\n",
       "      <td>5.564689</td>\n",
       "      <td>55.464002</td>\n",
       "      <td>60011</td>\n",
       "    </tr>\n",
       "    <tr>\n",
       "      <th>1</th>\n",
       "      <td>4</td>\n",
       "      <td>1139</td>\n",
       "      <td>2217</td>\n",
       "      <td>6033</td>\n",
       "      <td>0.367425</td>\n",
       "      <td>5.425718</td>\n",
       "      <td>55.782017</td>\n",
       "      <td>60011</td>\n",
       "    </tr>\n",
       "    <tr>\n",
       "      <th>2</th>\n",
       "      <td>4</td>\n",
       "      <td>1163</td>\n",
       "      <td>3066</td>\n",
       "      <td>7519</td>\n",
       "      <td>0.408511</td>\n",
       "      <td>5.147535</td>\n",
       "      <td>52.028580</td>\n",
       "      <td>60011</td>\n",
       "    </tr>\n",
       "    <tr>\n",
       "      <th>3</th>\n",
       "      <td>4</td>\n",
       "      <td>1180</td>\n",
       "      <td>2078</td>\n",
       "      <td>5342</td>\n",
       "      <td>0.388975</td>\n",
       "      <td>5.316966</td>\n",
       "      <td>55.875191</td>\n",
       "      <td>60011</td>\n",
       "    </tr>\n",
       "    <tr>\n",
       "      <th>4</th>\n",
       "      <td>4</td>\n",
       "      <td>1228</td>\n",
       "      <td>1196</td>\n",
       "      <td>3032</td>\n",
       "      <td>0.394637</td>\n",
       "      <td>5.496766</td>\n",
       "      <td>54.550311</td>\n",
       "      <td>60011</td>\n",
       "    </tr>\n",
       "  </tbody>\n",
       "</table>\n",
       "</div>"
      ],
      "text/plain": [
       "   zona  local  votos_recebidos  eleitores  percentual_votos  \\\n",
       "0     4   1058             1089       2961          0.367515   \n",
       "1     4   1139             2217       6033          0.367425   \n",
       "2     4   1163             3066       7519          0.408511   \n",
       "3     4   1180             2078       5342          0.388975   \n",
       "4     4   1228             1196       3032          0.394637   \n",
       "\n",
       "   escolaridade_score  idade_score  municipio  \n",
       "0            5.564689    55.464002      60011  \n",
       "1            5.425718    55.782017      60011  \n",
       "2            5.147535    52.028580      60011  \n",
       "3            5.316966    55.875191      60011  \n",
       "4            5.496766    54.550311      60011  "
      ]
     },
     "execution_count": 17,
     "metadata": {},
     "output_type": "execute_result"
    }
   ],
   "source": [
    "data.head()"
   ]
  },
  {
   "cell_type": "code",
   "execution_count": 18,
   "metadata": {},
   "outputs": [
    {
     "data": {
      "text/html": [
       "<div>\n",
       "<style scoped>\n",
       "    .dataframe tbody tr th:only-of-type {\n",
       "        vertical-align: middle;\n",
       "    }\n",
       "\n",
       "    .dataframe tbody tr th {\n",
       "        vertical-align: top;\n",
       "    }\n",
       "\n",
       "    .dataframe thead th {\n",
       "        text-align: right;\n",
       "    }\n",
       "</style>\n",
       "<table border=\"1\" class=\"dataframe\">\n",
       "  <thead>\n",
       "    <tr style=\"text-align: right;\">\n",
       "      <th></th>\n",
       "      <th>percentual_votos</th>\n",
       "      <th>escolaridade_score</th>\n",
       "      <th>idade_score</th>\n",
       "    </tr>\n",
       "  </thead>\n",
       "  <tbody>\n",
       "    <tr>\n",
       "      <th>percentual_votos</th>\n",
       "      <td>1.000000</td>\n",
       "      <td>-0.213728</td>\n",
       "      <td>-0.197266</td>\n",
       "    </tr>\n",
       "    <tr>\n",
       "      <th>escolaridade_score</th>\n",
       "      <td>-0.213728</td>\n",
       "      <td>1.000000</td>\n",
       "      <td>0.242465</td>\n",
       "    </tr>\n",
       "    <tr>\n",
       "      <th>idade_score</th>\n",
       "      <td>-0.197266</td>\n",
       "      <td>0.242465</td>\n",
       "      <td>1.000000</td>\n",
       "    </tr>\n",
       "  </tbody>\n",
       "</table>\n",
       "</div>"
      ],
      "text/plain": [
       "                    percentual_votos  escolaridade_score  idade_score\n",
       "percentual_votos            1.000000           -0.213728    -0.197266\n",
       "escolaridade_score         -0.213728            1.000000     0.242465\n",
       "idade_score                -0.197266            0.242465     1.000000"
      ]
     },
     "execution_count": 18,
     "metadata": {},
     "output_type": "execute_result"
    }
   ],
   "source": [
    "data[['percentual_votos', 'escolaridade_score', 'idade_score']].corr()"
   ]
  },
  {
   "cell_type": "code",
   "execution_count": 19,
   "metadata": {},
   "outputs": [
    {
     "data": {
      "text/html": [
       "<div>\n",
       "<style scoped>\n",
       "    .dataframe tbody tr th:only-of-type {\n",
       "        vertical-align: middle;\n",
       "    }\n",
       "\n",
       "    .dataframe tbody tr th {\n",
       "        vertical-align: top;\n",
       "    }\n",
       "\n",
       "    .dataframe thead th {\n",
       "        text-align: right;\n",
       "    }\n",
       "</style>\n",
       "<table border=\"1\" class=\"dataframe\">\n",
       "  <thead>\n",
       "    <tr style=\"text-align: right;\">\n",
       "      <th></th>\n",
       "      <th>zona</th>\n",
       "      <th>local</th>\n",
       "      <th>votos_recebidos</th>\n",
       "      <th>eleitores</th>\n",
       "      <th>percentual_votos</th>\n",
       "      <th>escolaridade_score</th>\n",
       "      <th>idade_score</th>\n",
       "      <th>municipio</th>\n",
       "    </tr>\n",
       "  </thead>\n",
       "  <tbody>\n",
       "    <tr>\n",
       "      <th>0</th>\n",
       "      <td>4</td>\n",
       "      <td>1058</td>\n",
       "      <td>1089</td>\n",
       "      <td>2961</td>\n",
       "      <td>0.367515</td>\n",
       "      <td>5.564689</td>\n",
       "      <td>55.464002</td>\n",
       "      <td>60011</td>\n",
       "    </tr>\n",
       "  </tbody>\n",
       "</table>\n",
       "</div>"
      ],
      "text/plain": [
       "   zona  local  votos_recebidos  eleitores  percentual_votos  \\\n",
       "0     4   1058             1089       2961          0.367515   \n",
       "\n",
       "   escolaridade_score  idade_score  municipio  \n",
       "0            5.564689    55.464002      60011  "
      ]
     },
     "execution_count": 19,
     "metadata": {},
     "output_type": "execute_result"
    }
   ],
   "source": [
    "data.head(1)"
   ]
  },
  {
   "cell_type": "code",
   "execution_count": 20,
   "metadata": {},
   "outputs": [],
   "source": [
    "import matplotlib.pyplot as plt\n",
    "from sklearn.cluster import KMeans"
   ]
  },
  {
   "cell_type": "code",
   "execution_count": 21,
   "metadata": {},
   "outputs": [],
   "source": [
    "data_filtered = data.loc[(data['percentual_votos'] < 1) & (data['percentual_votos'] > 10**(-2))]"
   ]
  },
  {
   "cell_type": "code",
   "execution_count": 22,
   "metadata": {},
   "outputs": [
    {
     "data": {
      "text/plain": [
       "<matplotlib.collections.PathCollection at 0x29ee17b43b0>"
      ]
     },
     "execution_count": 22,
     "metadata": {},
     "output_type": "execute_result"
    },
    {
     "data": {
      "image/png": "[encoded data removed]",
      "text/plain": [
       "<Figure size 640x480 with 1 Axes>"
      ]
     },
     "metadata": {},
     "output_type": "display_data"
    }
   ],
   "source": [
    "x = data_filtered['escolaridade_score'].values\n",
    "y = data_filtered['percentual_votos'].values\n",
    "plt.scatter(x,y)"
   ]
  },
  {
   "cell_type": "code",
   "execution_count": 23,
   "metadata": {},
   "outputs": [
    {
     "data": {
      "image/png": "[encoded data removed]",
      "text/plain": [
       "<Figure size 640x480 with 1 Axes>"
      ]
     },
     "metadata": {},
     "output_type": "display_data"
    }
   ],
   "source": [
    "X = np.column_stack((x, y))\n",
    "# 2. Aplicar K-Means\n",
    "kmeans = KMeans(n_clusters=4, random_state=42)  # Configurar para 3 clusters\n",
    "kmeans.fit(X)\n",
    "\n",
    "# Obter os resultados\n",
    "labels = kmeans.labels_           # Rótulos para cada ponto\n",
    "centroids = kmeans.cluster_centers_  # Coordenadas dos centróides\n",
    "\n",
    "# 3. Visualizar os resultados\n",
    "plt.scatter(X[:, 0], X[:, 1], c=labels, cmap='viridis', label='Pontos')\n",
    "plt.scatter(centroids[:, 0], centroids[:, 1], c='red', s=200, marker='X', label='Centroides')\n",
    "plt.title('Clusterização com K-Means')\n",
    "plt.xlabel('Escolaridade')\n",
    "plt.ylabel('Percentual de votos')\n",
    "plt.legend()\n",
    "plt.show()"
   ]
  },
  {
   "cell_type": "code",
   "execution_count": 24,
   "metadata": {},
   "outputs": [
    {
     "data": {
      "text/plain": [
       "<matplotlib.collections.PathCollection at 0x29ee3f9f680>"
      ]
     },
     "execution_count": 24,
     "metadata": {},
     "output_type": "execute_result"
    },
    {
     "data": {
      "image/png": "[encoded data removed]",
      "text/plain": [
       "<Figure size 640x480 with 1 Axes>"
      ]
     },
     "metadata": {},
     "output_type": "display_data"
    }
   ],
   "source": [
    "x = data_filtered['idade_score'].values\n",
    "plt.scatter(x,y)"
   ]
  },
  {
   "cell_type": "code",
   "execution_count": 25,
   "metadata": {},
   "outputs": [
    {
     "data": {
      "image/png": "[encoded data removed]",
      "text/plain": [
       "<Figure size 640x480 with 1 Axes>"
      ]
     },
     "metadata": {},
     "output_type": "display_data"
    }
   ],
   "source": [
    "X = np.column_stack((x, y))\n",
    "# 2. Aplicar K-Means\n",
    "kmeans = KMeans(n_clusters=4, random_state=42)  # Configurar para 3 clusters\n",
    "kmeans.fit(X)\n",
    "\n",
    "# Obter os resultados\n",
    "labels = kmeans.labels_           # Rótulos para cada ponto\n",
    "centroids = kmeans.cluster_centers_  # Coordenadas dos centróides\n",
    "\n",
    "# 3. Visualizar os resultados\n",
    "plt.scatter(X[:, 0], X[:, 1], c=labels, cmap='viridis', label='Pontos')\n",
    "plt.scatter(centroids[:, 0], centroids[:, 1], c='red', s=200, marker='X', label='Centroides')\n",
    "plt.title('Clusterização com K-Means')\n",
    "plt.xlabel('Idade')\n",
    "plt.ylabel('Percentual de votos')\n",
    "plt.legend()\n",
    "plt.show()"
   ]
  },
  {
   "cell_type": "code",
   "execution_count": 26,
   "metadata": {},
   "outputs": [],
   "source": [
    "from scipy.stats import binom\n",
    "\n",
    "# Probabilidade genérica\n",
    "p = data['votos_recebidos'].sum()/data['eleitores'].sum()\n",
    "\n",
    "# Calcula a probabilidade para quantidade de votos recebidos\n",
    "data['probabilidade'] = binom.pmf(k = data['votos_recebidos']//10, n = data['eleitores']//10, p = p)"
   ]
  },
  {
   "cell_type": "code",
   "execution_count": 27,
   "metadata": {},
   "outputs": [
    {
     "data": {
      "image/png": "[encoded data removed]",
      "text/plain": [
       "<Figure size 640x480 with 1 Axes>"
      ]
     },
     "metadata": {},
     "output_type": "display_data"
    }
   ],
   "source": [
    "data_filtered = data.loc[(data['percentual_votos'] < 1) & (data['percentual_votos'] > 10**(-2))]\n",
    "X = data_filtered[['percentual_votos', 'probabilidade']].values\n",
    "# 2. Aplicar K-Means\n",
    "kmeans = KMeans(n_clusters=4, random_state=42)  # Configurar para 3 clusters\n",
    "kmeans.fit(X)\n",
    "\n",
    "# Obter os resultados\n",
    "labels = kmeans.labels_           # Rótulos para cada ponto\n",
    "centroids = kmeans.cluster_centers_  # Coordenadas dos centróides\n",
    "\n",
    "plt.scatter(X[:, 0], X[:, 1], c=labels, cmap='viridis', label='Pontos')  # Usar X para as dimensões\n",
    "plt.scatter(centroids[:, 0], centroids[:, 1], c='red', s=200, marker='X', label='Centroides')\n",
    "plt.title('Clusterização com K-Means')\n",
    "plt.xlabel('Votos percentuais')\n",
    "plt.ylabel('Probabilidade de receber qtd de votos')\n",
    "plt.legend()\n",
    "plt.show()"
   ]
  },
  {
   "cell_type": "code",
   "execution_count": 28,
   "metadata": {},
   "outputs": [
    {
     "name": "stderr",
     "output_type": "stream",
     "text": [
      "C:\\Users\\ciaon\\AppData\\Local\\Temp\\ipykernel_10816\\2726077203.py:1: SettingWithCopyWarning: \n",
      "A value is trying to be set on a copy of a slice from a DataFrame.\n",
      "Try using .loc[row_indexer,col_indexer] = value instead\n",
      "\n",
      "See the caveats in the documentation: https://pandas.pydata.org/pandas-docs/stable/user_guide/indexing.html#returning-a-view-versus-a-copy\n",
      "  data_filtered['clusters'] = labels\n"
     ]
    },
    {
     "data": {
      "text/html": [
       "<div>\n",
       "<style scoped>\n",
       "    .dataframe tbody tr th:only-of-type {\n",
       "        vertical-align: middle;\n",
       "    }\n",
       "\n",
       "    .dataframe tbody tr th {\n",
       "        vertical-align: top;\n",
       "    }\n",
       "\n",
       "    .dataframe thead th {\n",
       "        text-align: right;\n",
       "    }\n",
       "</style>\n",
       "<table border=\"1\" class=\"dataframe\">\n",
       "  <thead>\n",
       "    <tr style=\"text-align: right;\">\n",
       "      <th></th>\n",
       "      <th>zona</th>\n",
       "      <th>local</th>\n",
       "      <th>votos_recebidos</th>\n",
       "      <th>eleitores</th>\n",
       "      <th>percentual_votos</th>\n",
       "      <th>escolaridade_score</th>\n",
       "      <th>idade_score</th>\n",
       "      <th>municipio</th>\n",
       "      <th>probabilidade</th>\n",
       "      <th>clusters</th>\n",
       "    </tr>\n",
       "  </thead>\n",
       "  <tbody>\n",
       "    <tr>\n",
       "      <th>0</th>\n",
       "      <td>4</td>\n",
       "      <td>1058</td>\n",
       "      <td>1089</td>\n",
       "      <td>2961</td>\n",
       "      <td>0.367515</td>\n",
       "      <td>5.564689</td>\n",
       "      <td>55.464002</td>\n",
       "      <td>60011</td>\n",
       "      <td>0.045028</td>\n",
       "      <td>0</td>\n",
       "    </tr>\n",
       "    <tr>\n",
       "      <th>1</th>\n",
       "      <td>4</td>\n",
       "      <td>1139</td>\n",
       "      <td>2217</td>\n",
       "      <td>6033</td>\n",
       "      <td>0.367425</td>\n",
       "      <td>5.425718</td>\n",
       "      <td>55.782017</td>\n",
       "      <td>60011</td>\n",
       "      <td>0.030629</td>\n",
       "      <td>0</td>\n",
       "    </tr>\n",
       "    <tr>\n",
       "      <th>2</th>\n",
       "      <td>4</td>\n",
       "      <td>1163</td>\n",
       "      <td>3066</td>\n",
       "      <td>7519</td>\n",
       "      <td>0.408511</td>\n",
       "      <td>5.147535</td>\n",
       "      <td>52.028580</td>\n",
       "      <td>60011</td>\n",
       "      <td>0.005639</td>\n",
       "      <td>1</td>\n",
       "    </tr>\n",
       "    <tr>\n",
       "      <th>3</th>\n",
       "      <td>4</td>\n",
       "      <td>1180</td>\n",
       "      <td>2078</td>\n",
       "      <td>5342</td>\n",
       "      <td>0.388975</td>\n",
       "      <td>5.316966</td>\n",
       "      <td>55.875191</td>\n",
       "      <td>60011</td>\n",
       "      <td>0.029637</td>\n",
       "      <td>0</td>\n",
       "    </tr>\n",
       "    <tr>\n",
       "      <th>4</th>\n",
       "      <td>4</td>\n",
       "      <td>1228</td>\n",
       "      <td>1196</td>\n",
       "      <td>3032</td>\n",
       "      <td>0.394637</td>\n",
       "      <td>5.496766</td>\n",
       "      <td>54.550311</td>\n",
       "      <td>60011</td>\n",
       "      <td>0.038400</td>\n",
       "      <td>0</td>\n",
       "    </tr>\n",
       "  </tbody>\n",
       "</table>\n",
       "</div>"
      ],
      "text/plain": [
       "   zona  local  votos_recebidos  eleitores  percentual_votos  \\\n",
       "0     4   1058             1089       2961          0.367515   \n",
       "1     4   1139             2217       6033          0.367425   \n",
       "2     4   1163             3066       7519          0.408511   \n",
       "3     4   1180             2078       5342          0.388975   \n",
       "4     4   1228             1196       3032          0.394637   \n",
       "\n",
       "   escolaridade_score  idade_score  municipio  probabilidade  clusters  \n",
       "0            5.564689    55.464002      60011       0.045028         0  \n",
       "1            5.425718    55.782017      60011       0.030629         0  \n",
       "2            5.147535    52.028580      60011       0.005639         1  \n",
       "3            5.316966    55.875191      60011       0.029637         0  \n",
       "4            5.496766    54.550311      60011       0.038400         0  "
      ]
     },
     "execution_count": 28,
     "metadata": {},
     "output_type": "execute_result"
    }
   ],
   "source": [
    "data_filtered['clusters'] = labels\n",
    "data_filtered.head()"
   ]
  },
  {
   "cell_type": "code",
   "execution_count": 29,
   "metadata": {},
   "outputs": [
    {
     "data": {
      "text/html": [
       "<div>\n",
       "<style scoped>\n",
       "    .dataframe tbody tr th:only-of-type {\n",
       "        vertical-align: middle;\n",
       "    }\n",
       "\n",
       "    .dataframe tbody tr th {\n",
       "        vertical-align: top;\n",
       "    }\n",
       "\n",
       "    .dataframe thead th {\n",
       "        text-align: right;\n",
       "    }\n",
       "</style>\n",
       "<table border=\"1\" class=\"dataframe\">\n",
       "  <thead>\n",
       "    <tr style=\"text-align: right;\">\n",
       "      <th></th>\n",
       "      <th>percentual_votos</th>\n",
       "      <th>prob_mean</th>\n",
       "      <th>qtd</th>\n",
       "    </tr>\n",
       "    <tr>\n",
       "      <th>clusters</th>\n",
       "      <th></th>\n",
       "      <th></th>\n",
       "      <th></th>\n",
       "    </tr>\n",
       "  </thead>\n",
       "  <tbody>\n",
       "    <tr>\n",
       "      <th>3</th>\n",
       "      <td>0.666295</td>\n",
       "      <td>0.000835</td>\n",
       "      <td>28</td>\n",
       "    </tr>\n",
       "    <tr>\n",
       "      <th>1</th>\n",
       "      <td>0.446389</td>\n",
       "      <td>0.010082</td>\n",
       "      <td>237</td>\n",
       "    </tr>\n",
       "    <tr>\n",
       "      <th>0</th>\n",
       "      <td>0.377751</td>\n",
       "      <td>0.044883</td>\n",
       "      <td>716</td>\n",
       "    </tr>\n",
       "    <tr>\n",
       "      <th>2</th>\n",
       "      <td>0.329774</td>\n",
       "      <td>0.016314</td>\n",
       "      <td>455</td>\n",
       "    </tr>\n",
       "  </tbody>\n",
       "</table>\n",
       "</div>"
      ],
      "text/plain": [
       "          percentual_votos  prob_mean  qtd\n",
       "clusters                                  \n",
       "3                 0.666295   0.000835   28\n",
       "1                 0.446389   0.010082  237\n",
       "0                 0.377751   0.044883  716\n",
       "2                 0.329774   0.016314  455"
      ]
     },
     "execution_count": 29,
     "metadata": {},
     "output_type": "execute_result"
    }
   ],
   "source": [
    "cluster_data = data_filtered.groupby('clusters').agg(\n",
    "    percentual_votos = ('percentual_votos', 'mean'),\n",
    "    prob_mean = ('probabilidade', 'mean'),\n",
    "    qtd = ('probabilidade', 'size')\n",
    ").sort_values('percentual_votos', ascending=False)\n",
    "cluster_data"
   ]
  },
  {
   "cell_type": "code",
   "execution_count": 30,
   "metadata": {},
   "outputs": [],
   "source": [
    "import tse\n",
    "import folium"
   ]
  },
  {
   "cell_type": "code",
   "execution_count": 32,
   "metadata": {},
   "outputs": [],
   "source": [
    "database_dir = config['paths']['sql_data']\n",
    "database_name = 'eleicoes_2024.sql'\n",
    "analise = tse.TseAnalysis(\n",
    "    database={\n",
    "        'path': f'{database_dir}/{database_name}',\n",
    "        'alias': 'geral' \n",
    "    }\n",
    ")"
   ]
  },
  {
   "cell_type": "code",
   "execution_count": 33,
   "metadata": {},
   "outputs": [
    {
     "name": "stdout",
     "output_type": "stream",
     "text": [
      "Bancos carregados:\n",
      "0) main\n",
      "-path: d:\\projects\\tse-data\\data\\databases\\eleicoes_2024.sql\n",
      "--tables: \n",
      "-- locais\n",
      "-----\n",
      "2) geral\n",
      "-path: d:\\projects\\tse-data\\data\\databases\\eleicoes_2024.sql\n",
      "--tables: \n",
      "-- locais\n",
      "-----\n"
     ]
    }
   ],
   "source": [
    "analise.attach_database([])"
   ]
  },
  {
   "cell_type": "code",
   "execution_count": 34,
   "metadata": {},
   "outputs": [
    {
     "data": {
      "text/plain": [
       "60011"
      ]
     },
     "execution_count": 34,
     "metadata": {},
     "output_type": "execute_result"
    }
   ],
   "source": [
    "cd_municipio = data_filtered['municipio'].values[0]\n",
    "cd_municipio"
   ]
  },
  {
   "cell_type": "code",
   "execution_count": 35,
   "metadata": {},
   "outputs": [],
   "source": [
    "query = f\"\"\"\n",
    "    SELECT\n",
    "        CD_MUNICIPIO as municipio,\n",
    "        NR_ZONA as zona,\n",
    "        NR_SECAO as secao,\n",
    "        NR_LOCAL_VOTACAO as local,\n",
    "        NR_LATITUDE as latitude,\n",
    "        NR_LONGITUDE as longitude\n",
    "    FROM\n",
    "        geral.locais\n",
    "    WHERE\n",
    "        CD_MUNICIPIO = '{cd_municipio}'\n",
    "\"\"\""
   ]
  },
  {
   "cell_type": "code",
   "execution_count": 36,
   "metadata": {},
   "outputs": [],
   "source": [
    "locais_data = pd.read_sql_query(query, analise.conn)"
   ]
  },
  {
   "cell_type": "code",
   "execution_count": 37,
   "metadata": {},
   "outputs": [
    {
     "data": {
      "text/html": [
       "<div>\n",
       "<style scoped>\n",
       "    .dataframe tbody tr th:only-of-type {\n",
       "        vertical-align: middle;\n",
       "    }\n",
       "\n",
       "    .dataframe tbody tr th {\n",
       "        vertical-align: top;\n",
       "    }\n",
       "\n",
       "    .dataframe thead th {\n",
       "        text-align: right;\n",
       "    }\n",
       "</style>\n",
       "<table border=\"1\" class=\"dataframe\">\n",
       "  <thead>\n",
       "    <tr style=\"text-align: right;\">\n",
       "      <th></th>\n",
       "      <th>municipio</th>\n",
       "      <th>zona</th>\n",
       "      <th>secao</th>\n",
       "      <th>local</th>\n",
       "      <th>latitude</th>\n",
       "      <th>longitude</th>\n",
       "    </tr>\n",
       "  </thead>\n",
       "  <tbody>\n",
       "    <tr>\n",
       "      <th>0</th>\n",
       "      <td>60011</td>\n",
       "      <td>185</td>\n",
       "      <td>136</td>\n",
       "      <td>1252</td>\n",
       "      <td>-22.890469</td>\n",
       "      <td>-43.355049</td>\n",
       "    </tr>\n",
       "  </tbody>\n",
       "</table>\n",
       "</div>"
      ],
      "text/plain": [
       "   municipio  zona  secao  local   latitude  longitude\n",
       "0      60011   185    136   1252 -22.890469 -43.355049"
      ]
     },
     "execution_count": 37,
     "metadata": {},
     "output_type": "execute_result"
    }
   ],
   "source": [
    "locais_data.head(1)"
   ]
  },
  {
   "cell_type": "code",
   "execution_count": 38,
   "metadata": {},
   "outputs": [
    {
     "data": {
      "text/html": [
       "<div>\n",
       "<style scoped>\n",
       "    .dataframe tbody tr th:only-of-type {\n",
       "        vertical-align: middle;\n",
       "    }\n",
       "\n",
       "    .dataframe tbody tr th {\n",
       "        vertical-align: top;\n",
       "    }\n",
       "\n",
       "    .dataframe thead th {\n",
       "        text-align: right;\n",
       "    }\n",
       "</style>\n",
       "<table border=\"1\" class=\"dataframe\">\n",
       "  <thead>\n",
       "    <tr style=\"text-align: right;\">\n",
       "      <th></th>\n",
       "      <th>zona</th>\n",
       "      <th>local</th>\n",
       "      <th>votos_recebidos</th>\n",
       "      <th>eleitores</th>\n",
       "      <th>percentual_votos</th>\n",
       "      <th>escolaridade_score</th>\n",
       "      <th>idade_score</th>\n",
       "      <th>municipio</th>\n",
       "      <th>probabilidade</th>\n",
       "      <th>clusters</th>\n",
       "    </tr>\n",
       "  </thead>\n",
       "  <tbody>\n",
       "    <tr>\n",
       "      <th>0</th>\n",
       "      <td>4</td>\n",
       "      <td>1058</td>\n",
       "      <td>1089</td>\n",
       "      <td>2961</td>\n",
       "      <td>0.367515</td>\n",
       "      <td>5.564689</td>\n",
       "      <td>55.464002</td>\n",
       "      <td>60011</td>\n",
       "      <td>0.045028</td>\n",
       "      <td>0</td>\n",
       "    </tr>\n",
       "  </tbody>\n",
       "</table>\n",
       "</div>"
      ],
      "text/plain": [
       "   zona  local  votos_recebidos  eleitores  percentual_votos  \\\n",
       "0     4   1058             1089       2961          0.367515   \n",
       "\n",
       "   escolaridade_score  idade_score  municipio  probabilidade  clusters  \n",
       "0            5.564689    55.464002      60011       0.045028         0  "
      ]
     },
     "execution_count": 38,
     "metadata": {},
     "output_type": "execute_result"
    }
   ],
   "source": [
    "data_filtered.head(1)"
   ]
  },
  {
   "cell_type": "code",
   "execution_count": 39,
   "metadata": {},
   "outputs": [],
   "source": [
    "data_filtered = pd.merge(\n",
    "    data_filtered,\n",
    "    locais_data,\n",
    "    how='inner',\n",
    "    on=['municipio','zona', 'local']   \n",
    ")"
   ]
  },
  {
   "cell_type": "code",
   "execution_count": 40,
   "metadata": {},
   "outputs": [
    {
     "data": {
      "text/html": [
       "<div>\n",
       "<style scoped>\n",
       "    .dataframe tbody tr th:only-of-type {\n",
       "        vertical-align: middle;\n",
       "    }\n",
       "\n",
       "    .dataframe tbody tr th {\n",
       "        vertical-align: top;\n",
       "    }\n",
       "\n",
       "    .dataframe thead th {\n",
       "        text-align: right;\n",
       "    }\n",
       "</style>\n",
       "<table border=\"1\" class=\"dataframe\">\n",
       "  <thead>\n",
       "    <tr style=\"text-align: right;\">\n",
       "      <th></th>\n",
       "      <th>zona</th>\n",
       "      <th>local</th>\n",
       "      <th>votos_recebidos</th>\n",
       "      <th>eleitores</th>\n",
       "      <th>percentual_votos</th>\n",
       "      <th>escolaridade_score</th>\n",
       "      <th>idade_score</th>\n",
       "      <th>municipio</th>\n",
       "      <th>probabilidade</th>\n",
       "      <th>clusters</th>\n",
       "      <th>secao</th>\n",
       "      <th>latitude</th>\n",
       "      <th>longitude</th>\n",
       "    </tr>\n",
       "  </thead>\n",
       "  <tbody>\n",
       "    <tr>\n",
       "      <th>0</th>\n",
       "      <td>4</td>\n",
       "      <td>1058</td>\n",
       "      <td>1089</td>\n",
       "      <td>2961</td>\n",
       "      <td>0.367515</td>\n",
       "      <td>5.564689</td>\n",
       "      <td>55.464002</td>\n",
       "      <td>60011</td>\n",
       "      <td>0.045028</td>\n",
       "      <td>0</td>\n",
       "      <td>21</td>\n",
       "      <td>-22.949203</td>\n",
       "      <td>-43.186989</td>\n",
       "    </tr>\n",
       "    <tr>\n",
       "      <th>1</th>\n",
       "      <td>4</td>\n",
       "      <td>1058</td>\n",
       "      <td>1089</td>\n",
       "      <td>2961</td>\n",
       "      <td>0.367515</td>\n",
       "      <td>5.564689</td>\n",
       "      <td>55.464002</td>\n",
       "      <td>60011</td>\n",
       "      <td>0.045028</td>\n",
       "      <td>0</td>\n",
       "      <td>20</td>\n",
       "      <td>-22.949203</td>\n",
       "      <td>-43.186989</td>\n",
       "    </tr>\n",
       "    <tr>\n",
       "      <th>2</th>\n",
       "      <td>4</td>\n",
       "      <td>1058</td>\n",
       "      <td>1089</td>\n",
       "      <td>2961</td>\n",
       "      <td>0.367515</td>\n",
       "      <td>5.564689</td>\n",
       "      <td>55.464002</td>\n",
       "      <td>60011</td>\n",
       "      <td>0.045028</td>\n",
       "      <td>0</td>\n",
       "      <td>18</td>\n",
       "      <td>-22.949203</td>\n",
       "      <td>-43.186989</td>\n",
       "    </tr>\n",
       "    <tr>\n",
       "      <th>3</th>\n",
       "      <td>4</td>\n",
       "      <td>1058</td>\n",
       "      <td>1089</td>\n",
       "      <td>2961</td>\n",
       "      <td>0.367515</td>\n",
       "      <td>5.564689</td>\n",
       "      <td>55.464002</td>\n",
       "      <td>60011</td>\n",
       "      <td>0.045028</td>\n",
       "      <td>0</td>\n",
       "      <td>19</td>\n",
       "      <td>-22.949203</td>\n",
       "      <td>-43.186989</td>\n",
       "    </tr>\n",
       "    <tr>\n",
       "      <th>4</th>\n",
       "      <td>4</td>\n",
       "      <td>1058</td>\n",
       "      <td>1089</td>\n",
       "      <td>2961</td>\n",
       "      <td>0.367515</td>\n",
       "      <td>5.564689</td>\n",
       "      <td>55.464002</td>\n",
       "      <td>60011</td>\n",
       "      <td>0.045028</td>\n",
       "      <td>0</td>\n",
       "      <td>17</td>\n",
       "      <td>-22.949203</td>\n",
       "      <td>-43.186989</td>\n",
       "    </tr>\n",
       "  </tbody>\n",
       "</table>\n",
       "</div>"
      ],
      "text/plain": [
       "   zona  local  votos_recebidos  eleitores  percentual_votos  \\\n",
       "0     4   1058             1089       2961          0.367515   \n",
       "1     4   1058             1089       2961          0.367515   \n",
       "2     4   1058             1089       2961          0.367515   \n",
       "3     4   1058             1089       2961          0.367515   \n",
       "4     4   1058             1089       2961          0.367515   \n",
       "\n",
       "   escolaridade_score  idade_score  municipio  probabilidade  clusters  secao  \\\n",
       "0            5.564689    55.464002      60011       0.045028         0     21   \n",
       "1            5.564689    55.464002      60011       0.045028         0     20   \n",
       "2            5.564689    55.464002      60011       0.045028         0     18   \n",
       "3            5.564689    55.464002      60011       0.045028         0     19   \n",
       "4            5.564689    55.464002      60011       0.045028         0     17   \n",
       "\n",
       "    latitude  longitude  \n",
       "0 -22.949203 -43.186989  \n",
       "1 -22.949203 -43.186989  \n",
       "2 -22.949203 -43.186989  \n",
       "3 -22.949203 -43.186989  \n",
       "4 -22.949203 -43.186989  "
      ]
     },
     "execution_count": 40,
     "metadata": {},
     "output_type": "execute_result"
    }
   ],
   "source": [
    "data_filtered.head()"
   ]
  },
  {
   "cell_type": "code",
   "execution_count": 41,
   "metadata": {},
   "outputs": [],
   "source": [
    "cluster_map_data = data_filtered[['clusters', 'latitude', 'longitude']]"
   ]
  },
  {
   "cell_type": "code",
   "execution_count": 42,
   "metadata": {},
   "outputs": [
    {
     "data": {
      "text/html": [
       "<div>\n",
       "<style scoped>\n",
       "    .dataframe tbody tr th:only-of-type {\n",
       "        vertical-align: middle;\n",
       "    }\n",
       "\n",
       "    .dataframe tbody tr th {\n",
       "        vertical-align: top;\n",
       "    }\n",
       "\n",
       "    .dataframe thead th {\n",
       "        text-align: right;\n",
       "    }\n",
       "</style>\n",
       "<table border=\"1\" class=\"dataframe\">\n",
       "  <thead>\n",
       "    <tr style=\"text-align: right;\">\n",
       "      <th></th>\n",
       "      <th>clusters</th>\n",
       "      <th>latitude</th>\n",
       "      <th>longitude</th>\n",
       "    </tr>\n",
       "  </thead>\n",
       "  <tbody>\n",
       "    <tr>\n",
       "      <th>0</th>\n",
       "      <td>0</td>\n",
       "      <td>-22.949203</td>\n",
       "      <td>-43.186989</td>\n",
       "    </tr>\n",
       "  </tbody>\n",
       "</table>\n",
       "</div>"
      ],
      "text/plain": [
       "   clusters   latitude  longitude\n",
       "0         0 -22.949203 -43.186989"
      ]
     },
     "execution_count": 42,
     "metadata": {},
     "output_type": "execute_result"
    }
   ],
   "source": [
    "cluster_map_data.head(1)"
   ]
  },
  {
   "cell_type": "code",
   "execution_count": 43,
   "metadata": {},
   "outputs": [
    {
     "data": {
      "text/html": [
       "<div>\n",
       "<style scoped>\n",
       "    .dataframe tbody tr th:only-of-type {\n",
       "        vertical-align: middle;\n",
       "    }\n",
       "\n",
       "    .dataframe tbody tr th {\n",
       "        vertical-align: top;\n",
       "    }\n",
       "\n",
       "    .dataframe thead th {\n",
       "        text-align: right;\n",
       "    }\n",
       "</style>\n",
       "<table border=\"1\" class=\"dataframe\">\n",
       "  <thead>\n",
       "    <tr style=\"text-align: right;\">\n",
       "      <th></th>\n",
       "      <th>percentual_votos</th>\n",
       "      <th>prob_mean</th>\n",
       "      <th>qtd</th>\n",
       "    </tr>\n",
       "    <tr>\n",
       "      <th>clusters</th>\n",
       "      <th></th>\n",
       "      <th></th>\n",
       "      <th></th>\n",
       "    </tr>\n",
       "  </thead>\n",
       "  <tbody>\n",
       "    <tr>\n",
       "      <th>3</th>\n",
       "      <td>0.666295</td>\n",
       "      <td>0.000835</td>\n",
       "      <td>28</td>\n",
       "    </tr>\n",
       "    <tr>\n",
       "      <th>1</th>\n",
       "      <td>0.446389</td>\n",
       "      <td>0.010082</td>\n",
       "      <td>237</td>\n",
       "    </tr>\n",
       "    <tr>\n",
       "      <th>0</th>\n",
       "      <td>0.377751</td>\n",
       "      <td>0.044883</td>\n",
       "      <td>716</td>\n",
       "    </tr>\n",
       "    <tr>\n",
       "      <th>2</th>\n",
       "      <td>0.329774</td>\n",
       "      <td>0.016314</td>\n",
       "      <td>455</td>\n",
       "    </tr>\n",
       "  </tbody>\n",
       "</table>\n",
       "</div>"
      ],
      "text/plain": [
       "          percentual_votos  prob_mean  qtd\n",
       "clusters                                  \n",
       "3                 0.666295   0.000835   28\n",
       "1                 0.446389   0.010082  237\n",
       "0                 0.377751   0.044883  716\n",
       "2                 0.329774   0.016314  455"
      ]
     },
     "execution_count": 43,
     "metadata": {},
     "output_type": "execute_result"
    }
   ],
   "source": [
    "cluster_data"
   ]
  },
  {
   "cell_type": "code",
   "execution_count": 45,
   "metadata": {},
   "outputs": [],
   "source": [
    "legenda = {\n",
    "    2: 'abaixo do esperado',\n",
    "    3: 'muito acima do esperado',\n",
    "    1: 'acima do esperado',\n",
    "    0: 'esperado'\n",
    "}"
   ]
  },
  {
   "cell_type": "code",
   "execution_count": 46,
   "metadata": {},
   "outputs": [],
   "source": [
    "# Criando um mapa centrado\n",
    "m = folium.Map(location=[\n",
    "    cluster_map_data['latitude'].mean(), \n",
    "    cluster_map_data['longitude'].mean()], zoom_start=15)\n",
    "\n",
    "# Paleta de cores para clusters\n",
    "colors = {0: 'purple', 1: 'blue', 2: 'gray', 3: 'orange'}\n",
    "# Criando camadas separadas por cluster\n",
    "for cluster_id, group in cluster_map_data.groupby('clusters'):\n",
    "    cluster_layer = folium.FeatureGroup(name=f'Apoio {legenda.get(cluster_id)}')\n",
    "    for _, row in group.iterrows():\n",
    "        folium.CircleMarker(\n",
    "            location=[row['latitude'], row['longitude']],\n",
    "            radius=10,\n",
    "            color=colors[cluster_id],\n",
    "            fill=True,\n",
    "            fill_color=colors[cluster_id],\n",
    "            fill_opacity=0.7,\n",
    "            popup=f\"Cluster: {row['clusters']}\"\n",
    "        ).add_to(cluster_layer)\n",
    "    cluster_layer.add_to(m)"
   ]
  },
  {
   "cell_type": "code",
   "execution_count": 47,
   "metadata": {},
   "outputs": [
    {
     "data": {
      "text/plain": [
       "<branca.element.Element at 0x29eecc8ec60>"
      ]
     },
     "execution_count": 47,
     "metadata": {},
     "output_type": "execute_result"
    }
   ],
   "source": [
    "legend_html = f\"\"\"\n",
    "<div style=\"position: fixed;\n",
    "            bottom: 50px; left: 50px; width: 250px; height: 150px;\n",
    "            background-color: white; z-index: 1000; font-size: 14px;\n",
    "            border: 2px solid grey; border-radius: 10px; padding: 10px;\">\n",
    "    <b>Legenda</b><br>\n",
    "    <i style=\"background:{colors.get(0)}; width:10px; height:10px; display:inline-block; margin-right:5px;\"></i> Apoio {legenda.get(0)}<br>\n",
    "    <i style=\"background:{colors.get(1)}; width:10px; height:10px; display:inline-block; margin-right:5px;\"></i> Apoio {legenda.get(1)}<br>\n",
    "    <i style=\"background:{colors.get(2)}; width:10px; height:10px; display:inline-block; margin-right:5px;\"></i> Apoio {legenda.get(2)}<br>\n",
    "    <i style=\"background:{colors.get(3)}; width:10px; height:10px; display:inline-block; margin-right:5px;\"></i> Apoio {legenda.get(3)}<br>\n",
    "</div>\n",
    "\"\"\"\n",
    "m.get_root().html.add_child(folium.Element(legend_html))"
   ]
  },
  {
   "cell_type": "code",
   "execution_count": 48,
   "metadata": {},
   "outputs": [
    {
     "data": {
      "text/plain": [
       "<folium.map.LayerControl at 0x29ee3f9e7e0>"
      ]
     },
     "execution_count": 48,
     "metadata": {},
     "output_type": "execute_result"
    }
   ],
   "source": [
    "# Adicionando o controle de camadas\n",
    "folium.LayerControl().add_to(m)"
   ]
  },
  {
   "cell_type": "code",
   "execution_count": 56,
   "metadata": {},
   "outputs": [],
   "source": [
    "maps_folder = config['paths']['maps']\n",
    "m.save(f\"{maps_folder}/apoio_{name}.html\")"
   ]
  },
  {
   "cell_type": "code",
   "execution_count": null,
   "metadata": {},
   "outputs": [],
   "source": []
  }
 ],
 "metadata": {
  "kernelspec": {
   "display_name": "Python 3",
   "language": "python",
   "name": "python3"
  },
  "language_info": {
   "codemirror_mode": {
    "name": "ipython",
    "version": 3
   },
   "file_extension": ".py",
   "mimetype": "text/x-python",
   "name": "python",
   "nbconvert_exporter": "python",
   "pygments_lexer": "ipython3",
   "version": "3.12.8"
  }
 },
 "nbformat": 4,
 "nbformat_minor": 2
}

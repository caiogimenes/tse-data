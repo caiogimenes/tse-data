{
 "cells": [
  {
   "cell_type": "markdown",
   "metadata": {},
   "source": [
    "# Análise Eleitoral"
   ]
  },
  {
   "cell_type": "code",
   "execution_count": 27,
   "metadata": {},
   "outputs": [],
   "source": [
    "from pathlib import Path\n",
    "\n",
    "root = Path().resolve().parent #.parent attr caso o arquivo nao esteja na raiz do projeto"
   ]
  },
  {
   "cell_type": "code",
   "execution_count": 28,
   "metadata": {},
   "outputs": [],
   "source": [
    "# Adicionando src/ ao projeto\n",
    "import sys\n",
    "import os\n",
    "\n",
    "src_path = os.path.join(root, 'src')\n",
    "sys.path.append(src_path)"
   ]
  },
  {
   "cell_type": "code",
   "execution_count": 29,
   "metadata": {},
   "outputs": [],
   "source": [
    "# Importando configurações do projeto\n",
    "import yaml\n",
    "\n",
    "config_path = root.joinpath('config/config.yaml')\n",
    "\n",
    "def load_config(file_path):\n",
    "    with open(file_path, 'r') as file:\n",
    "        return yaml.safe_load(file)\n",
    "        \n",
    "config = load_config(config_path)"
   ]
  },
  {
   "cell_type": "markdown",
   "metadata": {},
   "source": [
    "### 0) Configuração dos bancos a serem utilizados"
   ]
  },
  {
   "cell_type": "code",
   "execution_count": 30,
   "metadata": {},
   "outputs": [],
   "source": [
    "import pandas as pd\n",
    "import tse"
   ]
  },
  {
   "cell_type": "code",
   "execution_count": 31,
   "metadata": {},
   "outputs": [],
   "source": [
    "CANDIDATO = 'EDUARDO PAES'\n",
    "ESTADO = 'rj'.lower()\n",
    "ANO = '2024'"
   ]
  },
  {
   "cell_type": "code",
   "execution_count": 32,
   "metadata": {},
   "outputs": [],
   "source": [
    "database_dir = config['paths']['sql_data']\n",
    "database_1 = f'{database_dir}/{ESTADO}_{ANO}.sql'\n",
    "database_2 = f'{database_dir}/eleicoes_{ANO}.sql'"
   ]
  },
  {
   "cell_type": "code",
   "execution_count": 33,
   "metadata": {},
   "outputs": [],
   "source": [
    "analise = tse.TseAnalysis(\n",
    "    database={\n",
    "        'path': database_1,\n",
    "        'alias': f'{ESTADO}'\n",
    "    })"
   ]
  },
  {
   "cell_type": "code",
   "execution_count": 34,
   "metadata": {},
   "outputs": [
    {
     "name": "stdout",
     "output_type": "stream",
     "text": [
      "Bancos carregados:\n",
      "0) main\n",
      "-path: d:\\projects\\tse-data\\data\\databases\\rj_2024.sql\n",
      "--tables: \n",
      "-- resultados\n",
      "-- eleitorado\n",
      "-----\n",
      "2) rj\n",
      "-path: d:\\projects\\tse-data\\data\\databases\\rj_2024.sql\n",
      "--tables: \n",
      "-- resultados\n",
      "-- eleitorado\n",
      "-----\n",
      "3) geral\n",
      "-path: d:\\projects\\tse-data\\data\\databases\\eleicoes_2024.sql\n",
      "--tables: \n",
      "-- locais\n",
      "-----\n"
     ]
    }
   ],
   "source": [
    "analise.attach_database(\n",
    "    attach= [\n",
    "        {\n",
    "            'path': database_2,\n",
    "            'alias': 'geral'\n",
    "        }\n",
    "    ])"
   ]
  },
  {
   "cell_type": "code",
   "execution_count": 35,
   "metadata": {},
   "outputs": [
    {
     "data": {
      "text/plain": [
       "'Indices criados com sucesso'"
      ]
     },
     "execution_count": 35,
     "metadata": {},
     "output_type": "execute_result"
    }
   ],
   "source": [
    "analise.create_index(\n",
    "    table='resultados',\n",
    "    columns=['NM_VOTAVEL', 'NR_LOCAL_VOTACAO', 'NR_ZONA', 'NR_SECAO', 'CD_MUNICIPIO']\n",
    ")\n",
    "analise.create_index(\n",
    "    table='eleitorado',\n",
    "    columns=['NR_LOCAL_VOTACAO', 'NR_ZONA', 'NR_SECAO', 'CD_MUNICIPIO']\n",
    ")"
   ]
  },
  {
   "cell_type": "markdown",
   "metadata": {},
   "source": [
    "---"
   ]
  },
  {
   "cell_type": "markdown",
   "metadata": {},
   "source": [
    "### 1) Criação de tabela com perfil de eleitorado por seção"
   ]
  },
  {
   "cell_type": "code",
   "execution_count": 36,
   "metadata": {},
   "outputs": [],
   "source": [
    "# a função generate_stats_query foi escrita para gerar uma query específica para a tabela {ESTADO}. eleitorado\n",
    "# ela analisa os valores distintos de cada coluna argumento e produz uma query que soma a quantidade de aparições para cada caso\n",
    "q = analise.generate_stats_query(\n",
    "    alias=f'{ESTADO}',\n",
    "    table='eleitorado',\n",
    "    cols=[\n",
    "        'DS_GRAU_ESCOLARIDADE',\n",
    "        'DS_RACA_COR',\n",
    "        'DS_FAIXA_ETARIA',\n",
    "        'DS_GENERO'\n",
    "    ]\n",
    ")"
   ]
  },
  {
   "cell_type": "code",
   "execution_count": 38,
   "metadata": {},
   "outputs": [],
   "source": [
    "eleitorado_secao = pd.read_sql(q, analise.conn)"
   ]
  },
  {
   "cell_type": "code",
   "execution_count": 39,
   "metadata": {},
   "outputs": [
    {
     "data": {
      "text/html": [
       "<div>\n",
       "<style scoped>\n",
       "    .dataframe tbody tr th:only-of-type {\n",
       "        vertical-align: middle;\n",
       "    }\n",
       "\n",
       "    .dataframe tbody tr th {\n",
       "        vertical-align: top;\n",
       "    }\n",
       "\n",
       "    .dataframe thead th {\n",
       "        text-align: right;\n",
       "    }\n",
       "</style>\n",
       "<table border=\"1\" class=\"dataframe\">\n",
       "  <thead>\n",
       "    <tr style=\"text-align: right;\">\n",
       "      <th></th>\n",
       "      <th>municipio</th>\n",
       "      <th>local</th>\n",
       "      <th>zona</th>\n",
       "      <th>secao</th>\n",
       "      <th>ds_grau_escolaridade_ensino_médio_incompleto</th>\n",
       "      <th>ds_grau_escolaridade_superior_completo</th>\n",
       "      <th>ds_grau_escolaridade_ensino_fundamental_incompleto</th>\n",
       "      <th>ds_grau_escolaridade_ensino_fundamental_completo</th>\n",
       "      <th>ds_grau_escolaridade_lê_e_escreve</th>\n",
       "      <th>ds_grau_escolaridade_ensino_médio_completo</th>\n",
       "      <th>...</th>\n",
       "      <th>ds_faixa_etaria_85_a_89_anos</th>\n",
       "      <th>ds_faixa_etaria_90_a_94_anos</th>\n",
       "      <th>ds_faixa_etaria_100_anos_ou_mais</th>\n",
       "      <th>ds_faixa_etaria_95_a_99_anos</th>\n",
       "      <th>ds_faixa_etaria_17_anos</th>\n",
       "      <th>ds_faixa_etaria_16_anos</th>\n",
       "      <th>ds_faixa_etaria_inválida</th>\n",
       "      <th>ds_genero_feminino</th>\n",
       "      <th>ds_genero_masculino</th>\n",
       "      <th>ds_genero_não_informado</th>\n",
       "    </tr>\n",
       "  </thead>\n",
       "  <tbody>\n",
       "    <tr>\n",
       "      <th>0</th>\n",
       "      <td>58009</td>\n",
       "      <td>1015</td>\n",
       "      <td>255</td>\n",
       "      <td>23</td>\n",
       "      <td>61</td>\n",
       "      <td>23</td>\n",
       "      <td>114</td>\n",
       "      <td>37</td>\n",
       "      <td>42</td>\n",
       "      <td>91</td>\n",
       "      <td>...</td>\n",
       "      <td>10</td>\n",
       "      <td>4</td>\n",
       "      <td>0</td>\n",
       "      <td>1</td>\n",
       "      <td>7</td>\n",
       "      <td>0</td>\n",
       "      <td>0</td>\n",
       "      <td>175</td>\n",
       "      <td>211</td>\n",
       "      <td>0</td>\n",
       "    </tr>\n",
       "    <tr>\n",
       "      <th>1</th>\n",
       "      <td>58009</td>\n",
       "      <td>1015</td>\n",
       "      <td>255</td>\n",
       "      <td>24</td>\n",
       "      <td>79</td>\n",
       "      <td>29</td>\n",
       "      <td>99</td>\n",
       "      <td>26</td>\n",
       "      <td>48</td>\n",
       "      <td>83</td>\n",
       "      <td>...</td>\n",
       "      <td>2</td>\n",
       "      <td>0</td>\n",
       "      <td>1</td>\n",
       "      <td>0</td>\n",
       "      <td>10</td>\n",
       "      <td>1</td>\n",
       "      <td>0</td>\n",
       "      <td>183</td>\n",
       "      <td>203</td>\n",
       "      <td>0</td>\n",
       "    </tr>\n",
       "  </tbody>\n",
       "</table>\n",
       "<p>2 rows × 45 columns</p>\n",
       "</div>"
      ],
      "text/plain": [
       "   municipio  local  zona  secao  \\\n",
       "0      58009   1015   255     23   \n",
       "1      58009   1015   255     24   \n",
       "\n",
       "   ds_grau_escolaridade_ensino_médio_incompleto  \\\n",
       "0                                            61   \n",
       "1                                            79   \n",
       "\n",
       "   ds_grau_escolaridade_superior_completo  \\\n",
       "0                                      23   \n",
       "1                                      29   \n",
       "\n",
       "   ds_grau_escolaridade_ensino_fundamental_incompleto  \\\n",
       "0                                                114    \n",
       "1                                                 99    \n",
       "\n",
       "   ds_grau_escolaridade_ensino_fundamental_completo  \\\n",
       "0                                                37   \n",
       "1                                                26   \n",
       "\n",
       "   ds_grau_escolaridade_lê_e_escreve  \\\n",
       "0                                 42   \n",
       "1                                 48   \n",
       "\n",
       "   ds_grau_escolaridade_ensino_médio_completo  ...  \\\n",
       "0                                          91  ...   \n",
       "1                                          83  ...   \n",
       "\n",
       "   ds_faixa_etaria_85_a_89_anos  ds_faixa_etaria_90_a_94_anos  \\\n",
       "0                            10                             4   \n",
       "1                             2                             0   \n",
       "\n",
       "   ds_faixa_etaria_100_anos_ou_mais  ds_faixa_etaria_95_a_99_anos  \\\n",
       "0                                 0                             1   \n",
       "1                                 1                             0   \n",
       "\n",
       "   ds_faixa_etaria_17_anos  ds_faixa_etaria_16_anos  ds_faixa_etaria_inválida  \\\n",
       "0                        7                        0                         0   \n",
       "1                       10                        1                         0   \n",
       "\n",
       "   ds_genero_feminino  ds_genero_masculino  ds_genero_não_informado  \n",
       "0                 175                  211                        0  \n",
       "1                 183                  203                        0  \n",
       "\n",
       "[2 rows x 45 columns]"
      ]
     },
     "execution_count": 39,
     "metadata": {},
     "output_type": "execute_result"
    }
   ],
   "source": [
    "eleitorado_secao.head(2) # este DataFrame expressa a quantidade de eleitores por seçao divido em categorias"
   ]
  },
  {
   "cell_type": "code",
   "execution_count": 40,
   "metadata": {},
   "outputs": [],
   "source": [
    "q_2 = f\"\"\"\n",
    "    SELECT\n",
    "        CD_MUNICIPIO as municipio,\n",
    "        NR_LOCAL_VOTACAO as local,\n",
    "        NR_ZONA as zona,\n",
    "        NR_SECAO as secao,\n",
    "        QT_ELEITOR_SECAO as eleitores_totais\n",
    "    FROM\n",
    "        geral.locais\n",
    "    WHERE\n",
    "        SG_UF = '{ESTADO.upper()}'\n",
    "\"\"\""
   ]
  },
  {
   "cell_type": "code",
   "execution_count": 41,
   "metadata": {},
   "outputs": [],
   "source": [
    "eleitores_secao = pd.read_sql(q_2, analise.conn)"
   ]
  },
  {
   "cell_type": "code",
   "execution_count": 42,
   "metadata": {},
   "outputs": [
    {
     "data": {
      "text/html": [
       "<div>\n",
       "<style scoped>\n",
       "    .dataframe tbody tr th:only-of-type {\n",
       "        vertical-align: middle;\n",
       "    }\n",
       "\n",
       "    .dataframe tbody tr th {\n",
       "        vertical-align: top;\n",
       "    }\n",
       "\n",
       "    .dataframe thead th {\n",
       "        text-align: right;\n",
       "    }\n",
       "</style>\n",
       "<table border=\"1\" class=\"dataframe\">\n",
       "  <thead>\n",
       "    <tr style=\"text-align: right;\">\n",
       "      <th></th>\n",
       "      <th>municipio</th>\n",
       "      <th>local</th>\n",
       "      <th>zona</th>\n",
       "      <th>secao</th>\n",
       "      <th>eleitores_totais</th>\n",
       "    </tr>\n",
       "  </thead>\n",
       "  <tbody>\n",
       "    <tr>\n",
       "      <th>0</th>\n",
       "      <td>60011</td>\n",
       "      <td>1252</td>\n",
       "      <td>185</td>\n",
       "      <td>136</td>\n",
       "      <td>406</td>\n",
       "    </tr>\n",
       "    <tr>\n",
       "      <th>1</th>\n",
       "      <td>60011</td>\n",
       "      <td>1341</td>\n",
       "      <td>14</td>\n",
       "      <td>164</td>\n",
       "      <td>446</td>\n",
       "    </tr>\n",
       "  </tbody>\n",
       "</table>\n",
       "</div>"
      ],
      "text/plain": [
       "   municipio  local  zona  secao  eleitores_totais\n",
       "0      60011   1252   185    136               406\n",
       "1      60011   1341    14    164               446"
      ]
     },
     "execution_count": 42,
     "metadata": {},
     "output_type": "execute_result"
    }
   ],
   "source": [
    "eleitores_secao.head(2) # complementa o DataFrame anterior com a quantidade total de eleitores na seção"
   ]
  },
  {
   "cell_type": "code",
   "execution_count": 43,
   "metadata": {},
   "outputs": [],
   "source": [
    "eleitorado_secao = pd.merge(\n",
    "    eleitorado_secao,\n",
    "    eleitores_secao,\n",
    "    how='inner',\n",
    "    on=[\n",
    "        'municipio',\n",
    "        'local',\n",
    "        'zona',\n",
    "        'secao'\n",
    "    ]\n",
    ")"
   ]
  },
  {
   "cell_type": "code",
   "execution_count": 44,
   "metadata": {},
   "outputs": [
    {
     "data": {
      "text/html": [
       "<div>\n",
       "<style scoped>\n",
       "    .dataframe tbody tr th:only-of-type {\n",
       "        vertical-align: middle;\n",
       "    }\n",
       "\n",
       "    .dataframe tbody tr th {\n",
       "        vertical-align: top;\n",
       "    }\n",
       "\n",
       "    .dataframe thead th {\n",
       "        text-align: right;\n",
       "    }\n",
       "</style>\n",
       "<table border=\"1\" class=\"dataframe\">\n",
       "  <thead>\n",
       "    <tr style=\"text-align: right;\">\n",
       "      <th></th>\n",
       "      <th>municipio</th>\n",
       "      <th>local</th>\n",
       "      <th>zona</th>\n",
       "      <th>secao</th>\n",
       "      <th>ds_grau_escolaridade_ensino_médio_incompleto</th>\n",
       "      <th>ds_grau_escolaridade_superior_completo</th>\n",
       "      <th>ds_grau_escolaridade_ensino_fundamental_incompleto</th>\n",
       "      <th>ds_grau_escolaridade_ensino_fundamental_completo</th>\n",
       "      <th>ds_grau_escolaridade_lê_e_escreve</th>\n",
       "      <th>ds_grau_escolaridade_ensino_médio_completo</th>\n",
       "      <th>...</th>\n",
       "      <th>ds_faixa_etaria_90_a_94_anos</th>\n",
       "      <th>ds_faixa_etaria_100_anos_ou_mais</th>\n",
       "      <th>ds_faixa_etaria_95_a_99_anos</th>\n",
       "      <th>ds_faixa_etaria_17_anos</th>\n",
       "      <th>ds_faixa_etaria_16_anos</th>\n",
       "      <th>ds_faixa_etaria_inválida</th>\n",
       "      <th>ds_genero_feminino</th>\n",
       "      <th>ds_genero_masculino</th>\n",
       "      <th>ds_genero_não_informado</th>\n",
       "      <th>eleitores_totais</th>\n",
       "    </tr>\n",
       "  </thead>\n",
       "  <tbody>\n",
       "    <tr>\n",
       "      <th>0</th>\n",
       "      <td>58009</td>\n",
       "      <td>1015</td>\n",
       "      <td>255</td>\n",
       "      <td>23</td>\n",
       "      <td>61</td>\n",
       "      <td>23</td>\n",
       "      <td>114</td>\n",
       "      <td>37</td>\n",
       "      <td>42</td>\n",
       "      <td>91</td>\n",
       "      <td>...</td>\n",
       "      <td>4</td>\n",
       "      <td>0</td>\n",
       "      <td>1</td>\n",
       "      <td>7</td>\n",
       "      <td>0</td>\n",
       "      <td>0</td>\n",
       "      <td>175</td>\n",
       "      <td>211</td>\n",
       "      <td>0</td>\n",
       "      <td>386</td>\n",
       "    </tr>\n",
       "    <tr>\n",
       "      <th>1</th>\n",
       "      <td>58009</td>\n",
       "      <td>1015</td>\n",
       "      <td>255</td>\n",
       "      <td>24</td>\n",
       "      <td>79</td>\n",
       "      <td>29</td>\n",
       "      <td>99</td>\n",
       "      <td>26</td>\n",
       "      <td>48</td>\n",
       "      <td>83</td>\n",
       "      <td>...</td>\n",
       "      <td>0</td>\n",
       "      <td>1</td>\n",
       "      <td>0</td>\n",
       "      <td>10</td>\n",
       "      <td>1</td>\n",
       "      <td>0</td>\n",
       "      <td>183</td>\n",
       "      <td>203</td>\n",
       "      <td>0</td>\n",
       "      <td>386</td>\n",
       "    </tr>\n",
       "  </tbody>\n",
       "</table>\n",
       "<p>2 rows × 46 columns</p>\n",
       "</div>"
      ],
      "text/plain": [
       "   municipio  local  zona  secao  \\\n",
       "0      58009   1015   255     23   \n",
       "1      58009   1015   255     24   \n",
       "\n",
       "   ds_grau_escolaridade_ensino_médio_incompleto  \\\n",
       "0                                            61   \n",
       "1                                            79   \n",
       "\n",
       "   ds_grau_escolaridade_superior_completo  \\\n",
       "0                                      23   \n",
       "1                                      29   \n",
       "\n",
       "   ds_grau_escolaridade_ensino_fundamental_incompleto  \\\n",
       "0                                                114    \n",
       "1                                                 99    \n",
       "\n",
       "   ds_grau_escolaridade_ensino_fundamental_completo  \\\n",
       "0                                                37   \n",
       "1                                                26   \n",
       "\n",
       "   ds_grau_escolaridade_lê_e_escreve  \\\n",
       "0                                 42   \n",
       "1                                 48   \n",
       "\n",
       "   ds_grau_escolaridade_ensino_médio_completo  ...  \\\n",
       "0                                          91  ...   \n",
       "1                                          83  ...   \n",
       "\n",
       "   ds_faixa_etaria_90_a_94_anos  ds_faixa_etaria_100_anos_ou_mais  \\\n",
       "0                             4                                 0   \n",
       "1                             0                                 1   \n",
       "\n",
       "   ds_faixa_etaria_95_a_99_anos  ds_faixa_etaria_17_anos  \\\n",
       "0                             1                        7   \n",
       "1                             0                       10   \n",
       "\n",
       "   ds_faixa_etaria_16_anos  ds_faixa_etaria_inválida  ds_genero_feminino  \\\n",
       "0                        0                         0                 175   \n",
       "1                        1                         0                 183   \n",
       "\n",
       "   ds_genero_masculino  ds_genero_não_informado  eleitores_totais  \n",
       "0                  211                        0               386  \n",
       "1                  203                        0               386  \n",
       "\n",
       "[2 rows x 46 columns]"
      ]
     },
     "execution_count": 44,
     "metadata": {},
     "output_type": "execute_result"
    }
   ],
   "source": [
    "eleitorado_secao.head(2) # resultado obtido"
   ]
  },
  {
   "cell_type": "markdown",
   "metadata": {},
   "source": [
    "---"
   ]
  },
  {
   "cell_type": "markdown",
   "metadata": {},
   "source": [
    "### 2) Cria tabela com apuração dos resultados por seção de determinado candidato"
   ]
  },
  {
   "cell_type": "code",
   "execution_count": 45,
   "metadata": {},
   "outputs": [],
   "source": [
    "query = f\"\"\"\n",
    "    SELECT\n",
    "        NM_VOTAVEL as candidato,\n",
    "        CD_MUNICIPIO as municipio,\n",
    "        NR_LOCAL_VOTACAO as local,\n",
    "        NR_ZONA as zona,\n",
    "        NR_SECAO as secao,\n",
    "        NR_TURNO as turno,\n",
    "        QT_VOTOS as votos_recebidos\n",
    "    FROM\n",
    "        {ESTADO}.resultados\n",
    "    WHERE\n",
    "        NM_VOTAVEL LIKE '{'%' + CANDIDATO.replace(' ', '%') + '%'}'\n",
    "\"\"\""
   ]
  },
  {
   "cell_type": "code",
   "execution_count": 46,
   "metadata": {},
   "outputs": [],
   "source": [
    "resultado_secao = pd.read_sql(query, analise.conn)"
   ]
  },
  {
   "cell_type": "code",
   "execution_count": 47,
   "metadata": {},
   "outputs": [
    {
     "data": {
      "text/html": [
       "<div>\n",
       "<style scoped>\n",
       "    .dataframe tbody tr th:only-of-type {\n",
       "        vertical-align: middle;\n",
       "    }\n",
       "\n",
       "    .dataframe tbody tr th {\n",
       "        vertical-align: top;\n",
       "    }\n",
       "\n",
       "    .dataframe thead th {\n",
       "        text-align: right;\n",
       "    }\n",
       "</style>\n",
       "<table border=\"1\" class=\"dataframe\">\n",
       "  <thead>\n",
       "    <tr style=\"text-align: right;\">\n",
       "      <th></th>\n",
       "      <th>candidato</th>\n",
       "      <th>municipio</th>\n",
       "      <th>local</th>\n",
       "      <th>zona</th>\n",
       "      <th>secao</th>\n",
       "      <th>turno</th>\n",
       "      <th>votos_recebidos</th>\n",
       "    </tr>\n",
       "  </thead>\n",
       "  <tbody>\n",
       "    <tr>\n",
       "      <th>0</th>\n",
       "      <td>EDUARDO DA COSTA PAES</td>\n",
       "      <td>60011</td>\n",
       "      <td>1317</td>\n",
       "      <td>245</td>\n",
       "      <td>254</td>\n",
       "      <td>1</td>\n",
       "      <td>170</td>\n",
       "    </tr>\n",
       "    <tr>\n",
       "      <th>1</th>\n",
       "      <td>EDUARDO DA COSTA PAES</td>\n",
       "      <td>60011</td>\n",
       "      <td>1341</td>\n",
       "      <td>123</td>\n",
       "      <td>262</td>\n",
       "      <td>1</td>\n",
       "      <td>155</td>\n",
       "    </tr>\n",
       "  </tbody>\n",
       "</table>\n",
       "</div>"
      ],
      "text/plain": [
       "               candidato  municipio  local  zona  secao  turno  \\\n",
       "0  EDUARDO DA COSTA PAES      60011   1317   245    254      1   \n",
       "1  EDUARDO DA COSTA PAES      60011   1341   123    262      1   \n",
       "\n",
       "   votos_recebidos  \n",
       "0              170  \n",
       "1              155  "
      ]
     },
     "execution_count": 47,
     "metadata": {},
     "output_type": "execute_result"
    }
   ],
   "source": [
    "resultado_secao.head(2)"
   ]
  },
  {
   "cell_type": "code",
   "execution_count": 48,
   "metadata": {},
   "outputs": [],
   "source": [
    "resultado_perfil = pd.merge(\n",
    "    resultado_secao,\n",
    "    eleitorado_secao,\n",
    "    how='inner',\n",
    "    on=['municipio', 'local', 'zona', 'secao']\n",
    ")"
   ]
  },
  {
   "cell_type": "code",
   "execution_count": 49,
   "metadata": {},
   "outputs": [
    {
     "data": {
      "text/html": [
       "<div>\n",
       "<style scoped>\n",
       "    .dataframe tbody tr th:only-of-type {\n",
       "        vertical-align: middle;\n",
       "    }\n",
       "\n",
       "    .dataframe tbody tr th {\n",
       "        vertical-align: top;\n",
       "    }\n",
       "\n",
       "    .dataframe thead th {\n",
       "        text-align: right;\n",
       "    }\n",
       "</style>\n",
       "<table border=\"1\" class=\"dataframe\">\n",
       "  <thead>\n",
       "    <tr style=\"text-align: right;\">\n",
       "      <th></th>\n",
       "      <th>candidato</th>\n",
       "      <th>municipio</th>\n",
       "      <th>local</th>\n",
       "      <th>zona</th>\n",
       "      <th>secao</th>\n",
       "      <th>turno</th>\n",
       "      <th>votos_recebidos</th>\n",
       "      <th>ds_grau_escolaridade_ensino_médio_incompleto</th>\n",
       "      <th>ds_grau_escolaridade_superior_completo</th>\n",
       "      <th>ds_grau_escolaridade_ensino_fundamental_incompleto</th>\n",
       "      <th>...</th>\n",
       "      <th>ds_faixa_etaria_90_a_94_anos</th>\n",
       "      <th>ds_faixa_etaria_100_anos_ou_mais</th>\n",
       "      <th>ds_faixa_etaria_95_a_99_anos</th>\n",
       "      <th>ds_faixa_etaria_17_anos</th>\n",
       "      <th>ds_faixa_etaria_16_anos</th>\n",
       "      <th>ds_faixa_etaria_inválida</th>\n",
       "      <th>ds_genero_feminino</th>\n",
       "      <th>ds_genero_masculino</th>\n",
       "      <th>ds_genero_não_informado</th>\n",
       "      <th>eleitores_totais</th>\n",
       "    </tr>\n",
       "  </thead>\n",
       "  <tbody>\n",
       "    <tr>\n",
       "      <th>0</th>\n",
       "      <td>EDUARDO DA COSTA PAES</td>\n",
       "      <td>60011</td>\n",
       "      <td>1317</td>\n",
       "      <td>245</td>\n",
       "      <td>254</td>\n",
       "      <td>1</td>\n",
       "      <td>170</td>\n",
       "      <td>90</td>\n",
       "      <td>38</td>\n",
       "      <td>60</td>\n",
       "      <td>...</td>\n",
       "      <td>4</td>\n",
       "      <td>8</td>\n",
       "      <td>10</td>\n",
       "      <td>0</td>\n",
       "      <td>1</td>\n",
       "      <td>0</td>\n",
       "      <td>263</td>\n",
       "      <td>194</td>\n",
       "      <td>2</td>\n",
       "      <td>459</td>\n",
       "    </tr>\n",
       "    <tr>\n",
       "      <th>1</th>\n",
       "      <td>EDUARDO DA COSTA PAES</td>\n",
       "      <td>60011</td>\n",
       "      <td>1341</td>\n",
       "      <td>123</td>\n",
       "      <td>262</td>\n",
       "      <td>1</td>\n",
       "      <td>155</td>\n",
       "      <td>70</td>\n",
       "      <td>18</td>\n",
       "      <td>100</td>\n",
       "      <td>...</td>\n",
       "      <td>7</td>\n",
       "      <td>10</td>\n",
       "      <td>11</td>\n",
       "      <td>0</td>\n",
       "      <td>0</td>\n",
       "      <td>0</td>\n",
       "      <td>239</td>\n",
       "      <td>186</td>\n",
       "      <td>0</td>\n",
       "      <td>425</td>\n",
       "    </tr>\n",
       "  </tbody>\n",
       "</table>\n",
       "<p>2 rows × 49 columns</p>\n",
       "</div>"
      ],
      "text/plain": [
       "               candidato  municipio  local  zona  secao  turno  \\\n",
       "0  EDUARDO DA COSTA PAES      60011   1317   245    254      1   \n",
       "1  EDUARDO DA COSTA PAES      60011   1341   123    262      1   \n",
       "\n",
       "   votos_recebidos  ds_grau_escolaridade_ensino_médio_incompleto  \\\n",
       "0              170                                            90   \n",
       "1              155                                            70   \n",
       "\n",
       "   ds_grau_escolaridade_superior_completo  \\\n",
       "0                                      38   \n",
       "1                                      18   \n",
       "\n",
       "   ds_grau_escolaridade_ensino_fundamental_incompleto  ...  \\\n",
       "0                                                 60   ...   \n",
       "1                                                100   ...   \n",
       "\n",
       "   ds_faixa_etaria_90_a_94_anos  ds_faixa_etaria_100_anos_ou_mais  \\\n",
       "0                             4                                 8   \n",
       "1                             7                                10   \n",
       "\n",
       "   ds_faixa_etaria_95_a_99_anos  ds_faixa_etaria_17_anos  \\\n",
       "0                            10                        0   \n",
       "1                            11                        0   \n",
       "\n",
       "   ds_faixa_etaria_16_anos  ds_faixa_etaria_inválida  ds_genero_feminino  \\\n",
       "0                        1                         0                 263   \n",
       "1                        0                         0                 239   \n",
       "\n",
       "   ds_genero_masculino  ds_genero_não_informado  eleitores_totais  \n",
       "0                  194                        2               459  \n",
       "1                  186                        0               425  \n",
       "\n",
       "[2 rows x 49 columns]"
      ]
     },
     "execution_count": 49,
     "metadata": {},
     "output_type": "execute_result"
    }
   ],
   "source": [
    "resultado_perfil.head(2)"
   ]
  },
  {
   "cell_type": "code",
   "execution_count": 50,
   "metadata": {},
   "outputs": [],
   "source": [
    "resultado_perfil['percentual_votos'] = resultado_perfil['votos_recebidos']/resultado_perfil['eleitores_totais']"
   ]
  },
  {
   "cell_type": "code",
   "execution_count": 51,
   "metadata": {},
   "outputs": [],
   "source": [
    "output_dir = config['paths']['processed_data']\n",
    "nome = resultado_perfil['candidato'][0].replace(' ', '_')"
   ]
  },
  {
   "cell_type": "code",
   "execution_count": 52,
   "metadata": {},
   "outputs": [],
   "source": [
    "resultado_perfil.to_csv(f'{output_dir}/{nome}.csv')"
   ]
  }
 ],
 "metadata": {
  "kernelspec": {
   "display_name": "Python 3",
   "language": "python",
   "name": "python3"
  },
  "language_info": {
   "codemirror_mode": {
    "name": "ipython",
    "version": 3
   },
   "file_extension": ".py",
   "mimetype": "text/x-python",
   "name": "python",
   "nbconvert_exporter": "python",
   "pygments_lexer": "ipython3",
   "version": "3.12.8"
  }
 },
 "nbformat": 4,
 "nbformat_minor": 2
}
